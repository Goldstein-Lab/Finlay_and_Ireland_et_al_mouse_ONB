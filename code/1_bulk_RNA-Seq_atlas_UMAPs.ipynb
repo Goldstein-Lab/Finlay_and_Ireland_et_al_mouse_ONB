{
 "cells": [
  {
   "cell_type": "markdown",
   "id": "f1e42595-0b9c-4835-adba-d598e6cfd778",
   "metadata": {},
   "source": [
    "# Prep Environment"
   ]
  },
  {
   "cell_type": "code",
   "execution_count": null,
   "id": "fe613b67-2b04-447d-b0f5-743c9584de7c",
   "metadata": {},
   "outputs": [],
   "source": [
    "#Import relevant packages\n",
    "import numpy as np\n",
    "import pandas as pd\n",
    "from matplotlib import rcParams\n",
    "import os\n",
    "import scanpy as sc\n",
    "import anndata as ad\n",
    "\n",
    "import matplotlib as mpl\n",
    "import matplotlib.pyplot as plt\n",
    "import matplotlib.cm as cm\n",
    "\n",
    "#For nice color schemes\n",
    "import cmocean\n",
    "\n",
    "#For barplots\n",
    "import seaborn as sns\n",
    "from statannot import add_stat_annotation"
   ]
  },
  {
   "cell_type": "code",
   "execution_count": null,
   "id": "e8b1295d-2a2c-4b6e-b315-5dfc36094ff2",
   "metadata": {},
   "outputs": [],
   "source": [
    "os.chdir('/hpc/group/goldsteinlab/Python')"
   ]
  },
  {
   "cell_type": "code",
   "execution_count": null,
   "id": "274b4fb8-eb88-4593-912c-5fd659fb7e74",
   "metadata": {},
   "outputs": [],
   "source": [
    "#Show full pandas dataframe when produced\n",
    "pd.set_option('display.max_columns', 100)\n",
    "pd.set_option('display.max_rows', 100)"
   ]
  },
  {
   "cell_type": "code",
   "execution_count": null,
   "id": "eab4ee5a-9d73-45ca-bdfc-71a912686a33",
   "metadata": {},
   "outputs": [],
   "source": [
    "#Set fontsize\n",
    "plt.rcParams.update({'font.size': 15})"
   ]
  },
  {
   "cell_type": "code",
   "execution_count": 2,
   "id": "4cb83974-661d-4065-bbd8-2995463993d9",
   "metadata": {
    "tags": []
   },
   "outputs": [],
   "source": [
    "%matplotlib inline"
   ]
  },
  {
   "cell_type": "markdown",
   "id": "1db6b5f6-91f9-459d-a39d-4b0e62dd072f",
   "metadata": {},
   "source": [
    "# Read data"
   ]
  },
  {
   "cell_type": "code",
   "execution_count": null,
   "id": "796115b9-2483-4e4e-a868-0a4c320e7a00",
   "metadata": {},
   "outputs": [],
   "source": [
    "# read full count matrix\n",
    "full_counts = pd.read_csv('/hpc/group/goldsteinlab/R/Working_directory/bulk_seq_atlas/1000hvgs_604sample_bulk_RNA_Seq_atlas.csv')"
   ]
  },
  {
   "cell_type": "code",
   "execution_count": null,
   "id": "936be852-d62c-4036-965d-856cabd71a88",
   "metadata": {},
   "outputs": [],
   "source": [
    "full_counts"
   ]
  },
  {
   "cell_type": "code",
   "execution_count": null,
   "id": "8060c780-b74b-4a6c-a032-82c386a9c2cd",
   "metadata": {},
   "outputs": [],
   "source": [
    "# make gene names row indices\n",
    "genes = full_counts.iloc[:, 0]\n",
    "full_counts.set_index(genes, inplace=True)"
   ]
  },
  {
   "cell_type": "code",
   "execution_count": null,
   "id": "40f6b19d-664b-4881-89b8-722c2fa59486",
   "metadata": {},
   "outputs": [],
   "source": [
    "# drop exogenous column\n",
    "full_counts=full_counts.drop(columns=full_counts.columns[0])"
   ]
  },
  {
   "cell_type": "code",
   "execution_count": null,
   "id": "a14ecde1-9d05-4665-947b-f1ab153ea72b",
   "metadata": {},
   "outputs": [],
   "source": [
    "#transpose df\n",
    "full_counts = full_counts.T"
   ]
  },
  {
   "cell_type": "code",
   "execution_count": null,
   "id": "f148ab0d-c5a9-428e-9c6f-fe64717c2e41",
   "metadata": {},
   "outputs": [],
   "source": [
    "# create anndata object from counts df\n",
    "adata = ad.AnnData(X=full_counts)"
   ]
  },
  {
   "cell_type": "code",
   "execution_count": null,
   "id": "e0e5332f-10ae-45ad-ab56-bdde1c4f89fa",
   "metadata": {},
   "outputs": [],
   "source": [
    "# read in list of conditions to add to .obs\n",
    "conds = pd.read_csv('/hpc/group/goldsteinlab/R/Working_directory/bulk_seq_atlas/updated_sample_order_604_samples.csv')"
   ]
  },
  {
   "cell_type": "code",
   "execution_count": null,
   "id": "97b1a792-855e-40a1-bb63-0dfded743d91",
   "metadata": {},
   "outputs": [],
   "source": [
    "# set row indices to be the same as obs_names in adata (allows for transfer over)\n",
    "\n",
    "# make gene names row indices\n",
    "row_indices = full_counts.index # this is full_counts from df used to make adata above\n",
    "conds.set_index(row_indices, inplace=True)"
   ]
  },
  {
   "cell_type": "code",
   "execution_count": null,
   "id": "c4970308-ab9c-4094-af71-9338420cd69d",
   "metadata": {},
   "outputs": [],
   "source": [
    "# add obs\n",
    "adata.obs['tumor_type']=conds['x']"
   ]
  },
  {
   "cell_type": "code",
   "execution_count": null,
   "id": "f69e39a1-b82d-4122-b2d4-87bd2e3433be",
   "metadata": {},
   "outputs": [],
   "source": [
    "# check to make sure obs match up\n",
    "adata.obs"
   ]
  },
  {
   "cell_type": "markdown",
   "id": "030e70f9-d7f0-45be-9d95-62b500d4ff40",
   "metadata": {},
   "source": [
    "# Generate clustering and UMAPs"
   ]
  },
  {
   "cell_type": "code",
   "execution_count": null,
   "id": "9d3a3480-c53e-4a37-a7e6-9d20605e0140",
   "metadata": {},
   "outputs": [],
   "source": [
    "# Generate PCs and UMAP\n",
    "\n",
    "# define pcs\n",
    "pcs=60\n",
    "\n",
    "sc.pp.pca(adata, n_comps=pcs)\n",
    "sc.pl.pca_variance_ratio(adata, log=True, n_pcs=pcs)"
   ]
  },
  {
   "cell_type": "code",
   "execution_count": null,
   "id": "0bc69b3f-abc5-4061-b849-abff4c5357e5",
   "metadata": {},
   "outputs": [],
   "source": [
    "sc.pp.neighbors(adata, n_pcs=pcs, n_neighbors=10)\n",
    "sc.tl.leiden(adata, resolution=0.8)\n",
    "sc.tl.umap(adata)"
   ]
  },
  {
   "cell_type": "code",
   "execution_count": null,
   "id": "05c80f13-f83d-4373-9bb8-65e759d285bc",
   "metadata": {},
   "outputs": [],
   "source": [
    "# plot UMAP\n",
    "fig, ax = plt.subplots(figsize=(6, 6))\n",
    "sc.pl.umap(adata, color=\"leiden\", legend_loc='on data',\n",
    "        ax=ax, frameon=False, save=False, \n",
    "          legend_fontoutline=2)"
   ]
  },
  {
   "cell_type": "code",
   "execution_count": null,
   "id": "6a2fcb6e-0b60-4ea9-a508-6bdae7115835",
   "metadata": {},
   "outputs": [],
   "source": [
    "fig, ax = plt.subplots(figsize=(10, 10))\n",
    "sc.pl.umap(adata, color=\"tumor_type\", legend_loc='on data',\n",
    "        ax=ax, frameon=False, save=False, \n",
    "          legend_fontoutline=2)"
   ]
  },
  {
   "cell_type": "markdown",
   "id": "56d41617-c632-419e-91a5-43bfd06e3a7c",
   "metadata": {},
   "source": [
    "# Perform DE"
   ]
  },
  {
   "cell_type": "code",
   "execution_count": null,
   "id": "cde449a8-a541-4775-a07d-5c15e01aecfd",
   "metadata": {},
   "outputs": [],
   "source": [
    "# Find marker genes for leiden clusters\n",
    "#Find cluster markers\n",
    "sc.tl.rank_genes_groups(adata, 'leiden', method='wilcoxon', layer='counts', use_raw=False)\n",
    "pd.DataFrame(adata.uns['rank_genes_groups']['names']).head(50)\n",
    "\n",
    "# ONB, SCLC, PNEC in leiden cluster 1\n",
    "# neuroblastoma in leiden cluster 18\n",
    "# Medulloblastoma cluster 9\n",
    "# glioma cluster 5"
   ]
  },
  {
   "cell_type": "code",
   "execution_count": null,
   "id": "c9d3a942-4beb-4436-95e0-f11d04f46c54",
   "metadata": {},
   "outputs": [],
   "source": [
    "# find drivers of neural vs. neuroendocrine tumor clusters\n",
    "\n",
    "# Combine clusters '9', '5', and '18' into 'neural tumors'\n",
    "adata.obs['new_category'] = adata.obs['leiden'].replace({'9': 'neural tumors', '5': 'neural tumors', '18': 'neural tumors'})\n",
    "\n",
    "# Rename cluster '1' to 'neuroendocrine tumors'\n",
    "adata.obs['new_category'] = adata.obs['new_category'].replace({'1': 'neuroendocrine tumors'})\n",
    "\n",
    "# You may want to visualize the new category\n",
    "sc.pl.umap(adata, color='new_category', legend_loc='on data')\n",
    "\n",
    "# If you are satisfied with the result, you can remove the original 'leiden' information\n",
    "adata.obs.drop('leiden', axis=1, inplace=True)"
   ]
  },
  {
   "cell_type": "code",
   "execution_count": null,
   "id": "5504d97a-ca58-40bd-b3b9-4c4e1b23576f",
   "metadata": {},
   "outputs": [],
   "source": [
    "# remove normal OE\n",
    "# Now remove COVID and Presbyosmic patients\n",
    "bad_clust=['Normal OE']\n",
    "\n",
    "#Filter out bad clusters\n",
    "to_keep=(~adata.obs['tumor_type'].isin(bad_clust))\n",
    "\n",
    "#Copy over to new anndata object\n",
    "adata_hvg_no_OE = adata[to_keep].copy()"
   ]
  },
  {
   "cell_type": "code",
   "execution_count": null,
   "id": "2cf19b2d-11cb-4d47-8df8-de4513208596",
   "metadata": {},
   "outputs": [],
   "source": [
    "# Perform DE comparing specific clusters\n",
    "\n",
    "#Find cluster markers\n",
    "sc.tl.rank_genes_groups(adata_hvg_no_OE, 'new_category', groups=['neural tumors'], reference=\"neuroendocrine tumors\", method='wilcoxon', layer='counts', use_raw=False)\n",
    "pd.DataFrame(adata_hvg_no_OE.uns['rank_genes_groups']['names']).head(50)"
   ]
  },
  {
   "cell_type": "code",
   "execution_count": null,
   "id": "a1ff75b0-2c40-4990-8541-5ab58277e2a5",
   "metadata": {},
   "outputs": [],
   "source": [
    "result = adata_hvg_no_OE.uns['rank_genes_groups']\n",
    "groups = result['names'].dtype.names\n",
    "df_neural_tumors=pd.DataFrame(\n",
    "    {group + '_' + key[:10]: result[key][group]\n",
    "    for group in groups for key in ['names', 'pvals_adj']})"
   ]
  }
 ],
 "metadata": {
  "kernelspec": {
   "display_name": "Python3.9_torch_env",
   "language": "python",
   "name": "pytorch"
  },
  "language_info": {
   "codemirror_mode": {
    "name": "ipython",
    "version": 3
   },
   "file_extension": ".py",
   "mimetype": "text/x-python",
   "name": "python",
   "nbconvert_exporter": "python",
   "pygments_lexer": "ipython3",
   "version": "3.9.18"
  }
 },
 "nbformat": 4,
 "nbformat_minor": 5
}
