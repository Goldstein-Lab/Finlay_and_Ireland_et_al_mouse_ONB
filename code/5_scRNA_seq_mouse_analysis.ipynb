{
 "cells": [
  {
   "cell_type": "markdown",
   "id": "5776ca90-de62-46f4-9aa0-00cc4dd4f76e",
   "metadata": {},
   "source": [
    "# Prep environment"
   ]
  },
  {
   "cell_type": "code",
   "execution_count": null,
   "id": "d79a3d70-b55f-4b33-ace9-3739d053179e",
   "metadata": {},
   "outputs": [],
   "source": [
    "#Import relevant packages\n",
    "import numpy as np\n",
    "import pandas as pd\n",
    "from matplotlib import rcParams\n",
    "import os\n",
    "import scanpy as sc\n",
    "\n",
    "import matplotlib as mpl\n",
    "import matplotlib.pyplot as plt\n",
    "\n",
    "#For nice color schemes\n",
    "import cmocean\n",
    "\n",
    "#For barplots\n",
    "import seaborn as sns"
   ]
  },
  {
   "cell_type": "code",
   "execution_count": null,
   "id": "f52499c5-619d-4ed4-82bd-eca1c03c7d77",
   "metadata": {},
   "outputs": [],
   "source": [
    "#Import scVI\n",
    "import scvi\n",
    "from scvi.model.utils import mde\n",
    "\n",
    "scvi.settings.verbosity = 40"
   ]
  },
  {
   "cell_type": "code",
   "execution_count": null,
   "id": "4f6b0907-62ee-42dc-be2f-aa97f92b8ce1",
   "metadata": {},
   "outputs": [],
   "source": [
    "# for optimal transport\n",
    "import scipy\n",
    "from scipy.spatial.distance import cdist\n",
    "\n",
    "from sklearn.cluster import AgglomerativeClustering, SpectralClustering\n",
    "\n",
    "from sklearn.metrics import silhouette_score\n",
    "from sklearn.metrics import adjusted_rand_score\n",
    "from sklearn.metrics import adjusted_mutual_info_score\n",
    "from sklearn.metrics import normalized_mutual_info_score\n",
    "\n",
    "import sklearn\n",
    "\n",
    "from tqdm import tqdm\n",
    "\n",
    "import otscomics"
   ]
  },
  {
   "cell_type": "code",
   "execution_count": null,
   "id": "f225e33b-9a27-4d3a-9121-45e4789f9b2e",
   "metadata": {},
   "outputs": [],
   "source": [
    "#Set fontsize\n",
    "plt.rcParams.update({'font.size': 20})"
   ]
  },
  {
   "cell_type": "code",
   "execution_count": null,
   "id": "bd7f846f-5601-43e4-97ee-c99266a48742",
   "metadata": {},
   "outputs": [],
   "source": [
    "#Set wd \n",
    "os.chdir('/hpc/group/goldsteinlab/Python')"
   ]
  },
  {
   "cell_type": "code",
   "execution_count": null,
   "id": "32127f06-b1c4-48b0-b367-844ff25fdf3c",
   "metadata": {},
   "outputs": [],
   "source": [
    "#Show specific size of pandas dataframe when produced\n",
    "pd.set_option('display.max_columns', 100)\n",
    "pd.set_option('display.max_rows', 100)"
   ]
  },
  {
   "cell_type": "code",
   "execution_count": 1,
   "id": "0c1a7270-969e-4582-ba19-927d5986e930",
   "metadata": {
    "tags": []
   },
   "outputs": [],
   "source": [
    "%matplotlib inline"
   ]
  },
  {
   "cell_type": "markdown",
   "id": "45fcae13-a13c-4803-ba53-0231b53a3e54",
   "metadata": {},
   "source": [
    "# Read in datasets"
   ]
  },
  {
   "cell_type": "code",
   "execution_count": null,
   "id": "ac6dff24-88d8-4ed5-bbdf-e0a2e5a57c38",
   "metadata": {},
   "outputs": [],
   "source": [
    "# For full OE + primary RPM and RPMA tumors\n",
    "adata=sc.read_h5ad('OE_atlas_with_ONB_tumors_all_cells.h5ad')"
   ]
  },
  {
   "cell_type": "code",
   "execution_count": null,
   "id": "e1b52ba1-ecca-4bf0-a7b8-ffc979fb8b53",
   "metadata": {},
   "outputs": [],
   "source": [
    "# For just RPM and RPMA primary tumor cells\n",
    "adata=sc.read_h5ad('Primary_ONB_tumors_only_scvi.h5ad')"
   ]
  },
  {
   "cell_type": "markdown",
   "id": "d858191e-ab1b-49b5-95d4-17cabb020818",
   "metadata": {},
   "source": [
    "# Dotplots"
   ]
  },
  {
   "cell_type": "code",
   "execution_count": null,
   "id": "72ed6111-e76f-439d-9699-a32d28d6e451",
   "metadata": {},
   "outputs": [],
   "source": [
    "# plot dotplot showing expression of canonical markers across cell types\n",
    "\n",
    "genes=['Krt5', 'Krt17', 'Sox2', 'Trp63', #HBC\n",
    "      'Hes6', 'Kit', 'Ascl1', 'Mki67', 'Top2a', #GBC\n",
    "      'Neurod1', 'Neurog1', 'Sox11', 'Zfp423', 'Ebf1', 'Lhx2', #INP\n",
    "      'Olig2', 'Gng8', 'Ebf4', 'Tubb3', #iOSN\n",
    "      'Omp', 'Gng13', 'Rtp1', 'Gfy', 'Stoml3', #mOSN\n",
    "      'S100b', 'Plp1', 'Apoe', #OEC\n",
    "      'Pou2f3', 'Sox9', 'Trpm5', 'Chat', 'Avil', 'Krt8', 'Krt18', #MV tuft like\n",
    "      'Foxi1', 'Cftr', 'Ascl3', 'Smbd1', 'Stap1', 'Moxd1', 'Atp6v0d2', 'Krt8', 'Krt18', #MV ionocyte like\n",
    "       'Sox9', 'Sox10', #BG\n",
    "      'Cyp2j6', 'Cxcl17', 'Ermn', 'Sox2', 'Krt8', 'Krt18', #Sus\n",
    "      'Dcn', 'Pdgfra', 'Vim', #Fibroblasts\n",
    "       'Sox17', 'Vwf', 'Tagln', 'Eng', #pericytes\n",
    "        'Ptprc', 'Cd68', 'C1qa', 'C1qb', 'Cd14', 'Adgre1', #myeloid\n",
    "       'Ptprc', 'Cd3d', 'Cd3e', 'Cd4', 'Cd8a', #lymphoid\n",
    "      'Myc', 'Cas9', 'fLuc' #tumor markers\n",
    "      ]\n",
    "\n",
    "fig, ax = plt.subplots(figsize=(7,22))\n",
    "sc.pl.dotplot(adata, genes, groupby='cluster_names', layer='norm', ax=ax, cmap='Purples',\n",
    "             swap_axes=True,\n",
    "             save=False, categories_order=['HBC', 'GBC', 'INP', \n",
    "                                          'iOSN', 'mOSN', 'Olfactory ensheathing', 'MV tuft-like', 'MV ionocyte-like',\n",
    "                                         'Bowmans Glands', 'Sustentacular', 'Fibroblast', 'Pericyte',\n",
    "                                          'Myeloid', 'Lymphoid', 'RPM tumor', 'RPMA tumor'],\n",
    "              standard_scale='var',\n",
    "              mean_only_expressed=False,\n",
    "             vcenter=0.5)"
   ]
  },
  {
   "cell_type": "code",
   "execution_count": 2,
   "id": "10b25e43-cb44-41b9-88d0-63ea188766bc",
   "metadata": {
    "tags": []
   },
   "outputs": [],
   "source": [
    "# dotplot specific for RPM and RPMA analyses\n",
    "# using adata object with just RPM and RPMA tumors\n",
    "\n",
    "# for ease of visualization, normalize, log1p, and scale .X\n",
    "sc.pp.normalize_total(adata, target_sum=1e4)\n",
    "sc.pp.log1p(adata)\n",
    "sc.pp.scale(adata)\n",
    "\n",
    "# can now generate dotplot, like so:\n",
    "genes=['Krt5', 'Krt17', 'Sox2', 'Trp63', #HBC\n",
    "      'Hes6', 'Kit', 'Ascl1', 'Mki67', 'Top2a', #GBC\n",
    "      'Neurod1', 'Neurog1', 'Sox11', 'Zfp423', 'Ebf1', 'Lhx2', #INP\n",
    "      'Olig2', 'Gng8', 'Ebf4', 'Tubb3', #iOSN\n",
    "      'Omp', 'Gng13', 'Rtp1', 'Gfy', 'Stoml3', #mOSN\n",
    "      'Pou2f3', 'Sox9', 'Trpm5', 'Avil', 'Chat', 'Krt8', 'Krt18', #MV tuft like\n",
    "      'Foxi1', 'Cftr', 'Smbd1', 'Stap1', 'Moxd1', 'Atp6v0d2', 'Asgr1', 'Ascl3', 'Krt8', 'Krt18', #MV ionocyte like\n",
    "       'Sox9', 'Sox10', #BG\n",
    "      'Cyp2j6', 'Cxcl17', 'Ermn', 'Sox2', 'Krt8', 'Krt18', #Sus\n",
    "      ]\n",
    "\n",
    "fig, ax = plt.subplots(figsize=(13.5,3))\n",
    "sc.pl.dotplot(adata, genes, groupby='tumor_type', ax=ax, cmap='Purples',\n",
    "             swap_axes=False,\n",
    "             save=True, categories_order=['RPM', 'RPMA'],\n",
    "              standard_scale=False,\n",
    "              mean_only_expressed=False,\n",
    "             vcenter=0.5, vmin=-3, vmax=2)"
   ]
  },
  {
   "cell_type": "markdown",
   "id": "5b5747a3-7ce5-4892-a397-e2bf52182022",
   "metadata": {},
   "source": [
    "# Cell cycle genes"
   ]
  },
  {
   "cell_type": "code",
   "execution_count": null,
   "id": "f0dfce07-f66a-4419-9296-a1e057fbb33e",
   "metadata": {},
   "outputs": [],
   "source": [
    "# Cell cycle identification\n",
    "\n",
    "#Normalize X and then log and scale before scoring\n",
    "sc.pp.normalize_per_cell(adata, counts_per_cell_after=1e4)\n",
    "sc.pp.log1p(adata)\n",
    "sc.pp.scale(adata)"
   ]
  },
  {
   "cell_type": "markdown",
   "id": "a159ec18-0454-4641-8743-5b76ff968972",
   "metadata": {},
   "source": [
    "Note, gene lists below are from Tirosh gene set (PMC5465819), used R to convert to mouse homologs to run in mice datasets"
   ]
  },
  {
   "cell_type": "code",
   "execution_count": null,
   "id": "d7c689ef-ca72-4860-94ce-5bedfce2c9fa",
   "metadata": {},
   "outputs": [],
   "source": [
    "#Need to load in cell cycle genes list\n",
    "s_genes_csv=pd.read_csv('/hpc/group/goldsteinlab/R/Working_directory/mouse_cell_cycle_genes_s.csv')\n",
    "#Select sample/condition gene list that you want\n",
    "s_genes_csv=s_genes_csv[['gene']]\n",
    "#Convert df or series to list\n",
    "s_genes=s_genes_csv.squeeze().str.strip().to_list()"
   ]
  },
  {
   "cell_type": "code",
   "execution_count": null,
   "id": "ed5a79a6-61fa-427c-9701-11540ba28969",
   "metadata": {},
   "outputs": [],
   "source": [
    "#Need to load in cell cycle genes list\n",
    "g2m_genes_csv=pd.read_csv('/hpc/group/goldsteinlab/R/Working_directory/mouse_cell_cycle_genes_g2m.csv')\n",
    "#Select sample/condition gene list that you want\n",
    "g2m_genes_csv=g2m_genes_csv[['gene']]\n",
    "#Convert df or series to list\n",
    "g2m_genes=g2m_genes_csv.squeeze().str.strip().to_list()"
   ]
  },
  {
   "cell_type": "code",
   "execution_count": null,
   "id": "38f79752-ff5e-4530-9cf4-d6bd109471f4",
   "metadata": {},
   "outputs": [],
   "source": [
    "sc.tl.score_genes_cell_cycle(adata, s_genes=s_genes, g2m_genes=g2m_genes)"
   ]
  },
  {
   "cell_type": "code",
   "execution_count": null,
   "id": "321eb7a3-3327-426e-bb86-0149bde0f93a",
   "metadata": {},
   "outputs": [],
   "source": [
    "cell_cycle_genes=s_genes+g2m_genes"
   ]
  },
  {
   "cell_type": "code",
   "execution_count": null,
   "id": "4d743426-89c8-4b6e-a429-0ffca556e272",
   "metadata": {},
   "outputs": [],
   "source": [
    "fig, ax = plt.subplots(figsize=(5, 5))\n",
    "sc.pl.umap(adata, color=\"phase\", legend_loc='right margin',\n",
    "        ax=ax, frameon=False, save=False)"
   ]
  },
  {
   "cell_type": "markdown",
   "id": "a465065d-eabe-400b-92e0-0125ba0ad518",
   "metadata": {},
   "source": [
    "# Cell type markers"
   ]
  },
  {
   "cell_type": "code",
   "execution_count": null,
   "id": "991a84e0-f39a-420b-996a-a401be04c45f",
   "metadata": {},
   "outputs": [],
   "source": [
    "# generate list of differentially expressed genes for each cell type\n",
    "\n",
    "#First filter so only cell-types we care about\n",
    "bad_clust=['Fibroblast', 'Lymphoid', 'Myeloid', 'Olfactory ensheathing', 'Pericyte']\n",
    "\n",
    "#Filter out bad clusters\n",
    "to_keep=(~adata.obs['cluster_names'].isin(bad_clust))\n",
    "\n",
    "#Copy over to new anndata object\n",
    "adata_f = adata[to_keep].copy()"
   ]
  },
  {
   "cell_type": "code",
   "execution_count": null,
   "id": "66347722-653e-4258-bbb5-9c721f8d6e75",
   "metadata": {},
   "outputs": [],
   "source": [
    "#Calculate highly variable genes using scVI methods\n",
    "df_poisson = scvi.data.poisson_gene_selection(\n",
    "    adata_f, n_top_genes=3000, batch_key=\"mouse_ident\", inplace=False\n",
    ")\n",
    "\n",
    "df_poisson[df_poisson.highly_variable].sort_values('prob_zero_enrichment_rank')\n",
    "\n",
    "pd.crosstab(df_poisson.highly_variable, adata_f.var.highly_variable)\n",
    "\n",
    "is_hvg = df_poisson.highly_variable\n",
    "\n",
    "adata_f.varm['df_poisson']= df_poisson\n",
    "\n",
    "adata_query = adata_f[:, is_hvg].copy()\n",
    "print(adata_query)"
   ]
  },
  {
   "cell_type": "code",
   "execution_count": null,
   "id": "13bf2074-55e0-494a-bf7e-9bc01b537126",
   "metadata": {},
   "outputs": [],
   "source": [
    "# scvi runs on raw data, but following hvg gene selection, need to make sure everything below is run on normalized data\n",
    "adata_query.X=adata_query.layers['norm'].copy()"
   ]
  },
  {
   "cell_type": "code",
   "execution_count": null,
   "id": "7fa78019-7441-46e3-af3d-b27750f6f16e",
   "metadata": {},
   "outputs": [],
   "source": [
    "#Now find all markers\n",
    "#Find cluster markers\n",
    "sc.tl.rank_genes_groups(adata_query, 'cluster_names', method='wilcoxon', use_raw=False)\n",
    "pd.DataFrame(adata_query.uns['rank_genes_groups']['names']).head(10)"
   ]
  },
  {
   "cell_type": "code",
   "execution_count": null,
   "id": "97bb156e-a5e6-4dee-8e9c-61359f3434d5",
   "metadata": {},
   "outputs": [],
   "source": [
    "df.to_csv('Wilcoxon_marker_genes_per_cluster.csv')"
   ]
  },
  {
   "cell_type": "code",
   "execution_count": null,
   "id": "3a189dfa-19b1-43ce-8180-f69542003cbb",
   "metadata": {},
   "outputs": [],
   "source": [
    "#Calculate PCs\n",
    "sc.pp.pca(adata_query, n_comps=30)\n",
    "sc.pl.pca_variance_ratio(adata_query, n_pcs=30)"
   ]
  },
  {
   "cell_type": "code",
   "execution_count": null,
   "id": "50910a62-ffe1-44c1-955a-3caa9d946626",
   "metadata": {},
   "outputs": [],
   "source": [
    "#Run dendrogram\n",
    "sc.tl.dendrogram(adata_query, groupby='cluster_names', n_pcs=30)"
   ]
  },
  {
   "cell_type": "code",
   "execution_count": null,
   "id": "c55e5f09-482e-4f1e-a1ff-f89c82bea7e9",
   "metadata": {},
   "outputs": [],
   "source": [
    "# log1p and scale for visualization on heatmap\n",
    "sc.pp.log1p(adata_query)\n",
    "sc.pp.scale(adata_query)"
   ]
  },
  {
   "cell_type": "code",
   "execution_count": null,
   "id": "b652da6e-337a-4762-9742-d46347699479",
   "metadata": {},
   "outputs": [],
   "source": [
    "# randomly subsample equal numbers of cells across clusters for nicer plotting visualization\n",
    "\n",
    "# Set the random seed for reproducibility\n",
    "np.random.seed(42)\n",
    "\n",
    "# Initialize an empty list to store the sampled cell indices\n",
    "sampled_indices = []\n",
    "\n",
    "# Iterate over each cluster\n",
    "for cluster_label in adata_query.obs['cluster_names'].unique():\n",
    "    # Get the cell indices belonging to the current cluster\n",
    "    cluster_indices = np.where(adata_query.obs['cluster_names'] == cluster_label)[0]\n",
    "    \n",
    "    # Randomly sample 100 cells from the cluster\n",
    "    sampled_indices.extend(np.random.choice(cluster_indices, size=100, replace=False))\n",
    "\n",
    "# Subset the AnnData object to include only the sampled cells\n",
    "sampled_adata = adata_query[sampled_indices, :]\n",
    "\n",
    "# Print the number of sampled cells per cluster\n",
    "for cluster_label in sampled_adata.obs['cluster_names'].unique():\n",
    "    num_cells = np.sum(sampled_adata.obs['cluster_names'] == cluster_label)\n",
    "    print(f\"Cluster {cluster_label}: {num_cells} cells\")"
   ]
  },
  {
   "cell_type": "code",
   "execution_count": null,
   "id": "2a950bb9-fcd2-4973-8d24-07352a4a9831",
   "metadata": {},
   "outputs": [],
   "source": [
    "# Plot rank genes groups (here clustering by annotated group name)\n",
    "sc.pl.rank_genes_groups_heatmap(sampled_adata, groupby='cluster_names', n_genes=30, \n",
    "                            swap_axes=True, cmap='RdBu_r', \n",
    "                                standard_scale='obs', \n",
    "                                #vmin=-1,  vmax=1, \n",
    "                                figsize=[25,6], show_gene_labels=False,\n",
    "                               min_logfoldchange=1, save=True)"
   ]
  },
  {
   "cell_type": "markdown",
   "id": "4c782afe-b1db-4a6c-a138-c5580b1853a6",
   "metadata": {},
   "source": [
    "# Gene set (module) scores"
   ]
  },
  {
   "cell_type": "code",
   "execution_count": null,
   "id": "5ea5ee75-d8dc-4cf1-9755-bf4496fda6e1",
   "metadata": {},
   "outputs": [],
   "source": [
    "# first for human tumor specific scores \n",
    "# see \"1_bulk_RNA-Seq_atlas_UMAPs.ipynb\" section \"generate tumor specific signatures\" for how these were made\n",
    "\n",
    "# read in mouse orthologs (human genes were converted to mouse orthologs, as described in R script 4)\n",
    "Hum_sigs=pd.read_csv('Top_hSigs.csv')"
   ]
  },
  {
   "cell_type": "code",
   "execution_count": null,
   "id": "0c650983-dd0d-429a-ae9e-12373627dbab",
   "metadata": {},
   "outputs": [],
   "source": [
    "# Generate individual lists\n",
    "\n",
    "NB=Hum_sigs.NB_Top_500\n",
    "SCLC=Hum_sigs.SCLC_Top_500\n",
    "LUAD=Hum_sigs.LUAD_Top_500\n",
    "ONB=Hum_sigs.ONB_Top_500\n",
    "\n",
    "NB=NB.squeeze().str.strip().to_list()\n",
    "SCLC=SCLC.squeeze().str.strip().to_list()\n",
    "LUAD=LUAD.squeeze().str.strip().to_list()\n",
    "ONB=ONB.squeeze().str.strip().to_list()\n"
   ]
  },
  {
   "cell_type": "code",
   "execution_count": null,
   "id": "3ca6ac35-b23f-4391-9394-4040c7a8de4d",
   "metadata": {},
   "outputs": [],
   "source": [
    "# set .X to the normalized layer\n",
    "adata.X = adata.layers['norm']"
   ]
  },
  {
   "cell_type": "code",
   "execution_count": null,
   "id": "7b2df863-3ef1-4631-ab4b-045e603706a6",
   "metadata": {},
   "outputs": [],
   "source": [
    "# Add human ONB score to mouse data \n",
    "sc.tl.score_genes(adata, SCLC, score_name='SCLC_Human_Score')\n",
    "sc.tl.score_genes(adata, NB, score_name='NB_Human_Score')\n",
    "sc.tl.score_genes(adata, LUAD, score_name='LUAD_Human_Score')\n",
    "sc.tl.score_genes(adata, ONB, score_name='ONB_Human_Score')"
   ]
  },
  {
   "cell_type": "code",
   "execution_count": null,
   "id": "2f6b6c1f-35a7-4149-836a-f370cb4bb0c1",
   "metadata": {},
   "outputs": [],
   "source": [
    "# plot scores\n",
    "with plt.rc_context({'figure.figsize': (12, 10)}):\n",
    "    sc.pl.umap(\n",
    "    adata2,\n",
    "    color=['cluster_names','ONB_Human_Score','SCLC_Human_Score','NB_Human_Score','LUAD_Human_Score'],\n",
    "    use_raw=False,\n",
    "    legend_loc= \"on data\",legend_fontweight='medium',legend_fontsize='xx-large',\n",
    "    ncols=3,\n",
    "        vmin='0',\n",
    "    vmax='8',\n",
    "    frameon=False,\n",
    "    save=False,\n",
    "    s=50\n",
    ")"
   ]
  },
  {
   "cell_type": "code",
   "execution_count": 3,
   "id": "1fc000d9-f367-4260-8d68-a18724d203c3",
   "metadata": {
    "tags": []
   },
   "outputs": [],
   "source": [
    "# for next scores, using OE + primary tumors adata object\n",
    "\n",
    "#Filter out non-OE lineage cells for this (ie immune, fibroblasts, non OE lineage)\n",
    "bad_clust=['Fibroblast', 'Lymphoid', 'Myeloid', 'Olfactory ensheathing', 'Pericyte']\n",
    "\n",
    "#Filter out bad clusters\n",
    "to_keep=(~adata.obs['cluster_names'].isin(bad_clust))\n",
    "\n",
    "#Copy over to new anndata object\n",
    "adata = adata[to_keep].copy()"
   ]
  },
  {
   "cell_type": "code",
   "execution_count": null,
   "id": "82075091-2557-4b17-9d9a-200db567902d",
   "metadata": {},
   "outputs": [],
   "source": [
    "#Order adata.obs for graphing downstream\n",
    "category_order_list=['Bowmans Glands', 'Sustentacular', 'MV ionocyte-like', 'MV tuft-like', 'HBC', 'GBC',  'RPMA tumor', 'RPM tumor', 'INP', 'iOSN', 'mOSN']\n",
    "#Reorder cluster names for plotting\n",
    "adata.obs['cluster_names'].cat.set_categories(category_order_list)"
   ]
  },
  {
   "cell_type": "code",
   "execution_count": null,
   "id": "d057ecb1-a558-4b7c-ab68-96afc7235768",
   "metadata": {},
   "outputs": [],
   "source": [
    "# set .X to normalized layer for downstream analysis\n",
    "adata.X = adata.layers['norm']"
   ]
  },
  {
   "cell_type": "markdown",
   "id": "b0b3dc5b-ddd5-4616-a084-afbb085d2199",
   "metadata": {},
   "source": [
    "next set of module scores are from human sclc Chan et al., Cancer Cell 2021 (PMC8628860)"
   ]
  },
  {
   "cell_type": "code",
   "execution_count": null,
   "id": "87bab2c9-fb3c-4e26-86ea-f8afc17707c0",
   "metadata": {},
   "outputs": [],
   "source": [
    "#Read in mouse Pou2f3 gene list (generated in R from human genes)\n",
    "Pou_up_list= pd.read_csv('/hpc/group/goldsteinlab/R/Working_directory/JChan_CCell_Pou2f3_up_mouse_versions.csv')\n",
    "Pou2f3_up=Pou_up_list[['x']]\n",
    "\n",
    "#Convert df or series to list\n",
    "Pou2f3_up_targets=Pou2f3_up.squeeze().str.strip().to_list()"
   ]
  },
  {
   "cell_type": "code",
   "execution_count": null,
   "id": "de0e6c10-67bd-4bf5-a2d0-4cdc2d1f2877",
   "metadata": {},
   "outputs": [],
   "source": [
    "#Read in mouse Neurod1 gene list (generated in R from human genes)\n",
    "Neurod1_up_list= pd.read_csv('/hpc/group/goldsteinlab/R/Working_directory/JChan_CCell_Neurod1_up_mouse_versions.csv')\n",
    "Neurod1_up=Neurod1_up_list[['x']]\n",
    "#Convert df or series to list\n",
    "Neurod1_up_targets=Neurod1_up.squeeze().str.strip().to_list()"
   ]
  },
  {
   "cell_type": "code",
   "execution_count": null,
   "id": "50883628-02fa-4092-a00f-4de6a023ea3c",
   "metadata": {},
   "outputs": [],
   "source": [
    "#Read in mouse Ascl1 gene list (generated in R from human genes)\n",
    "Ascl1_up_list= pd.read_csv('/hpc/group/goldsteinlab/R/Working_directory/JChan_CCell_Ascl1_up_mouse_versions.csv')\n",
    "Ascl1_up=Ascl1_up_list[['x']]\n",
    "Ascl1_up_targets=Ascl1_up.squeeze().str.strip().to_list()"
   ]
  },
  {
   "cell_type": "code",
   "execution_count": null,
   "id": "9f853263-2bc6-4e9b-b0d8-55fcaba48f35",
   "metadata": {},
   "outputs": [],
   "source": [
    "#Add targets to anndata object\n",
    "sc.tl.score_genes(adata, Pou2f3_up_targets, score_name='human_Pou2f3_enriched')\n",
    "sc.tl.score_genes(adata, Neurod1_up_targets, score_name='human_Neurod1_enriched')\n",
    "sc.tl.score_genes(adata, Ascl1_up_targets, score_name='human_Ascl1_enriched')"
   ]
  },
  {
   "cell_type": "code",
   "execution_count": null,
   "id": "343dbed4-0e5a-4500-867d-19304607f6a7",
   "metadata": {},
   "outputs": [],
   "source": [
    "# plot UMAPs\n",
    "\n",
    "#Plot\n",
    "sc.pl.umap(\n",
    "    adata,\n",
    "    color=['cluster_names', 'human_Ascl1_enriched'],\n",
    "    use_raw=False,\n",
    "    legend_loc= \"on data\",\n",
    "    color_map=\"PRGn\",\n",
    "    ncols=3,\n",
    "    vmax='p99',\n",
    "    frameon=False,\n",
    "    save=False,\n",
    "    s=10\n",
    ")"
   ]
  },
  {
   "cell_type": "code",
   "execution_count": null,
   "id": "ddc62761-7226-4415-9ab7-0475d67071cf",
   "metadata": {},
   "outputs": [],
   "source": [
    "# to generate bar graphs with stats\n",
    "\n",
    "# first create df from adata\n",
    "df_score = sc.get.obs_df(adata, keys=['cluster_names', 'human_Ascl1_enriched'])\n",
    "\n",
    "# plot\n",
    "fig, ax = plt.subplots(figsize=(5,5))\n",
    "ax=sns.barplot(data=df_score, x='cluster_names', y='human_Ascl1_enriched', \n",
    "               order=['Bowmans Glands', 'Sustentacular', 'MV ionocyte-like', 'MV tuft-like', 'HBC', 'GBC',  'RPMA tumor', 'RPM tumor', 'INP', 'iOSN', 'mOSN'],\n",
    "            capsize=0.2,\n",
    "           #errorbar=('ci', 95), \n",
    "               palette=palette)\n",
    "ax, test_results=add_stat_annotation(ax, data=df_score, x='cluster_names', y='human_Ascl1_enriched', box_pairs=[('RPM tumor', 'RPMA tumor')], test='Mann-Whitney', text_format='star', loc='outside', verbose=2)\n",
    "plt.xticks(rotation=90)"
   ]
  },
  {
   "cell_type": "markdown",
   "id": "d3c07632-0f54-49d2-a74c-13c28e5f9a38",
   "metadata": {},
   "source": [
    "Neurod1 ChIP target scores were generated in the same way as above"
   ]
  },
  {
   "cell_type": "markdown",
   "id": "89e99811-8fd7-4430-b060-723235294dd1",
   "metadata": {},
   "source": [
    "# Optimal transport"
   ]
  },
  {
   "cell_type": "markdown",
   "id": "622d2794-f815-4a29-9434-f5d50bd1007a",
   "metadata": {},
   "source": [
    "portions of code adapted from: https://github.com/cantinilab/OT-scOmics"
   ]
  },
  {
   "cell_type": "code",
   "execution_count": null,
   "id": "4723b98d-9912-43f9-9879-bb39e0985e4a",
   "metadata": {},
   "outputs": [],
   "source": [
    "# using full mouse OE atlas with RPM tumors\n",
    "adata = sc.read_h5ad('OE_atlas_with_ONB_tumors_all_cells.h5ad')"
   ]
  },
  {
   "cell_type": "code",
   "execution_count": null,
   "id": "cd6b369c-288b-4b3e-ba15-7ed2d0d6c7b9",
   "metadata": {},
   "outputs": [],
   "source": [
    "#Filter out non-OE clusters (ie immune, fibroblasts, non OE lineage)\n",
    "bad_clust=['Fibroblast', 'Lymphoid', 'Myeloid', 'Olfactory ensheathing', 'Pericyte']\n",
    "\n",
    "#Filter out bad clusters\n",
    "to_keep=(~adata.obs['cluster_names'].isin(bad_clust))\n",
    "\n",
    "#Copy over to new anndata object\n",
    "adata = adata[to_keep].copy()"
   ]
  },
  {
   "cell_type": "code",
   "execution_count": null,
   "id": "ee990983-26ac-471a-9833-8be391ed9dc7",
   "metadata": {},
   "outputs": [],
   "source": [
    "#HVG via Scanpy\n",
    "#Note here that if you run with a batch_key with few cells, will get b'reciprocal condition number error\n",
    "sc.pp.highly_variable_genes(\n",
    "    adata,\n",
    "    n_top_genes=3000,\n",
    "    subset=False,\n",
    "    layer=\"counts\",\n",
    "    flavor=\"seurat_v3\",\n",
    "    batch_key=\"mouse_ident\"\n",
    ")"
   ]
  },
  {
   "cell_type": "code",
   "execution_count": null,
   "id": "569b4b5a-902a-48ec-900d-181714933103",
   "metadata": {},
   "outputs": [],
   "source": [
    "#Calculate highly variable genes using scVI methods\n",
    "df_poisson = scvi.data.poisson_gene_selection(\n",
    "    adata, n_top_genes=3000, batch_key=\"mouse_ident\", inplace=False\n",
    ")\n",
    "\n",
    "df_poisson[df_poisson.highly_variable].sort_values('prob_zero_enrichment_rank')\n",
    "\n",
    "pd.crosstab(df_poisson.highly_variable, adata.var.highly_variable)\n",
    "\n",
    "is_hvg = df_poisson.highly_variable\n",
    "\n",
    "adata.varm['df_poisson']= df_poisson\n",
    "\n",
    "adata_query = adata[:, is_hvg].copy()\n",
    "print(adata_query)"
   ]
  },
  {
   "cell_type": "code",
   "execution_count": null,
   "id": "d6f45b44-c8de-4251-9a80-b8c9278a9d6f",
   "metadata": {},
   "outputs": [],
   "source": [
    "# Downsample\n",
    "\n",
    "#Define function\n",
    "def obs_key_wise_subsampling(adata, obs_key, N):\n",
    "    '''\n",
    "    Subsample each class to same cell numbers (N). Classes are given by obs_key pointing to categorical in adata.obs.\n",
    "    '''\n",
    "    counts = adata.obs[obs_key].value_counts()\n",
    "    # subsample indices per group defined by obs_key\n",
    "    indices = [np.random.choice(adata.obs_names[adata.obs[obs_key]==group], size=N, replace=False) for group in counts.index]\n",
    "    selection = np.hstack(np.array(indices))\n",
    "    return adata[selection].copy()"
   ]
  },
  {
   "cell_type": "code",
   "execution_count": null,
   "id": "3221198d-ffad-41bb-a9f8-a2f8c8699b7a",
   "metadata": {},
   "outputs": [],
   "source": [
    "#Now run function with user defined N\n",
    "adata_distance=obs_key_wise_subsampling(adata_query, 'cluster_names', 100)"
   ]
  },
  {
   "cell_type": "code",
   "execution_count": null,
   "id": "9c10d136-30e1-49e5-bb3a-2af0159b5e1d",
   "metadata": {},
   "outputs": [],
   "source": [
    "# Make sure we are working with raw counts\n",
    "adata_distance.X=adata_distance.layers['counts']"
   ]
  },
  {
   "cell_type": "code",
   "execution_count": null,
   "id": "fac68d4f-e1b1-4e79-85f5-457f752f7e51",
   "metadata": {},
   "outputs": [],
   "source": [
    "#Set clusters term within adata.obs\n",
    "clusters=adata_distance.obs['cluster_names']\n",
    "idx = np.argsort(clusters)"
   ]
  },
  {
   "cell_type": "code",
   "execution_count": null,
   "id": "c880b173-7c14-424a-aa60-c44c5ed6b6a5",
   "metadata": {},
   "outputs": [],
   "source": [
    "#sc.pp.normalize_per_cell(adata_distance, counts_per_cell_after=1e4) #Note we do per cell normalization later\n",
    "sc.pp.log1p(adata_distance)"
   ]
  },
  {
   "cell_type": "code",
   "execution_count": null,
   "id": "b618542c-5724-4265-abfe-4fa2bf5e1772",
   "metadata": {},
   "outputs": [],
   "source": [
    "adata_df=adata_distance.to_df()"
   ]
  },
  {
   "cell_type": "code",
   "execution_count": null,
   "id": "7d2cc353-593b-4b97-8cd6-a4d16c72e641",
   "metadata": {},
   "outputs": [],
   "source": [
    "#Now reconstruct adata object based on methods described in their paper\n",
    "adata_df = adata_df.iloc[np.argsort(adata_df.std(1))[::-1][:1_100]] #last [:x] should be equal to # of cluster_names * 100 (11*100= 1_100)"
   ]
  },
  {
   "cell_type": "code",
   "execution_count": null,
   "id": "e58def63-54bb-4fca-812a-b0b7149367c3",
   "metadata": {},
   "outputs": [],
   "source": [
    "adata_model = ad.AnnData(adata_df)\n",
    "adata_model.obs['cluster_names'] = clusters"
   ]
  },
  {
   "cell_type": "code",
   "execution_count": null,
   "id": "03649703-644e-4c7c-81e7-0f7f8a960fd9",
   "metadata": {},
   "outputs": [],
   "source": [
    "#Set clusters term within adata.obs\n",
    "clusters=adata_model.obs['cluster_names']\n",
    "idx = np.argsort(clusters)"
   ]
  },
  {
   "cell_type": "code",
   "execution_count": null,
   "id": "0da4d102-ee98-4f06-b4e3-936f9c5a098d",
   "metadata": {},
   "outputs": [],
   "source": [
    "clusters_t=np.array(adata_model.obs)"
   ]
  },
  {
   "cell_type": "code",
   "execution_count": null,
   "id": "24130204-f42b-45b8-91a2-27eacd722f95",
   "metadata": {},
   "outputs": [],
   "source": [
    "# Optionally, can specify categories order (this determines order in downstream matrix plot)\n",
    "category_order_list=['HBC', 'Sustentacular', 'Bowmans Glands', 'MV ionocyte-like', 'MV tuft-like', \n",
    "                     'RPMA tumor','GBC', 'RPM tumor', 'INP', 'iOSN', 'mOSN']"
   ]
  },
  {
   "cell_type": "code",
   "execution_count": null,
   "id": "880f1dfa-683e-4ed4-ae8f-13af42105cdb",
   "metadata": {},
   "outputs": [],
   "source": [
    "#Reorder cluster names for plotting\n",
    "adata_model.obs['cluster_names'].cat.set_categories(category_order_list)"
   ]
  },
  {
   "cell_type": "code",
   "execution_count": null,
   "id": "8d34a662-9588-4d08-9218-77d36ef2ba2d",
   "metadata": {},
   "outputs": [],
   "source": [
    "#Set clusters term within adata.obs\n",
    "clusters=adata_model.obs['cluster_names'].cat.set_categories(category_order_list)\n",
    "idx = np.argsort(clusters)"
   ]
  },
  {
   "cell_type": "code",
   "execution_count": null,
   "id": "c70cf894-f78c-4ec4-ab72-1b25d7d6efa0",
   "metadata": {},
   "outputs": [],
   "source": [
    "# Per-cell normalization (mandatory)\n",
    "data_norm = adata_model.X.T.astype(np.double)\n",
    "data_norm /= data_norm.sum(0)\n",
    "# Add a small value to avoid numerical errors\n",
    "data_norm += 1e-9\n",
    "data_norm /= data_norm.sum(0)"
   ]
  },
  {
   "cell_type": "code",
   "execution_count": null,
   "id": "c663b5e1-3fb9-4770-be1d-fd3112e51a97",
   "metadata": {},
   "outputs": [],
   "source": [
    "# set up cost matrix\n",
    "C = otscomics.cost_matrix(adata_model.X.T.astype(np.double), 'cosine')"
   ]
  },
  {
   "cell_type": "code",
   "execution_count": null,
   "id": "212bee08-56ff-4357-a254-ca2f0db71ab3",
   "metadata": {},
   "outputs": [],
   "source": [
    "# Compute OT distance matrix\n",
    "# Need high memory and GPU for this, also if getting runtime error, just adjust batch_size\n",
    "D_ot, errors = otscomics.OT_distance_matrix(\n",
    "    data=data_norm, cost=C, eps=.1,\n",
    "    dtype=torch.double, \n",
    "    device='cuda', batch_size=128\n",
    ")"
   ]
  },
  {
   "cell_type": "code",
   "execution_count": null,
   "id": "4319f3a0-2f56-4062-ae5d-aef192778162",
   "metadata": {},
   "outputs": [],
   "source": [
    "# Check outputs\n",
    "D_ot[idx][:,idx].shape"
   ]
  },
  {
   "cell_type": "code",
   "execution_count": null,
   "id": "4477207d-8c8d-4376-888d-1e9539306f99",
   "metadata": {},
   "outputs": [],
   "source": [
    "cor_stack = D_ot[idx][:,idx]"
   ]
  },
  {
   "cell_type": "code",
   "execution_count": null,
   "id": "f968c4ad-f239-48b8-b9ef-78628d996dbf",
   "metadata": {},
   "outputs": [],
   "source": [
    "# plot matrix\n",
    "#Hvgs set to 3000\n",
    "plt.imshow(D_ot[idx][:,idx], vmax=0.04, #cmap='RdBu_r'\n",
    "          )\n",
    "plt.title('OT distance matrix')\n",
    "plt.xlabel('Cells')\n",
    "plt.ylabel('Cells')\n",
    "plt.colorbar()\n",
    "plt.yticks(np.arange(50, 1150, 100))\n",
    "plt.xticks(np.arange(50, 1150, 100))\n",
    "frame1=plt.gca()\n",
    "frame1.axes.xaxis.set_ticklabels([])\n",
    "frame1.axes.yaxis.set_ticklabels([])"
   ]
  },
  {
   "cell_type": "code",
   "execution_count": null,
   "id": "b472059f-2005-4145-ba8a-6307d84f596e",
   "metadata": {},
   "outputs": [],
   "source": [
    "# calculate average across each cluster\n",
    "df_OT=pd.DataFrame(cor_stack)\n",
    "df_OT_mean=df_OT.groupby(np.arange(len(df_OT))//100).mean()\n",
    "df_OT_mean_T=df_OT_mean.T\n",
    "df_OT_all_mean=df_OT_mean_T.groupby(np.arange(len(df_OT_mean_T))//100).mean()"
   ]
  },
  {
   "cell_type": "code",
   "execution_count": null,
   "id": "49480ff9-ad38-4176-94e4-ee37723c0735",
   "metadata": {},
   "outputs": [],
   "source": [
    "# rename index (this needs to match order that was input above)\n",
    "# includes in vitro tumor\n",
    "df_final=df_OT_all_mean.set_axis(['Sustentacular', 'HBC', 'MV tuft-like', 'MV ionocyte-like', 'Bowmans Glands','RPMA tumor',\n",
    "                      'GBC','RPM tumor', 'INP', 'iOSN', 'mOSN'])"
   ]
  },
  {
   "cell_type": "code",
   "execution_count": null,
   "id": "3a31327e-093e-421b-9527-04c35bf6f60e",
   "metadata": {},
   "outputs": [],
   "source": [
    "# rename columns \n",
    "# this order needs to be the same as box immediately above\n",
    "df_plot=df_final.rename(columns={0:'Sustentacular', 1:'HBC', 2:'MV tuft-like', 3:'MV ionocyte-like',\n",
    "                                 4:'Bowmans Glands',5:'RPMA tumor', 6:'GBC', 7:'RPM tumor', \n",
    "                                 8:'INP', 9:'iOSN', 10:'mOSN'})"
   ]
  },
  {
   "cell_type": "code",
   "execution_count": null,
   "id": "05dd1b7b-602e-4518-9e4a-c54e8a987743",
   "metadata": {},
   "outputs": [],
   "source": [
    "# verify structure\n",
    "df_plot"
   ]
  },
  {
   "cell_type": "code",
   "execution_count": null,
   "id": "19352751-7b37-4f6a-a9cc-46398c65e120",
   "metadata": {},
   "outputs": [],
   "source": [
    "# plot heatmap with average values\n",
    "\n",
    "# set fontsize\n",
    "plt.rcParams.update({'font.size': 10})\n",
    "\n",
    "# set figure size\n",
    "fig, ax = plt.subplots(figsize=(12,10))\n",
    "\n",
    "# plot\n",
    "sns.heatmap(data=df_plot, cmap='viridis',\n",
    "            linewidths=0, linecolor='black',\n",
    "           vmax=0.06, annot=True, #mask=mask\n",
    "           )\n",
    "sns.despine()\n",
    "plt.xticks(rotation=90)\n",
    "\n",
    "# can save fig, if desired\n",
    "#fig.savefig('heatmap.png', dpi='figure', bbox_inches='tight')"
   ]
  },
  {
   "cell_type": "code",
   "execution_count": null,
   "id": "a4caad95-fb11-4553-bfd1-71b9bdf012b8",
   "metadata": {},
   "outputs": [],
   "source": [
    "# plot clustermap\n",
    "# this generates dendrogram to group cell types\n",
    "sns.clustermap(data=df_plot, annot=True, cmap='viridis', vmax=0.05)"
   ]
  },
  {
   "cell_type": "markdown",
   "id": "08ec0131-ee4f-4821-80c6-85185aa5f546",
   "metadata": {},
   "source": [
    "# GSEA"
   ]
  },
  {
   "cell_type": "code",
   "execution_count": null,
   "id": "fdb39f00-6f5a-4239-9850-5e30480b8216",
   "metadata": {},
   "outputs": [],
   "source": [
    "# import additional packages required for running GSEA\n",
    "import gseapy as gp\n",
    "from gseapy import Biomart\n",
    "bm = Biomart()"
   ]
  },
  {
   "cell_type": "code",
   "execution_count": null,
   "id": "5df57fdc-763d-4dac-88b0-a53bb7530ea3",
   "metadata": {},
   "outputs": [],
   "source": [
    "# load in data\n",
    "\n",
    "# here, for example, using RPM vs. RPMA gene lists derived from edgeR DE\n",
    "gene_list = pd.read_csv('/hpc/group/goldsteinlab/Python/GSEA/rpm_rpma_de_edgeR_for_GSEA.csv')"
   ]
  },
  {
   "cell_type": "code",
   "execution_count": null,
   "id": "b11ad553-82b5-45fa-a5af-e50bd248f6ff",
   "metadata": {},
   "outputs": [],
   "source": [
    "# select sample/condition gene list that you want\n",
    "gene_list_RPM=gene_list[['RPM_gene']]"
   ]
  },
  {
   "cell_type": "code",
   "execution_count": null,
   "id": "3d24b2b5-fcb6-468b-9466-e2613bfbab0d",
   "metadata": {},
   "outputs": [],
   "source": [
    "# select top 200 genes \n",
    "gene_list_RPM=gene_list_RPM.drop(gene_list_RPM.index[200:])"
   ]
  },
  {
   "cell_type": "code",
   "execution_count": null,
   "id": "43be755e-e2da-48fe-b5d8-35520e988296",
   "metadata": {},
   "outputs": [],
   "source": [
    "#Convert df or series to list\n",
    "glist=gene_list_RPM.squeeze().str.strip().to_list()"
   ]
  },
  {
   "cell_type": "code",
   "execution_count": null,
   "id": "68e0e358-1e50-462f-8e5c-6181ac134321",
   "metadata": {},
   "outputs": [],
   "source": [
    "# run enrichr\n",
    "enr_RPM = gp.enrichr(gene_list=glist,\n",
    "                 gene_sets=['ChEA_2022', \n",
    "                            'ENCODE_and_ChEA_Consensus_TFs_from_ChIP-X',\n",
    "                            'GO_Biological_Process_2021',\n",
    "                            'PanglaoDB_Augmented_2021',\n",
    "                            'Tabula_Muris'],\n",
    "                 organism='mouse',\n",
    "                 outdir=None, \n",
    "                )"
   ]
  },
  {
   "cell_type": "code",
   "execution_count": null,
   "id": "107f54b6-ac69-465a-8773-aac5fb42c0e2",
   "metadata": {},
   "outputs": [],
   "source": [
    "# optionally can plot\n",
    "dotplot(enr_RPM.results,\n",
    "              column=\"Adjusted P-value\",\n",
    "              x='Gene_set', # set x axis, so you could do a multi-sample/library comparsion\n",
    "              size=15,\n",
    "              top_term=5,\n",
    "              figsize=(3,7.5),\n",
    "              title = \"KEGG\",\n",
    "              xticklabels_rot=90, # rotate xtick labels\n",
    "              show_ring=True, # set to False to revmove outer ring\n",
    "              marker='o',\n",
    "               save=True)"
   ]
  },
  {
   "cell_type": "code",
   "execution_count": null,
   "id": "11d3f5cd-bbb7-4805-a0f6-b2eb7bc90de9",
   "metadata": {},
   "outputs": [],
   "source": [
    "# write results to csv output\n",
    "enr_RPM.results.to_csv('RPM_Enrichr_table_edgeR_de.csv')"
   ]
  }
 ],
 "metadata": {
  "kernelspec": {
   "display_name": "Python3.9_torch_env",
   "language": "python",
   "name": "pytorch"
  },
  "language_info": {
   "codemirror_mode": {
    "name": "ipython",
    "version": 3
   },
   "file_extension": ".py",
   "mimetype": "text/x-python",
   "name": "python",
   "nbconvert_exporter": "python",
   "pygments_lexer": "ipython3",
   "version": "3.9.18"
  }
 },
 "nbformat": 4,
 "nbformat_minor": 5
}
