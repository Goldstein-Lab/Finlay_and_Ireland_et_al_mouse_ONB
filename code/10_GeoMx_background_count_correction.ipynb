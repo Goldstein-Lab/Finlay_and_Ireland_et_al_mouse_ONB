{
 "cells": [
  {
   "cell_type": "markdown",
   "id": "b19bb6b8-2011-40dc-9a00-4b688f4a901b",
   "metadata": {},
   "source": [
    "# prepare workspace"
   ]
  },
  {
   "cell_type": "markdown",
   "id": "e0c8c0ab-16fd-4b81-962e-1cb2b6c300e0",
   "metadata": {},
   "source": [
    "Code adapted from: https://github.com/BayraktarLab/CountCorrect"
   ]
  },
  {
   "cell_type": "code",
   "execution_count": null,
   "id": "d4872200-cef5-49fe-8ac2-56e1540f112c",
   "metadata": {},
   "outputs": [],
   "source": [
    "# Import relevant packages\n",
    "import numpy as np\n",
    "import pandas as pd\n",
    "from matplotlib import rcParams\n",
    "import os\n",
    "import scanpy as sc\n",
    "import anndata as ad\n",
    "import gseapy as gp\n",
    "\n",
    "import matplotlib as mpl\n",
    "import matplotlib.pyplot as plt\n",
    "import matplotlib.cm as cm\n",
    "\n",
    "# For nice color schemes\n",
    "import cmocean\n",
    "\n",
    "# For barplots\n",
    "import seaborn as sns\n",
    "from statannot import add_stat_annotation\n",
    "\n",
    "import glob\n",
    "import torch\n",
    "import anndata"
   ]
  },
  {
   "cell_type": "code",
   "execution_count": null,
   "id": "ad449d78-514f-4a03-9610-f6aeab160ee1",
   "metadata": {},
   "outputs": [],
   "source": [
    "# Note need to downgrade numba and numpy to get this to import properly\n",
    "# Numpy 1.21.4, Numba 0.53.0\n",
    "import countcorrect as cc"
   ]
  },
  {
   "cell_type": "code",
   "execution_count": null,
   "id": "493823e7-afd6-43a7-8d1f-893d5f40b2bc",
   "metadata": {},
   "outputs": [],
   "source": [
    "# Show full pandas dataframe when produced\n",
    "pd.set_option('display.max_columns', 100)\n",
    "pd.set_option('display.max_rows', 100)"
   ]
  },
  {
   "cell_type": "code",
   "execution_count": null,
   "id": "bec8d317-f925-4b26-bd7f-2e12bceb56b1",
   "metadata": {},
   "outputs": [],
   "source": [
    "# Set fontsize\n",
    "plt.rcParams.update({'font.size': 15})"
   ]
  },
  {
   "cell_type": "code",
   "execution_count": null,
   "id": "e86f7ace-7b97-4722-874a-1cb112aed034",
   "metadata": {},
   "outputs": [],
   "source": [
    "# set wd\n",
    "os.chdir('/hpc/group/goldsteinlab/Python/ONB/GeoMx')"
   ]
  },
  {
   "cell_type": "markdown",
   "id": "8a9e09dc-6138-4834-aaad-90d47c3c1051",
   "metadata": {},
   "source": [
    "# read data"
   ]
  },
  {
   "cell_type": "markdown",
   "id": "25337e78-0053-4e8c-bed8-bf1df9482b6a",
   "metadata": {},
   "source": [
    "Note: these raw count matrices were produced from the \"demoData\" object that was created by reading in raw DCC, PKC, and annotation files via the readNanoStringGeoMxSet() function in R. See R notebook \"9_GeoMx_pre-processing\" for more details"
   ]
  },
  {
   "cell_type": "code",
   "execution_count": null,
   "id": "24ffced7-8de7-4742-9b88-f23ee5342abe",
   "metadata": {},
   "outputs": [],
   "source": [
    "# First read in relevant dataframes (these were created using Sanger GeoMx pipeline in R)\n",
    "\n",
    "# Counts matrix no negative probes\n",
    "counts = pd.read_csv('ONB_TargetCountMatrix_no_negatives.csv')\n",
    "\n",
    "# Negative probes counts matrix\n",
    "neg_counts = pd.read_csv('ONB_negative_probe_count.csv')\n",
    "\n",
    "# Metadata\n",
    "meta = pd.read_csv('ONB_Segment_metadata.csv')"
   ]
  },
  {
   "cell_type": "code",
   "execution_count": null,
   "id": "d7b88d99-5d67-41f1-9cb5-4016cd4ad6d9",
   "metadata": {},
   "outputs": [],
   "source": [
    "# Rename so fist column is same for both\n",
    "counts.rename(columns= {'TargetName': 'Gene'}, inplace=True)"
   ]
  },
  {
   "cell_type": "code",
   "execution_count": null,
   "id": "1eb789ba-5241-4a43-8362-d53085277bec",
   "metadata": {},
   "outputs": [],
   "source": [
    "# Concatenate counts and neg probe dfs\n",
    "counts_comb = pd.concat([counts, neg_counts], ignore_index=True)\n",
    "counts_comb.set_index('Gene', inplace=True)"
   ]
  },
  {
   "cell_type": "code",
   "execution_count": null,
   "id": "08483681-808e-40e4-9ec8-9b37417dac5f",
   "metadata": {},
   "outputs": [],
   "source": [
    "# Transpose for adata\n",
    "counts_comb=counts_comb.T"
   ]
  },
  {
   "cell_type": "code",
   "execution_count": null,
   "id": "a5232448-a245-4cdb-8b26-d4f10fff2713",
   "metadata": {},
   "outputs": [],
   "source": [
    "# Extract values for anndata object\n",
    "data_matrix=counts_comb.values"
   ]
  },
  {
   "cell_type": "code",
   "execution_count": null,
   "id": "c6774ed5-ca12-49e2-9503-0f97e2b2d140",
   "metadata": {},
   "outputs": [],
   "source": [
    "# Create anndata object\n",
    "adata = anndata.AnnData(data_matrix)\n",
    "\n",
    "adata.var_names=counts_comb.columns\n",
    "adata.obs_names=counts_comb.index\n",
    "\n",
    "for column_name in meta.columns:\n",
    "    adata.obs[column_name]=meta[column_name].values"
   ]
  },
  {
   "cell_type": "code",
   "execution_count": null,
   "id": "929a8717-d23f-4b46-a5b3-bece9edef56a",
   "metadata": {},
   "outputs": [],
   "source": [
    "# Rename some of the obs\n",
    "adata.obs['slide'] = adata.obs['Scan_name']\n",
    "del adata.obs['Scan_name']"
   ]
  },
  {
   "cell_type": "markdown",
   "id": "c8e98275-007a-411c-8d4c-1b307c5c075c",
   "metadata": {},
   "source": [
    "# prep for countcorrect"
   ]
  },
  {
   "cell_type": "code",
   "execution_count": null,
   "id": "b52202e0-5881-487f-a488-037ce6203f84",
   "metadata": {},
   "outputs": [],
   "source": [
    "# Need to subset out the blank control for count-correct to work (ie well A1)\n",
    "remove = ['DSP-1001660018527-A-A01']\n",
    "\n",
    "mask = (~adata.obs_names.isin(remove))\n",
    "\n",
    "adata = adata[mask, :]"
   ]
  },
  {
   "cell_type": "code",
   "execution_count": null,
   "id": "a090f20d-63af-4f5a-8e73-8d77395a3411",
   "metadata": {},
   "outputs": [],
   "source": [
    "counts_geneProbes = adata.X[:,adata.var_names != 'NegProbe-WTX']\n",
    "counts_negativeProbes = adata.X[:,adata.var_names == 'NegProbe-WTX']\n",
    "counts_nuclei = adata.obs['nuclei']\n",
    "names_slides = adata.obs['slide']\n",
    "print('Gene Probe Counts: \\n \\n', counts_geneProbes, '\\n')\n",
    "print('Negative Probe Counts: \\n \\n', counts_negativeProbes, '\\n')\n",
    "print('Nuclei Counts: \\n \\n', counts_nuclei, '\\n')\n",
    "print('Slide Names: \\n \\n', names_slides, '\\n')"
   ]
  },
  {
   "cell_type": "markdown",
   "id": "9abf1987-98f2-435e-85b5-4c858769549f",
   "metadata": {},
   "source": [
    "# run countcorrect"
   ]
  },
  {
   "cell_type": "code",
   "execution_count": null,
   "id": "3d86431f-dd4a-4b52-80c6-5ebf1664e92c",
   "metadata": {},
   "outputs": [],
   "source": [
    "results = cc.run_countcorrect(counts_geneProbes, counts_negativeProbes, counts_nuclei, slide_id = names_slides,\n",
    "                             total_iterations = 10000)"
   ]
  },
  {
   "cell_type": "code",
   "execution_count": null,
   "id": "dda018e2-3ab8-4e48-9614-45e0f27c0883",
   "metadata": {},
   "outputs": [],
   "source": [
    "results"
   ]
  },
  {
   "cell_type": "code",
   "execution_count": null,
   "id": "68ef587b-f8f0-44da-8d37-672c2a993afe",
   "metadata": {},
   "outputs": [],
   "source": [
    "rawCounts_corrected = results['RawCounts']\n",
    "cpm_normalized_corrected = results['NormCounts']"
   ]
  },
  {
   "cell_type": "code",
   "execution_count": null,
   "id": "7dd8fba2-5ea6-4a63-99f2-ac106384d243",
   "metadata": {},
   "outputs": [],
   "source": [
    "# Need to first remove NegProbe-WTX from adata before adding corrected counts layers\n",
    "var_names_to_remove = ['NegProbe-WTX']\n",
    "\n",
    "adata_f = adata[:, ~adata.var_names.isin(var_names_to_remove)]"
   ]
  },
  {
   "cell_type": "code",
   "execution_count": null,
   "id": "ec33a758-4e0a-4ac2-b838-0088ceb152a8",
   "metadata": {},
   "outputs": [],
   "source": [
    "# transfer over layers\n",
    "adata_f.layers[\"raw_corrected\"]=rawCounts_corrected\n",
    "adata_f.layers[\"cpm_normalized\"]=cpm_normalized_corrected "
   ]
  },
  {
   "cell_type": "markdown",
   "id": "55ac46f8-4d53-4dd1-8f31-de24a7fba3d6",
   "metadata": {},
   "source": [
    "# quantile normalization"
   ]
  },
  {
   "cell_type": "code",
   "execution_count": null,
   "id": "493a66ae-0906-469c-ac87-749953cedfb3",
   "metadata": {},
   "outputs": [],
   "source": [
    "# Define function for quantile normalization\n",
    "def quantile_normalize(df):\n",
    "    \"\"\"\n",
    "    input: dataframe with numerical columns\n",
    "    output: dataframe with quantile normalized values\n",
    "    \"\"\"\n",
    "    df_sorted = pd.DataFrame(np.sort(df.values,\n",
    "                                     axis=0), \n",
    "                             index=df.index, \n",
    "                             columns=df.columns)\n",
    "    df_mean = df_sorted.mean(axis=1)\n",
    "    df_mean.index = np.arange(1, len(df_mean) + 1)\n",
    "    df_qn =df.rank(method=\"min\").stack().astype(int).map(df_mean).unstack()\n",
    "    return(df_qn)"
   ]
  },
  {
   "cell_type": "code",
   "execution_count": null,
   "id": "a85960e8-3681-4d35-b469-cef5fd576439",
   "metadata": {},
   "outputs": [],
   "source": [
    "df=pd.DataFrame(adata_f.layers['raw_corrected'], index=adata_f.obs_names, columns=adata_f.var_names)"
   ]
  },
  {
   "cell_type": "code",
   "execution_count": null,
   "id": "b0ae256c-4d74-49b4-b386-499e3ae29e2f",
   "metadata": {},
   "outputs": [],
   "source": [
    "adata_f.layers['quantile_norm'] = quantile_normalize(df)\n",
    "adata_f.layers['quantile_norm']"
   ]
  },
  {
   "cell_type": "code",
   "execution_count": null,
   "id": "2218f6a4-1e99-45cb-b6d3-779c596f759b",
   "metadata": {},
   "outputs": [],
   "source": [
    "adata_f.write('GeoMx_count_corrected_with_quantile_normalized_layer.h5ad')"
   ]
  }
 ],
 "metadata": {
  "kernelspec": {
   "display_name": "Python3.9_torch_env",
   "language": "python",
   "name": "pytorch"
  },
  "language_info": {
   "codemirror_mode": {
    "name": "ipython",
    "version": 3
   },
   "file_extension": ".py",
   "mimetype": "text/x-python",
   "name": "python",
   "nbconvert_exporter": "python",
   "pygments_lexer": "ipython3",
   "version": "3.9.18"
  }
 },
 "nbformat": 4,
 "nbformat_minor": 5
}
