{
 "cells": [
  {
   "cell_type": "markdown",
   "id": "ca2a855f-5ed3-4713-b3c4-3b0242e92c5f",
   "metadata": {},
   "source": [
    "# prep environment"
   ]
  },
  {
   "cell_type": "code",
   "execution_count": null,
   "id": "9c214d9e-0a7a-4c2b-affd-e3a5fc156891",
   "metadata": {},
   "outputs": [],
   "source": [
    "#Import relevant packages\n",
    "import numpy as np\n",
    "import pandas as pd\n",
    "from matplotlib import rcParams\n",
    "import os\n",
    "import scanpy as sc\n",
    "\n",
    "import matplotlib as mpl\n",
    "import matplotlib.pyplot as plt\n",
    "\n",
    "#For nice color schemes\n",
    "import cmocean\n",
    "\n",
    "#For barplots\n",
    "import seaborn as sns"
   ]
  },
  {
   "cell_type": "code",
   "execution_count": null,
   "id": "140b0252-89c1-45bb-be21-52428dcfafe3",
   "metadata": {},
   "outputs": [],
   "source": [
    "#Import scVI\n",
    "import scvi\n",
    "from scvi.model.utils import mde\n",
    "\n",
    "scvi.settings.verbosity = 40"
   ]
  },
  {
   "cell_type": "code",
   "execution_count": null,
   "id": "7bd35fc0-ba1f-42ee-90e1-22c9396a604a",
   "metadata": {},
   "outputs": [],
   "source": [
    "#Set fontsize\n",
    "plt.rcParams.update({'font.size': 20})"
   ]
  },
  {
   "cell_type": "code",
   "execution_count": null,
   "id": "c9d1f4cc-eed5-4d0c-a334-af89da362ad1",
   "metadata": {},
   "outputs": [],
   "source": [
    "#Set wd\n",
    "os.chdir('/hpc/group/goldsteinlab/Python')"
   ]
  },
  {
   "cell_type": "code",
   "execution_count": null,
   "id": "4c78227d-9f27-4b98-9af5-f4769e9c0ba1",
   "metadata": {},
   "outputs": [],
   "source": [
    "#Show specific size of pandas dataframe when produced\n",
    "pd.set_option('display.max_columns', 100)\n",
    "pd.set_option('display.max_rows', 100)"
   ]
  },
  {
   "cell_type": "code",
   "execution_count": null,
   "id": "1e2efa23-6c6d-4167-9f36-a08d50d9287a",
   "metadata": {},
   "outputs": [],
   "source": [
    "%matplotlib inline"
   ]
  },
  {
   "cell_type": "markdown",
   "id": "f8d23501-267d-4f39-acf2-8ced3fafe4e9",
   "metadata": {},
   "source": [
    "# read in datasets"
   ]
  },
  {
   "cell_type": "markdown",
   "id": "ac47c162-84ee-4497-9fcc-451320c7cb3a",
   "metadata": {},
   "source": [
    "First dataset from Zunitch et al. 2023 (GSE166612)"
   ]
  },
  {
   "cell_type": "code",
   "execution_count": null,
   "id": "280b9445-27c3-43e7-a5ad-8f99723b577d",
   "metadata": {},
   "outputs": [],
   "source": [
    "# Read in 10x Cell Ranger output counts matrix for H2022_10\n",
    "adata_ONB_A = sc.read_10x_mtx('Zunitch_ONB/', var_names='gene_symbols', cache=True) "
   ]
  },
  {
   "cell_type": "code",
   "execution_count": null,
   "id": "03bebe5f-d504-443e-8e6f-bb8e1b3908f7",
   "metadata": {},
   "outputs": [],
   "source": [
    "#Add metadata to adata_RPM\n",
    "adata_ONB_A.obs['orig_ident'] = 'ONB_A'\n",
    "adata_ONB_A.obs['source'] = 'Zunitch'\n",
    "adata_ONB_A.obs['patient'] = 'ONB_A'\n",
    "adata_ONB_A.obs['cond'] = 'ONB'\n",
    "adata_ONB_A.obs['orig_patients'] = 'ONB_A'"
   ]
  },
  {
   "cell_type": "code",
   "execution_count": null,
   "id": "e739da26-8c07-4553-ba60-fe78a73cd651",
   "metadata": {},
   "outputs": [],
   "source": [
    "#QC filtering\n",
    "adata_ONB_A.var['mito'] = adata_ONB_A.var_names.str.startswith('MT-')  # annotate the group of mitochondrial genes as 'mt'\n",
    "sc.pp.calculate_qc_metrics(adata_ONB_A, qc_vars=['mito'], percent_top=None, log1p=False, inplace=True)"
   ]
  },
  {
   "cell_type": "code",
   "execution_count": null,
   "id": "17256d76-7d9f-4b6b-a8e6-71f855b36123",
   "metadata": {},
   "outputs": [],
   "source": [
    "sc.pl.violin(adata_ONB_A, ['n_genes_by_counts', 'total_counts', 'pct_counts_mito'],\n",
    "             jitter=0.4, multi_panel=True)\n",
    "sc.pl.scatter(adata_ONB_A, x='total_counts', y='pct_counts_mito')\n",
    "sc.pl.scatter(adata_ONB_A, x='total_counts', y='n_genes_by_counts')"
   ]
  },
  {
   "cell_type": "markdown",
   "id": "0c9cab1b-cf51-40c4-9597-6c756d76b87e",
   "metadata": {},
   "source": [
    "Next dataset is from this paper (Finlay & Ireland et al)"
   ]
  },
  {
   "cell_type": "code",
   "execution_count": null,
   "id": "3071f667-edd2-40ac-a45a-7277af99a2f5",
   "metadata": {},
   "outputs": [],
   "source": [
    "# read in 10x dataset\n",
    "adata_ONB_B=sc.read_h5ad('H2023_6_multivi_1.3.h5ad')"
   ]
  },
  {
   "cell_type": "code",
   "execution_count": null,
   "id": "a8b3e4e8-7ccb-445d-b534-b619466d989c",
   "metadata": {},
   "outputs": [],
   "source": [
    "# add metadata\n",
    "adata_ONB_B.obs['source'] = 'Finlay_Ireland'\n",
    "adata_ONB_B.obs['patient'] = 'ONB_B'\n",
    "adata_ONB_B.obs['orig_patients']='ONB_B'\n",
    "adata_ONB_B.obs['orig_ident']='ONB_B'\n",
    "adata_ONB_B.obs['cond'] = 'ONB'"
   ]
  },
  {
   "cell_type": "code",
   "execution_count": null,
   "id": "0af8d88d-b16e-40d6-8d76-6020ca6ee1bc",
   "metadata": {},
   "outputs": [],
   "source": [
    "#QC filtering\n",
    "adata_ONB_B.var['mito'] = adata_ONB_B.var_names.str.startswith('MT-')  # annotate the group of mitochondrial genes as 'mt'\n",
    "sc.pp.calculate_qc_metrics(adata_ONB_B, qc_vars=['mito'], percent_top=None, log1p=False, inplace=True)"
   ]
  },
  {
   "cell_type": "code",
   "execution_count": null,
   "id": "4afa1bd0-e999-4e59-bbc3-dcca2f2c7038",
   "metadata": {},
   "outputs": [],
   "source": [
    "sc.pl.violin(adata_ONB_B, ['n_genes_by_counts', 'total_counts', 'pct_counts_mito'],\n",
    "             jitter=0.4, multi_panel=True)\n",
    "sc.pl.scatter(adata_ONB_B, x='total_counts', y='pct_counts_mito')\n",
    "sc.pl.scatter(adata_ONB_B, x='total_counts', y='n_genes_by_counts')"
   ]
  },
  {
   "cell_type": "markdown",
   "id": "1907b216-51ae-46db-bc0a-f886f9c0097a",
   "metadata": {},
   "source": [
    "Next dataset is an atlas of all normosmic patients from Durante et al. 2020 (GSE139522) and Oliva et al. 2022 (GSE184117). This atlas is derived from the human OE single cell atlas created for Finlay et al. 2023 Sci Trans Med. Please see paper (PMC10317309) and accompanying Github page for further details."
   ]
  },
  {
   "cell_type": "code",
   "execution_count": null,
   "id": "6aef3f0d-4492-44cc-9f7e-fae8f5bc0884",
   "metadata": {},
   "outputs": [],
   "source": [
    "#Read in \n",
    "adata_hu = sc.read_h5ad('Human_normal_OE_only_atlas.h5ad')"
   ]
  },
  {
   "cell_type": "markdown",
   "id": "254ad9bc-5c38-488d-8656-3f767ce003f2",
   "metadata": {},
   "source": [
    "# concatenate datasets"
   ]
  },
  {
   "cell_type": "code",
   "execution_count": null,
   "id": "06cd4536-c3d8-4839-82d5-fa68e9a852e4",
   "metadata": {},
   "outputs": [],
   "source": [
    "#Concatenate datasets\n",
    "adata = adata_hu.concatenate([adata_ONB_A, adata_ONB_B], index_unique=None, join=\"outer\")"
   ]
  },
  {
   "cell_type": "code",
   "execution_count": null,
   "id": "b7bfc314-0ae8-4277-b60a-880f76484625",
   "metadata": {},
   "outputs": [],
   "source": [
    "#Calculate QC statistics\n",
    "adata.var['mito'] = adata.var_names.str.startswith('MT-')  # annotate the group of mitochondrial genes as 'mt'\n",
    "sc.pp.calculate_qc_metrics(adata, qc_vars=['mito'], percent_top=None, log1p=False, inplace=True)"
   ]
  },
  {
   "cell_type": "code",
   "execution_count": null,
   "id": "ffbdd042-0365-48ce-956e-b8674b19c678",
   "metadata": {},
   "outputs": [],
   "source": [
    "#Plot\n",
    "sc.pl.violin(adata, ['n_genes_by_counts', 'total_counts', 'pct_counts_mito'],\n",
    "             jitter=0.4, multi_panel=True)\n",
    "sc.pl.scatter(adata, x='total_counts', y='pct_counts_mito')\n",
    "sc.pl.scatter(adata, x='total_counts', y='n_genes_by_counts')"
   ]
  },
  {
   "cell_type": "code",
   "execution_count": null,
   "id": "7385e214-1f34-4d30-a255-6707d71e91bb",
   "metadata": {},
   "outputs": [],
   "source": [
    "#Filter data by slicing anndata object\n",
    "adata = adata[adata.obs.n_genes_by_counts < 9000, :]\n",
    "adata = adata[adata.obs.total_counts > 500, :]\n",
    "adata = adata[adata.obs.pct_counts_mito < 40, :]"
   ]
  },
  {
   "cell_type": "code",
   "execution_count": null,
   "id": "f5500a37-781f-4204-bc89-46487a0630fd",
   "metadata": {},
   "outputs": [],
   "source": [
    "#Prep for HVG and scvi\n",
    "#log1p the data\n",
    "adata.obs[\"log1p_total_counts\"] = np.log1p(adata.obs[\"total_counts\"])\n",
    "\n",
    "#Create layers\n",
    "adata.layers[\"counts\"] = adata.X.copy()\n",
    "adata.layers['norm'] = adata.X.copy(); sc.pp.normalize_total(adata, target_sum=1e4, layer=\"norm\")"
   ]
  },
  {
   "cell_type": "markdown",
   "id": "1fe0039c-bf9f-40cb-98cc-1f7ceb42c497",
   "metadata": {},
   "source": [
    "# set up and train scvi model"
   ]
  },
  {
   "cell_type": "code",
   "execution_count": null,
   "id": "46337dbc-56bf-4043-8fc3-3def6c8930b5",
   "metadata": {},
   "outputs": [],
   "source": [
    "#HVG via Scanpy\n",
    "#Note here that if you run with a batch_key with few cells, will get b'reciprocal condition number error\n",
    "sc.pp.highly_variable_genes(\n",
    "    adata,\n",
    "    n_top_genes=5000,\n",
    "    subset=False,\n",
    "    layer=\"counts\",\n",
    "    flavor=\"seurat_v3\",\n",
    "    batch_key=\"orig_ident\"\n",
    ")"
   ]
  },
  {
   "cell_type": "code",
   "execution_count": null,
   "id": "c3c61cd9-1d60-40cb-a186-7eb5e74b8033",
   "metadata": {},
   "outputs": [],
   "source": [
    "adata.var['mean_'] = np.array(adata.X.mean(0))[0]\n",
    "adata.var['frac_zero'] = 1 - np.array((adata.X > 0).sum(0))[0] / adata.shape[0]\n",
    "\n",
    "fig, ax = plt.subplots(figsize=(9,6))\n",
    "ax.scatter(adata.var.mean_, adata.var.frac_zero, s=1)\n",
    "ax.set_xscale(\"log\")"
   ]
  },
  {
   "cell_type": "code",
   "execution_count": null,
   "id": "72ca6f8e-d49e-450c-950f-33cef341c564",
   "metadata": {},
   "outputs": [],
   "source": [
    "#Calculate Poisson gene selection\n",
    "df_poisson = scvi.data.poisson_gene_selection(\n",
    "    adata, n_top_genes=5000, batch_key=\"orig_ident\", inplace=False\n",
    ")\n",
    "\n",
    "df_poisson[df_poisson.highly_variable].sort_values('prob_zero_enrichment_rank')\n",
    "\n",
    "pd.crosstab(df_poisson.highly_variable, adata.var.highly_variable)\n",
    "\n",
    "is_hvg = df_poisson.highly_variable\n",
    "\n",
    "adata.varm['df_poisson']= df_poisson\n",
    "\n",
    "adata_query = adata[:, is_hvg].copy()\n",
    "print(adata_query)"
   ]
  },
  {
   "cell_type": "code",
   "execution_count": null,
   "id": "2ed3e142-0d3e-4cb6-81e9-47499a109008",
   "metadata": {},
   "outputs": [],
   "source": [
    "#Set up scvi model\n",
    "\n",
    "#Can insert batch_key here if desired\n",
    "scvi.model.SCVI.setup_anndata(\n",
    "    adata_query,\n",
    "    layer=\"counts\"\n",
    "    continuous_covariate_keys=[\"pct_counts_mito\"],\n",
    "    batch_key='orig_ident'\n",
    ")\n",
    "\n",
    "model = scvi.model.SCVI(adata_query, gene_likelihood=\"nb\")\n",
    "\n",
    "model.view_anndata_setup()"
   ]
  },
  {
   "cell_type": "code",
   "execution_count": null,
   "id": "ac4ee323-b15e-408a-a063-f1944355fb1d",
   "metadata": {},
   "outputs": [],
   "source": [
    "#Train and run scvi\n",
    "\n",
    "#Training parameters\n",
    "train_kwargs = dict(\n",
    "    early_stopping=True,\n",
    "    early_stopping_patience=20,\n",
    "    enable_model_summary=True,\n",
    "    enable_progress_bar=True,\n",
    "    enable_checkpointing=True,\n",
    "    max_epochs=500\n",
    ")\n",
    "\n",
    "#Train and run model\n",
    "#Be sure GPU is enabled to run this\n",
    "model.train(**train_kwargs)"
   ]
  },
  {
   "cell_type": "code",
   "execution_count": null,
   "id": "1390dff3-a394-454f-8a70-c469405ed760",
   "metadata": {},
   "outputs": [],
   "source": [
    "#Plot model results\n",
    "train_elbo = model.history['elbo_train'][1:]\n",
    "test_elbo = model.history['elbo_validation']\n",
    "\n",
    "ax = train_elbo.plot()\n",
    "test_elbo.plot(ax = ax)"
   ]
  },
  {
   "cell_type": "code",
   "execution_count": null,
   "id": "2fa8971e-6ffb-4b9c-98e6-008cfc739d64",
   "metadata": {},
   "outputs": [],
   "source": [
    "#Fit model to data\n",
    "\n",
    "#Get latent representation of model to apply to UMAP\n",
    "latent = model.get_latent_representation()\n",
    "\n",
    "adata.obsm[\"X_scVI_1.1\"] = latent\n",
    "\n",
    "#Calculate neighbors using scVI model input\n",
    "sc.pp.neighbors(adata, use_rep=\"X_scVI_1.1\")\n",
    "sc.tl.umap(adata, min_dist=0.5)\n",
    "\n",
    "#Run leiden clustering based on neighbors\n",
    "sc.tl.leiden(adata, key_added=\"leiden_scVI_1.1\", resolution=2.0)"
   ]
  },
  {
   "cell_type": "code",
   "execution_count": null,
   "id": "df79eff7-8ec2-4399-b73a-6260763bc114",
   "metadata": {},
   "outputs": [],
   "source": [
    "#QC UMAPs\n",
    "sc.pl.umap(\n",
    "    adata,\n",
    "    color=[\"n_genes_by_counts\", \"total_counts\", \"pct_counts_mito\", \"log1p_total_counts\"],\n",
    "    cmap=\"cubehelix_r\",\n",
    "    s=3,\n",
    "    ncols=2,\n",
    ")"
   ]
  },
  {
   "cell_type": "code",
   "execution_count": null,
   "id": "aa75eeeb-1df0-40a2-983b-a4e920e67321",
   "metadata": {},
   "outputs": [],
   "source": [
    "# assess batch effects\n",
    "fig, ax = plt.subplots(figsize=(8, 8))\n",
    "sc.pl.umap(adata, color=\"leiden_scVI_1.1\", legend_loc=\"on data\", ax=ax, s=10, frameon=False, save=False)\n",
    "fig, ax = plt.subplots(figsize=(8, 8))\n",
    "sc.pl.umap(adata, color=\"orig_ident\", legend_loc=\"right margin\", ax=ax, s=4, frameon=False, save=False)\n",
    "fig, ax = plt.subplots(figsize=(8, 8))\n",
    "sc.pl.umap(adata, color=\"cluster_names\", legend_loc=\"right margin\", ax=ax, s=4, frameon=False, save=False)"
   ]
  },
  {
   "cell_type": "code",
   "execution_count": null,
   "id": "33979dd9-b57e-486b-ae17-8d720df2da76",
   "metadata": {},
   "outputs": [],
   "source": [
    "# feature plots\n",
    "# assess expression of a variety of known genes\n",
    "genes = ['leiden_scVI_1.1', 'SOX9', 'ERMN',\n",
    "        'GPX6', 'PLP1', 'TRPM5', \n",
    "         'CFTR','PTPRC', 'CD68',\n",
    "        'SOX2', 'DCN',\n",
    "        'OLIG2', 'DCX']\n",
    "\n",
    "sc.pl.umap(\n",
    "    adata,\n",
    "    color=genes,\n",
    "    use_raw=False,\n",
    "    legend_loc= \"on data\",\n",
    "    color_map=\"cmo.matter\",\n",
    "    ncols=3,\n",
    "    frameon=False,\n",
    "    vmax=\"p99.5\",\n",
    "    layer=\"norm\",\n",
    "    save=False\n",
    ")"
   ]
  },
  {
   "cell_type": "code",
   "execution_count": null,
   "id": "00e2561b-a6fb-4a19-ac27-ea9fcb6cf4ce",
   "metadata": {},
   "outputs": [],
   "source": [
    "#Additional QC bar graphs\n",
    "adata_query.obs['cluster'] = adata.obs[\"leiden_scVI_1.1\"].copy()\n",
    "\n",
    "#Plot Log1p total counts\n",
    "fig, ax = plt.subplots(figsize=(30,6))\n",
    "sns.boxenplot(data=adata_query.obs, x=\"cluster\", y=\"log1p_total_counts\", ax=ax)\n",
    "\n",
    "#Plot Pct counts mito\n",
    "fig, ax = plt.subplots(figsize=(30,6))\n",
    "sns.boxenplot(data=adata_query.obs, x=\"cluster\", y=\"pct_counts_mito\", ax=ax)"
   ]
  },
  {
   "cell_type": "code",
   "execution_count": null,
   "id": "70804b8b-1822-4d17-b97c-7e9127349999",
   "metadata": {},
   "outputs": [],
   "source": [
    "# Find cluster markers for each leiden cluster\n",
    "# Confirming presence of high quality cells in each cluster\n",
    "sc.tl.rank_genes_groups(adata, 'leiden_scVI_1.1', method='wilcoxon', layer='norm', use_raw=False)\n",
    "pd.DataFrame(adata.uns['rank_genes_groups']['names']).head(50)"
   ]
  },
  {
   "cell_type": "code",
   "execution_count": null,
   "id": "62cfc6d5-1663-4c6b-ad07-80dee72c71e4",
   "metadata": {},
   "outputs": [],
   "source": [
    "#Identify and subset out low quality clusters (ie doublets based on high gene counts, clusters with low average gene counts not consistent with known marker genes, etc)\n",
    "\n",
    "bad_clust=['26']\n",
    "\n",
    "#Filter out bad clusters\n",
    "to_keep=(~adata.obs['leiden_scVI_1.1'].isin(bad_clust))\n",
    "\n",
    "#Copy over to new anndata object\n",
    "adata = adata[to_keep].copy()"
   ]
  },
  {
   "cell_type": "markdown",
   "id": "3aa09580-5d1e-45b0-97cf-a9beb0cd49ba",
   "metadata": {},
   "source": [
    "Just like in the creation of the mouse integration, perform another iteration of model training each time a cell cluster is subset out until no other low quality clusters remain. "
   ]
  },
  {
   "cell_type": "code",
   "execution_count": null,
   "id": "12e84300-ab6d-4601-91d2-eb1afcc25fb7",
   "metadata": {},
   "outputs": [],
   "source": [
    "# once finished, save adata object\n",
    "adata.write('full_human_OE_atlas_with_2_ONBs.h5ad')"
   ]
  },
  {
   "cell_type": "markdown",
   "id": "30b18dfc-fb27-4903-b6c3-9e5070841ba4",
   "metadata": {},
   "source": [
    "# subsetting out tumors"
   ]
  },
  {
   "cell_type": "code",
   "execution_count": null,
   "id": "d5b10110-8113-41c3-881a-7e59a0bd48ba",
   "metadata": {},
   "outputs": [],
   "source": [
    "adata=sc.read_h5ad('full_human_OE_atlas_with_2_ONBs.h5ad')"
   ]
  },
  {
   "cell_type": "code",
   "execution_count": null,
   "id": "c4ddd1ee-88ca-4fb1-b6c1-1ec6e1c6dc8b",
   "metadata": {},
   "outputs": [],
   "source": [
    "# first subsetting out only cells from the tumors\n",
    "clust=['ONB_A', 'ONB_B']\n",
    "\n",
    "#Filter out bad clusters\n",
    "to_keep=(adata.obs['orig_ident'].isin(clust))\n",
    "\n",
    "#Copy over to new anndata object\n",
    "adata_f = adata[to_keep].copy()"
   ]
  },
  {
   "cell_type": "code",
   "execution_count": null,
   "id": "e46f7ebb-fcbe-4091-9099-bfd2a878519a",
   "metadata": {},
   "outputs": [],
   "source": [
    "# now importantly subset out leiden clusters that do not contain normal, overlying epithelial or stromal cells\n",
    "\n",
    "# to easily visualize this, compare global adata umap with cluster names to newly subset out object\n",
    "fig, ax = plt.subplots(figsize=(6, 4))\n",
    "sc.pl.umap(adata, color=\"leiden_scVI_1.1\", legend_loc=\"on data\", ax=ax, s=30, frameon=False, save=False)\n",
    "fig, ax = plt.subplots(figsize=(6, 4))\n",
    "sc.pl.umap(adata, color=\"cluster_names\", legend_loc=\"on data\", ax=ax, s=30, frameon=False, save=False)\n",
    "\n",
    "fig, ax = plt.subplots(figsize=(6, 4))\n",
    "sc.pl.umap(adata_f, color=\"leiden_scVI_1.1\", legend_loc=\"on data\", ax=ax, s=30, frameon=False, save=False)"
   ]
  },
  {
   "cell_type": "code",
   "execution_count": null,
   "id": "c649fc78-a617-41f6-aa02-189366690ae2",
   "metadata": {},
   "outputs": [],
   "source": [
    "# can now reliably select leiden clusters that are distinct from normal OE and respiratory cells\n",
    "# for example:\n",
    "\n",
    "# leiden clusters unique to tumor\n",
    "clust=['0', '22', '44', '32', '49']\n",
    "\n",
    "#Filter out bad clusters\n",
    "to_keep=(adata_f.obs['leiden_scVI_1.1'].isin(clust))\n",
    "\n",
    "#Copy over to new anndata object\n",
    "adata_tumor = adata_f[to_keep].copy()"
   ]
  },
  {
   "cell_type": "code",
   "execution_count": null,
   "id": "84cb91fc-70c8-4297-872c-8e582233ee86",
   "metadata": {},
   "outputs": [],
   "source": [
    "# save adata object\n",
    "adata_tumor.write('human_ONB_tumors_only.h5ad')"
   ]
  },
  {
   "cell_type": "markdown",
   "id": "3080594c-e4ae-49c3-ba9b-30e30aac6afc",
   "metadata": {},
   "source": [
    "# plot generation"
   ]
  },
  {
   "cell_type": "code",
   "execution_count": null,
   "id": "255ff018-7cd3-410d-ad92-6748c654c2e8",
   "metadata": {},
   "outputs": [],
   "source": [
    "# to specifically label only cells from ONBs A and B on the global UMAP\n",
    "adata=sc.read_h5ad('full_human_OE_atlas_with_2_ONBs.h5ad')\n",
    "\n",
    "# Create a 1x2 grid layout\n",
    "fig = plt.figure(figsize=(16, 6))\n",
    "gs = gridspec.GridSpec(1, 2, width_ratios=[1, 1])\n",
    "\n",
    "# Plot the UMAP on the left\n",
    "ax0 = plt.subplot(gs[0])\n",
    "condition_A = adata.obs['orig_ident'] == 'ONB_A'\n",
    "condition_B = adata.obs['orig_ident'] == 'ONB_B'\n",
    "\n",
    "# Scatter plot for 'Other' cells\n",
    "scatter2 = ax0.scatter(\n",
    "    adata.obsm['X_umap'][~condition_A & ~condition_B, 0],\n",
    "    adata.obsm['X_umap'][~condition_A & ~condition_B, 1],\n",
    "    s=2,\n",
    "    c='lightgray',\n",
    "    label='Other'\n",
    ")\n",
    "\n",
    "# Scatter plot for ONB-A cells\n",
    "scatter1 = ax0.scatter(\n",
    "    adata.obsm['X_umap'][condition_A, 0],\n",
    "    adata.obsm['X_umap'][condition_A, 1],\n",
    "    s=2,\n",
    "    c='tab:red',\n",
    "    label='ONB-A'\n",
    ")\n",
    "\n",
    "# Scatter plot for ONB-B cells\n",
    "scatter_onb_1 = ax0.scatter(\n",
    "    adata.obsm['X_umap'][condition_B, 0],\n",
    "    adata.obsm['X_umap'][condition_B, 1],\n",
    "    s=2,\n",
    "    c='tab:blue',\n",
    "    label='ONB-B'\n",
    ")\n",
    "\n",
    "ax0.set_title(\"UMAP Plot\")\n",
    "ax0.axis('off')\n",
    "\n",
    "# Create custom legend handles\n",
    "legend_handles = [\n",
    "    Line2D([0], [0], marker='o', color='w', label='ONB-A', markerfacecolor='tab:red', markersize=8),\n",
    "    Line2D([0], [0], marker='o', color='w', label='Other', markerfacecolor='lightgray', markersize=8),\n",
    "    Line2D([0], [0], marker='o', color='w', label='ONB-B', markerfacecolor='tab:blue', markersize=8)\n",
    "]\n",
    "legend0 = ax0.legend(handles=legend_handles, loc='center left', bbox_to_anchor=(1, 0.5), title='Conditions')\n",
    "\n",
    "# Plot UMAP on the right\n",
    "ax1 = plt.subplot(gs[1])\n",
    "sc.pl.umap(adata, color=\"cluster_names\", legend_loc=\"on data\", ax=ax1, s=4, frameon=False, show=False)\n",
    "\n",
    "# Adjust the layout\n",
    "plt.tight_layout()\n",
    "plt.show()"
   ]
  },
  {
   "cell_type": "code",
   "execution_count": null,
   "id": "3d234da6-a529-4e44-b0bd-86ab14637859",
   "metadata": {},
   "outputs": [],
   "source": [
    "# to plot gene expression matrix across ONB-A and ONB-B\n",
    "\n",
    "# use tumors only adata object\n",
    "adata=sc.read_h5ad('human_ONB_tumors_only.h5ad')\n",
    "\n",
    "# generate new layer for scaling\n",
    "adata.layers['norm_scale']=adata.layers['norm'].copy()\n",
    "\n",
    "# scale gene values for visualization of plotting\n",
    "sc.pp.scale(adata, layer='norm_scale')\n",
    "# clip values so that between 0 and 1\n",
    "adata.layers['norm_scale']=adata.layers['norm_scale'].clip(0,1)\n",
    "\n",
    "# generate plot\n",
    "fig, ax = plt.subplots(figsize=(3,8))\n",
    "sc.pl.matrixplot(adata, ['NEUROD1', 'SOX11', 'GNG8', 'LHX2', 'CHGA', 'HES6', 'SYP', 'UCHL1', 'GRP',  #neuronal-like genes \n",
    "                         'CFTR', 'FOXI1', 'POU2F3', 'KRT8', 'KRT18', 'IGF1R', 'WWTR1', 'GRHL1', 'FGFR2', 'ITGA6', 'GRHL2'],  #non-neuronal like genes\n",
    "                 'tumor_cluster_names', dendrogram=False, cmap='Reds', \n",
    "                 colorbar_title='mean expression\\nin group',\n",
    "                 save=False, swap_axes=True, layer='norm_scale', ax=ax,\n",
    "                         categories_order=['ONB A', 'ONB B'],\n",
    "                vmin=0,\n",
    "                vmax=1\n",
    "                )"
   ]
  },
  {
   "cell_type": "markdown",
   "id": "3f05ee4e-1888-4ef2-8ea5-40ec2fd8a12b",
   "metadata": {},
   "source": [
    "To assess RPM and RPMA gene set scores in ONB-A and ONB-B:"
   ]
  },
  {
   "cell_type": "code",
   "execution_count": null,
   "id": "88d6aff0-e1a1-4f6d-937f-cf1dc411a178",
   "metadata": {},
   "outputs": [],
   "source": [
    "# use tumors only adata object\n",
    "adata=sc.read_h5ad('human_ONB_tumors_only.h5ad')\n",
    "\n",
    "# set .X to normalized layer so scores are calculated with normalized data\n",
    "adata.X = adata.layers['norm']"
   ]
  },
  {
   "cell_type": "code",
   "execution_count": null,
   "id": "54bbc29e-debf-4102-abe5-1d9068efbdc2",
   "metadata": {},
   "outputs": [],
   "source": [
    "# Read in gene set lists (these are derived from top genes in RPM vs RPMA DE)\n",
    "\n",
    "#RPM\n",
    "RPM_up_list = pd.read_csv('/hpc/group/goldsteinlab/R/Working_directory/mouse_edgeR_RPM_up_human_versions.csv')['x']\n",
    "#Convert df or series to list\n",
    "RPM_up_targets = RPM_up_list.squeeze().str.strip().to_list()\n",
    "\n",
    "#RPMA\n",
    "RPMA_up_list = pd.read_csv('/hpc/group/goldsteinlab/R/Working_directory/mouse_edgeR_RPMA_up_human_versions.csv')['x']\n",
    "#Convert df or series to list\n",
    "RPMA_up_targets = RPMA_up_list.squeeze().str.strip().to_list()"
   ]
  },
  {
   "cell_type": "code",
   "execution_count": null,
   "id": "8d0432bb-f1a8-4d63-a6c7-d799316fcd8f",
   "metadata": {},
   "outputs": [],
   "source": [
    "# use top 50 genes\n",
    "RPM_up_targets_f=RPM_up_targets[0:50]\n",
    "RPMA_up_targets_f=RPMA_up_targets[0:50]"
   ]
  },
  {
   "cell_type": "code",
   "execution_count": null,
   "id": "b2bb911e-67a2-40f3-8412-c0e86773a9c3",
   "metadata": {},
   "outputs": [],
   "source": [
    "# calculate scores\n",
    "sc.tl.score_genes(adata, RPM_up_targets_f, score_name='RPM_ONB_f', use_raw=False)\n",
    "sc.tl.score_genes(adata, RPMA_up_targets_f, score_name='RPMA_ONB_f', use_raw=False)"
   ]
  },
  {
   "cell_type": "code",
   "execution_count": null,
   "id": "0d9922e1-313b-4eba-bfdc-f20e21852915",
   "metadata": {},
   "outputs": [],
   "source": [
    "df_score = sc.get.obs_df(adata, keys=['RPM_ONB_f', 'RPMA_ONB_f', 'tumor_cluster_names'])"
   ]
  },
  {
   "cell_type": "code",
   "execution_count": null,
   "id": "f62a0c51-82c3-4edb-b354-3c7251679bf8",
   "metadata": {},
   "outputs": [],
   "source": [
    "from statannot import add_stat_annotation"
   ]
  },
  {
   "cell_type": "code",
   "execution_count": null,
   "id": "ca3d0c6d-30fb-4c9a-9cbb-571ac99a6f0c",
   "metadata": {},
   "outputs": [],
   "source": [
    "# plot violin plot\n",
    "gene='RPM_ONB_f'\n",
    "\n",
    "# Set Seaborn style to plain\n",
    "sns.set(style=\"white\")\n",
    "\n",
    "#mpl figure \n",
    "fig, ax = plt.subplots(figsize=(3,4))\n",
    "ax=sns.violinplot(data=df_score, x='tumor_cluster_names', y=gene, ax=ax, ci=95, capsize=0.1,\n",
    "             inner=None, order=['ONB A', 'ONB B'], palette=['tab:red', 'tab:blue'])\n",
    "sns.despine()\n",
    "plt.xticks(rotation=0)\n",
    "ax.set_xlabel('Tumor')\n",
    "\n",
    "sns.stripplot(data=df_score,\n",
    "    x=\"tumor_cluster_names\", \n",
    "    y=gene, \n",
    "     dodge=True, alpha=1, ax=ax, palette=['black', 'black'], size=2, order=['ONB A', 'ONB B']\n",
    ")\n",
    "sns.despine()\n",
    "plt.xticks(rotation=0)\n",
    "ax.set_xlabel('')\n",
    "\n",
    "#Stats\n",
    "ax, test_results=add_stat_annotation(ax, data=df_score, x='tumor_cluster_names', y=gene, box_pairs=[('ONB A', 'ONB B')], \n",
    "                                     test='Mann-Whitney', text_format='star', loc='outside', verbose=2, order=['ONB A', 'ONB B'])"
   ]
  },
  {
   "cell_type": "code",
   "execution_count": null,
   "id": "effa3b4b-5c48-417d-acce-5db32770d711",
   "metadata": {},
   "outputs": [],
   "source": []
  },
  {
   "cell_type": "code",
   "execution_count": null,
   "id": "6ebd0582-2c75-46a6-ae0b-af7a18951877",
   "metadata": {},
   "outputs": [],
   "source": []
  },
  {
   "cell_type": "code",
   "execution_count": null,
   "id": "1eadf5ac-7191-4e63-8ac3-f34479a049ae",
   "metadata": {},
   "outputs": [],
   "source": []
  }
 ],
 "metadata": {
  "kernelspec": {
   "display_name": "Python3.9_torch_env",
   "language": "python",
   "name": "pytorch"
  },
  "language_info": {
   "codemirror_mode": {
    "name": "ipython",
    "version": 3
   },
   "file_extension": ".py",
   "mimetype": "text/x-python",
   "name": "python",
   "nbconvert_exporter": "python",
   "pygments_lexer": "ipython3",
   "version": "3.9.18"
  }
 },
 "nbformat": 4,
 "nbformat_minor": 5
}
