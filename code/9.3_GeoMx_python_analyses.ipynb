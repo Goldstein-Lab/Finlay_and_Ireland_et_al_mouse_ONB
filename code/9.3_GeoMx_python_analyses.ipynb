{
 "cells": [
  {
   "cell_type": "markdown",
   "id": "18e3aca6-09c1-44ed-a3e8-d78e96425ee6",
   "metadata": {},
   "source": [
    "# prep workspace"
   ]
  },
  {
   "cell_type": "code",
   "execution_count": null,
   "id": "2f703bd6-9ef0-4a28-81a5-8aaf108aad1b",
   "metadata": {},
   "outputs": [],
   "source": [
    "# Import relevant packages\n",
    "import numpy as np\n",
    "import pandas as pd\n",
    "from matplotlib import rcParams\n",
    "import os\n",
    "import scanpy as sc\n",
    "import anndata as ad\n",
    "\n",
    "import matplotlib as mpl\n",
    "import matplotlib.pyplot as plt\n",
    "import matplotlib.cm as cm\n",
    "\n",
    "#For nice color schemes\n",
    "import cmocean\n",
    "\n",
    "#For barplots\n",
    "import seaborn as sns\n",
    "from statannot import add_stat_annotation"
   ]
  },
  {
   "cell_type": "code",
   "execution_count": null,
   "id": "b978b396-441d-4e5f-8e9f-cd4211f89ba8",
   "metadata": {},
   "outputs": [],
   "source": [
    "# Import scVI\n",
    "import scvi\n",
    "from scvi.model.utils import mde\n",
    "\n",
    "scvi.settings.verbosity = 40"
   ]
  },
  {
   "cell_type": "code",
   "execution_count": null,
   "id": "ff6f9212-40f6-4c4e-9cf4-c82e810d4dab",
   "metadata": {},
   "outputs": [],
   "source": [
    "# set wd\n",
    "os.chdir('/hpc/group/goldsteinlab/Python/ONB/GeoMx')"
   ]
  },
  {
   "cell_type": "code",
   "execution_count": null,
   "id": "bed94e82-bf2d-443f-8995-959c00307161",
   "metadata": {},
   "outputs": [],
   "source": [
    "# Show full pandas dataframe when produced\n",
    "pd.set_option('display.max_columns', 100)\n",
    "pd.set_option('display.max_rows', 100)\n",
    "\n",
    "# Set fontsize\n",
    "plt.rcParams.update({'font.size': 15})"
   ]
  },
  {
   "cell_type": "code",
   "execution_count": null,
   "id": "8e746617-0c04-40b1-87e8-6b5c6c39c153",
   "metadata": {},
   "outputs": [],
   "source": [
    "%matplotlib inline"
   ]
  },
  {
   "cell_type": "markdown",
   "id": "ca7cea28-cff8-4aa4-95a8-10459b7dcf08",
   "metadata": {},
   "source": [
    "# read in data"
   ]
  },
  {
   "cell_type": "markdown",
   "id": "1ac8eaef-9472-4182-b752-e23ce40761d8",
   "metadata": {},
   "source": [
    "First read in anndata object from GeoMx pre-processing (R pipeline, notebook 9). This is important because this has filtered out low-quality ROIs based on standardized, established methods. We will then filter the count corrected anndata object so that it only contains these high quality ROIs"
   ]
  },
  {
   "cell_type": "code",
   "execution_count": null,
   "id": "1085bd7b-d6e6-46c9-b6a7-10f7f7a87a97",
   "metadata": {},
   "outputs": [],
   "source": [
    "adata=sc.read_h5ad('/hpc/group/goldsteinlab/R/Working_directory/Nanostring/GeoMx_82_ROI.h5ad')"
   ]
  },
  {
   "cell_type": "code",
   "execution_count": null,
   "id": "3e46f66f-d707-4826-866d-08b4871e4bf8",
   "metadata": {},
   "outputs": [],
   "source": [
    "df_meta=pd.read_csv('/hpc/group/goldsteinlab/R/Working_directory/Nanostring/Geomx_metadata.csv')"
   ]
  },
  {
   "cell_type": "code",
   "execution_count": null,
   "id": "4ee7d222-c27c-4c22-a961-ac3ad6bfa437",
   "metadata": {},
   "outputs": [],
   "source": [
    "# ensure correct .obs\n",
    "array_segment= np.asanyarray(df_meta['segment'])\n",
    "adata.obs['segment']=array_segment\n",
    "\n",
    "array_ROI=np.asanyarray(df_meta['ROI_name'])\n",
    "adata.obs['ROI']=array_ROI\n",
    "\n",
    "array=np.asanyarray(df_meta['Scan_ID'])\n",
    "adata.obs['Slide']=array\n",
    "\n",
    "array=np.asanyarray(df_meta['area'])\n",
    "adata.obs['area']=array\n",
    "\n",
    "array=np.asanyarray(df_meta['nuclei'])\n",
    "adata.obs['nuclei']=array\n",
    "\n",
    "array=np.asanyarray(df_meta['Tumor'])\n",
    "adata.obs['tumor']=array\n",
    "\n",
    "array=np.asanyarray(df_meta['Grade'])\n",
    "adata.obs['grade']=array\n",
    "\n",
    "array=np.asanyarray(df_meta['Grade_hi_low'])\n",
    "adata.obs['grade_hi_low']=array\n",
    "\n",
    "array=np.asanyarray(df_meta['orig.ident'])\n",
    "adata.obs['obs_name']=array\n",
    "adata.obs['obs_name'] = adata.obs['obs_name'].str.replace('.dcc$', '', regex=True)\n",
    "\n",
    "# make sure .obs_names are in list format\n",
    "adata.obs_names = adata.obs['obs_name'].tolist()"
   ]
  },
  {
   "cell_type": "markdown",
   "id": "ddda30dc-dfec-4c44-9239-838705b211e3",
   "metadata": {},
   "source": [
    "Next, read in countcorrected anndata object"
   ]
  },
  {
   "cell_type": "code",
   "execution_count": null,
   "id": "eef0dfe4-08f8-4864-bc25-0280870e0398",
   "metadata": {},
   "outputs": [],
   "source": [
    "adata_cc = sc.read_h5ad('GeoMx_count_corrected.h5ad')"
   ]
  },
  {
   "cell_type": "code",
   "execution_count": null,
   "id": "83d724aa-92bb-45bb-a4e4-541f5d108c34",
   "metadata": {},
   "outputs": [],
   "source": [
    "# filter out low quality ROI segments\n",
    "\n",
    "# find common obs_names (ie ROI segments in both anndata objects)\n",
    "common_obs_names = adata_cc.obs_names.intersection(adata.obs_names)\n",
    "\n",
    "# filter based on common obs_names\n",
    "adata_cc = adata_cc[common_obs_names].copy()"
   ]
  },
  {
   "cell_type": "code",
   "execution_count": null,
   "id": "4c862233-4997-48e0-acd6-f7e036b0a587",
   "metadata": {},
   "outputs": [],
   "source": [
    "adata = adata_cc"
   ]
  },
  {
   "cell_type": "code",
   "execution_count": null,
   "id": "1555cef8-b0ef-46d9-a5fa-3c0a7d0c9191",
   "metadata": {},
   "outputs": [],
   "source": [
    "# check to make sure that there are 82; object now contains only properly QC filtered ROI segments\n",
    "adata"
   ]
  },
  {
   "cell_type": "markdown",
   "id": "1a9ff636-83b0-4eb7-a9f0-6c307adf4579",
   "metadata": {},
   "source": [
    "# gene set score violin plots"
   ]
  },
  {
   "cell_type": "code",
   "execution_count": null,
   "id": "e6f7b7c0-f33e-4774-ae71-ff372b50d996",
   "metadata": {},
   "outputs": [],
   "source": [
    "# For plotting purposes, remove ROI segments taken from areas of normal OE\n",
    "\n",
    "to_keep=(~adata.obs['Grade_hi_low'].isin(['Normal']))\n",
    "# Copy over to new anndata object\n",
    "adata = adata[to_keep].copy()"
   ]
  },
  {
   "cell_type": "code",
   "execution_count": null,
   "id": "857c62da-459e-4fd6-b011-5c7c64773e8b",
   "metadata": {},
   "outputs": [],
   "source": [
    "# For some plots (OE specific), can eliminate CD45+ ROI segments\n",
    "\n",
    "to_keep=(~adata.obs['segment'].isin(['CD45']))\n",
    "#Copy over to new anndata object\n",
    "adata = adata[to_keep].copy()"
   ]
  },
  {
   "cell_type": "code",
   "execution_count": null,
   "id": "a22bae9a-7345-47db-938d-352f9b627c61",
   "metadata": {},
   "outputs": [],
   "source": [
    "# define module scores\n",
    "# Module scores based on cell type signatures\n",
    "iOSN=['OLIG2', 'GNG8', 'EBF4', 'TUBB3']\n",
    "INP = ['LHX2', 'EBF1', 'SOX11', 'NEUROD1']\n",
    "GBC = ['HES6', 'KIT', 'CXCR4', 'ASCL1', 'SOX2']\n",
    "non_neuronal = ['KRT8', 'KRT18', 'SOX9', 'POU2F3', 'FOXI1']\n",
    "neuronal = ['OLIG2', 'GNG8', 'EBF4', 'TUBB3', 'CHGA', 'SYP', 'INSM1']\n",
    "myeloid = ['CD68', 'C1QA', 'C1QB', 'C1QC']\n",
    "lymphoid = ['CD3G', 'CD3E', 'CD4', 'CD8A', 'MS4A1']"
   ]
  },
  {
   "cell_type": "code",
   "execution_count": null,
   "id": "bda9c926-6dbb-4b07-b7ee-f67950e9a855",
   "metadata": {},
   "outputs": [],
   "source": [
    "# set .X to corrected quantile_normalized layer \n",
    "adata.X = adata.layers['corrected_quantile_norm']"
   ]
  },
  {
   "cell_type": "code",
   "execution_count": null,
   "id": "6b991efb-3d00-4616-862b-f9083e039806",
   "metadata": {},
   "outputs": [],
   "source": [
    "#Add targets to anndata object\n",
    "sc.tl.score_genes(adata, iOSN, score_name='iOSN_enriched')\n",
    "sc.tl.score_genes(adata, INP, score_name='INP_enriched')\n",
    "sc.tl.score_genes(adata, GBC, score_name='GBC_enriched')\n",
    "\n",
    "sc.tl.score_genes(adata, non_neuronal, score_name='non_neuronal_enriched')\n",
    "sc.tl.score_genes(adata, neuronal, score_name='neuronal_enriched')\n",
    "\n",
    "sc.tl.score_genes(adata, myeloid, score_name='myeloid_enriched')\n",
    "sc.tl.score_genes(adata, lymphoid, score_name='lymphoid_enriched')"
   ]
  },
  {
   "cell_type": "code",
   "execution_count": null,
   "id": "a9a110ef-af06-4332-a111-ddc784c8a215",
   "metadata": {},
   "outputs": [],
   "source": [
    "# create df with scores\n",
    "df_score = sc.get.obs_df(adata_f, keys=['segment', 'iOSN_enriched', 'INP_enriched',\n",
    "                                        'GBC_enriched', 'non_neuronal_enriched', 'neuronal_enriched',\n",
    "                                        'myeloid_enriched', 'lymphoid_enriched',\n",
    "                                        'Grade_hi_low', 'Grade', 'Tumor'])"
   ]
  },
  {
   "cell_type": "code",
   "execution_count": null,
   "id": "97c343ab-50cf-45bc-abb1-1a500cd80012",
   "metadata": {},
   "outputs": [],
   "source": [
    "# aesthetic changes for plotting\n",
    "df_score = df_score.replace('Tuj1', 'TUBB3')\n",
    "df_score = df_score.replace('Ki-67', 'KI-67')"
   ]
  },
  {
   "cell_type": "code",
   "execution_count": null,
   "id": "e897d47c-907d-4fb6-8d8e-02085d136ac4",
   "metadata": {},
   "outputs": [],
   "source": [
    "# Plot Violinplot\n",
    "\n",
    "score='myeloid_enriched'\n",
    "\n",
    "fig, ax = plt.subplots(figsize=(5,5))\n",
    "ax=sns.violinplot(data=df_score, x='segment', y=score, ax=ax, ci=95, capsize=0.1,\n",
    "         hue='grade_hi_low', palette=['tab:blue', 'tab:orange'], inner=None, order=['KI-67', 'TUBB3', 'negative'], hue_order=['Low', 'High'])\n",
    "sns.stripplot(data=df_score,\n",
    "    x=\"segment\", \n",
    "    y=score, \n",
    "    hue=\"grade_hi_low\", dodge=True, alpha=1, ax=ax, palette=['black', 'black', 'black'], size=4, order=['KI-67', 'TUBB3', 'negative']\n",
    ")\n",
    "sns.despine()\n",
    "plt.xticks(rotation=0)\n",
    "ax.set_xlabel('ROI Segment')\n",
    "\n",
    "# Specify legend\n",
    "handles, labels = ax.get_legend_handles_labels()\n",
    "ax.legend(handles[2:], labels[2:], title='ONB Grade', bbox_to_anchor=(1, 1.02), loc='upper left')\n",
    "\n",
    "# Stats\n",
    "ax, test_results=add_stat_annotation(ax, data=df_score, x='segment', y=score, hue='grade_hi_low', box_pairs=[(('KI-67', 'Low'), ('KI-67', 'High')), (('TUBB3', 'Low'), ('TUBB3', 'High')),\n",
    "                                                                                                                             (('negative', 'High'), ('negative', 'Low'))], \n",
    "                                     test='Mann-Whitney', text_format='star', loc='outside', verbose=2, order=['KI-67', 'TUBB3', 'negative'])"
   ]
  },
  {
   "cell_type": "markdown",
   "id": "fca14be3-b205-4fef-96a7-883c382558fc",
   "metadata": {},
   "source": [
    "# generation of unbiased tumor clusters"
   ]
  },
  {
   "cell_type": "markdown",
   "id": "d75b63d9-42e5-4d25-9010-6d04a2a3e72e",
   "metadata": {},
   "source": [
    "Use same adata as in previous section (filtered adata with 82 ROIs)"
   ]
  },
  {
   "cell_type": "code",
   "execution_count": null,
   "id": "d6d0b337-e8ab-4bf5-8c5f-22998c26f99c",
   "metadata": {},
   "outputs": [],
   "source": [
    "# Becuase we are looking at tumor clusters, remove CD45+ and normal cell ROIs\n",
    "\n",
    "# remove CD45\n",
    "to_keep=(~adata.obs['segment'].isin(['CD45']))\n",
    "adata = adata[to_keep].copy()\n",
    "\n",
    "# remove normal\n",
    "to_keep=(~adata.obs['Grade_hi_low'].isin(['Normal']))\n",
    "adata = adata[to_keep].copy()"
   ]
  },
  {
   "cell_type": "code",
   "execution_count": null,
   "id": "fff39b16-5e7c-48e0-ad4f-351e4a8b6590",
   "metadata": {},
   "outputs": [],
   "source": [
    "# set .X to raw count corrected layer since scvi requires raw counts\n",
    "adata.X = adata.layers['raw_corrected']"
   ]
  },
  {
   "cell_type": "code",
   "execution_count": null,
   "id": "f684c3bd-c479-40d9-8134-62af8d0bf4f6",
   "metadata": {},
   "outputs": [],
   "source": [
    "#HVG via Scanpy\n",
    "#Note here that if you run with a batch_key with few cells, will get b'reciprocal condition number error\n",
    "sc.pp.highly_variable_genes(\n",
    "    adata,\n",
    "    n_top_genes=3000,\n",
    "    subset=False,\n",
    "    flavor=\"seurat_v3\"\n",
    ")"
   ]
  },
  {
   "cell_type": "code",
   "execution_count": null,
   "id": "5905844e-44df-490a-9e6e-41bc84316004",
   "metadata": {},
   "outputs": [],
   "source": [
    "#Calculate Poisson gene selection\n",
    "\n",
    "df_poisson = scvi.data.poisson_gene_selection(\n",
    "    adata, n_top_genes=3000, batch_key=\"Tumor\", inplace=False\n",
    ")\n",
    "\n",
    "df_poisson[df_poisson.highly_variable].sort_values('prob_zero_enrichment_rank')\n",
    "\n",
    "pd.crosstab(df_poisson.highly_variable, adata.var.highly_variable)\n",
    "\n",
    "is_hvg = df_poisson.highly_variable\n",
    "\n",
    "adata.varm['df_poisson']= df_poisson\n",
    "\n",
    "adata_query = adata[:, is_hvg].copy()\n",
    "print(adata_query)"
   ]
  },
  {
   "cell_type": "code",
   "execution_count": null,
   "id": "c1464251-0d85-4287-a3dd-9a3b9129c355",
   "metadata": {},
   "outputs": [],
   "source": [
    "#Set up scvi model\n",
    "\n",
    "#Can insert batch_key here if desired\n",
    "scvi.model.SCVI.setup_anndata(\n",
    "    adata,\n",
    "    categorical_covariate_keys=['slide'],\n",
    "    continuous_covariate_keys=['area', 'nuclei'],\n",
    "    batch_key='Tumor'\n",
    ")\n",
    "\n",
    "model = scvi.model.SCVI(adata, gene_likelihood=\"nb\")\n",
    "\n",
    "model.view_anndata_setup()"
   ]
  },
  {
   "cell_type": "code",
   "execution_count": null,
   "id": "0f12debe-3655-4323-b886-e427bba7d9f3",
   "metadata": {},
   "outputs": [],
   "source": [
    "#Train scvi\n",
    "\n",
    "#Training parameters\n",
    "train_kwargs = dict(\n",
    "    early_stopping=True,\n",
    "    early_stopping_patience=20,\n",
    "    enable_model_summary=True,\n",
    "    enable_progress_bar=True,\n",
    "    enable_checkpointing=True,\n",
    "    max_epochs=500\n",
    ")\n",
    "\n",
    "#Train model\n",
    "#Be sure GPU is enabled to run this\n",
    "model.train(**train_kwargs)"
   ]
  },
  {
   "cell_type": "code",
   "execution_count": null,
   "id": "3d647011-b0d1-4e87-ba83-9cb9d4d3c6dc",
   "metadata": {},
   "outputs": [],
   "source": [
    "#Plot model results\n",
    "train_elbo = model.history['elbo_train'][1:]\n",
    "test_elbo = model.history['elbo_validation']\n",
    "\n",
    "ax = train_elbo.plot()\n",
    "test_elbo.plot(ax = ax)"
   ]
  },
  {
   "cell_type": "code",
   "execution_count": null,
   "id": "f9d7d742-d726-4015-9fb9-afce2a84600e",
   "metadata": {},
   "outputs": [],
   "source": [
    "#Fit model to data\n",
    "\n",
    "#Get latent representation of model to apply to UMAP\n",
    "latent = model.get_latent_representation()\n",
    "\n",
    "adata.obsm[\"X_scVI_1.1\"] = latent\n",
    "\n",
    "#Calculate neighbors using scVI model input\n",
    "sc.pp.neighbors(adata, use_rep=\"X_scVI_1.1\", n_neighbors=10)\n",
    "sc.tl.umap(adata, min_dist=1.0)\n",
    "\n",
    "#Run leiden clustering based on neighbors\n",
    "sc.tl.leiden(adata, key_added=\"leiden_scVI_1.1\", resolution=0.6)"
   ]
  },
  {
   "cell_type": "code",
   "execution_count": null,
   "id": "cc11d31d-3bcc-4488-abaa-c40d2853c7ca",
   "metadata": {},
   "outputs": [],
   "source": [
    "# assess batch effects\n",
    "sc.pl.umap(adata, color=['Tumor', 'segment', 'Grade_hi_low', 'leiden_scVI_1.1'], cmap=\"cmo.matter\", s=800, \n",
    "           vmax=\"p99.99\", frameon=False, save=False)"
   ]
  },
  {
   "cell_type": "code",
   "execution_count": null,
   "id": "9cdf5d97-23e2-43b5-8e0e-cced40b18a74",
   "metadata": {},
   "outputs": [],
   "source": [
    "# checking quality of ROI segments by cluster\n",
    "sc.pp.calculate_qc_metrics(adata, percent_top=None, log1p=False, inplace=True)\n",
    "sc.pl.violin(adata, ['n_genes_by_counts', 'total_counts'],\n",
    "             jitter=0.4, multi_panel=True, groupby='leiden_scVI_1.1')"
   ]
  },
  {
   "cell_type": "code",
   "execution_count": null,
   "id": "43e65530-3645-4a7f-8f69-64ae8688e5f2",
   "metadata": {},
   "outputs": [],
   "source": [
    "# Calculate the average total_counts per Leiden cluster\n",
    "average_counts_per_cluster = adata.obs.groupby('leiden_scVI_1.1')['total_counts'].mean()\n",
    "\n",
    "# Print or further analyze the results\n",
    "print(average_counts_per_cluster)"
   ]
  },
  {
   "cell_type": "code",
   "execution_count": null,
   "id": "18505c18-e629-4d5a-bf12-2399c7ef84f4",
   "metadata": {},
   "outputs": [],
   "source": [
    "# Can check expression of various marker genes in a heatmap across leiden clusters\n",
    "\n",
    "# first, for heatmap plotting purposes, create log normalized layer\n",
    "adata.layers[\"log_corrected_quantile_norm\"] = adata.layers['corrected_quantile_norm'].copy()\n",
    "sc.pp.log1p(adata, layer='log_corrected_quantile_norm')\n",
    "\n",
    "\n",
    "# gene list\n",
    "genes = ['EZH2', 'KRT8', 'KRT18', 'MKI67', 'RUNX1', 'RUNX1T1', 'LHX2', 'NEUROD1', 'KIT',\n",
    "         'ASCL1', 'MYC', 'CHGB', 'OLFM1', 'SOX11', 'SOX9', 'SOX2', 'TOP2A', 'DLL3',\n",
    "         'SEZ6', 'POU2F3', 'FOXI1']\n",
    "\n",
    "# Extract data for heatmap\n",
    "df_heatmap = pd.DataFrame(adata[:, genes].layers['log_corrected_quantile_norm'], columns=genes, index=adata.obs_names)\n",
    "\n",
    "# Manually reorder rows based on leiden clusters\n",
    "leiden_order = np.argsort(adata.obs['leiden_scVI_1.1'])\n",
    "df_heatmap_ordered = df_heatmap.iloc[leiden_order]\n",
    "\n",
    "# Get leiden cluster labels for each cell\n",
    "leiden_labels = adata.obs['leiden_scVI_1.1'].values[leiden_order]\n",
    "\n",
    "# Convert the cluster labels to integers\n",
    "leiden_labels_int = leiden_labels.astype(int)\n",
    "\n",
    "# palette\n",
    "palette = sns.color_palette('tab10', n_colors=len(np.unique(leiden_labels_int)))\n",
    "\n",
    "# Plot clustermap \n",
    "sns.set(font_scale=0.8)  # Adjust font size for legend\n",
    "clustermap = sns.clustermap(df_heatmap_ordered, cmap='viridis', method='ward', col_cluster=True, row_cluster=False,\n",
    "                            row_colors=[palette[i] for i in leiden_labels_int], figsize=(10, 8))\n",
    "\n",
    "# Create legend \n",
    "legend_labels = [f'Cluster {i}' for i in np.unique(leiden_labels_int)]\n",
    "legend_handles = [plt.Line2D([0], [0], marker='o', color=palette[i], label=label, markersize=10) for i, label in enumerate(legend_labels)]\n",
    "legend = plt.legend(handles=legend_handles, title='Leiden Clusters', loc='upper right', bbox_to_anchor=(11, 1))\n",
    "\n",
    "# Create colorbar\n",
    "cbar = clustermap.ax_heatmap.collections[0].colorbar\n",
    "cbar.set_label('Expression Level', rotation=270, labelpad=15)\n",
    "\n",
    "# Adjust the position of the color bar legend\n",
    "cbar.ax.set_position([1.05, 0.4, 0.02, 0.2])  # Adjust the values as needed\n",
    "\n",
    "# Show the plot\n",
    "plt.show()"
   ]
  },
  {
   "cell_type": "code",
   "execution_count": null,
   "id": "3f8b58d7-d412-4d9b-8369-37876c07d3ea",
   "metadata": {},
   "outputs": [],
   "source": [
    "# remove leiden clusters with low average counts per cluster, combined with low to zero expression of any tumor markers expressed in heatmap\n",
    "\n",
    "# for example, here removing leiden cluster 2\n",
    "\n",
    "to_keep=(adata.obs['leiden_scVI_1.1'].isin(['0', '1']))\n",
    "#Copy over to new anndata object\n",
    "adata = adata[to_keep].copy()\n",
    "\n",
    "# rename clusters \"0\" and \"1\" to \"1\" and \"2\" for plotting purposes\n",
    "new_cluster_names = ['1', '2']\n",
    "adata.rename_categories('leiden_scVI_1.1', new_cluster_names)"
   ]
  },
  {
   "cell_type": "markdown",
   "id": "b7a030ac-5811-4519-ba3d-87ffe15d4b55",
   "metadata": {},
   "source": [
    "# unbiased cluster plots"
   ]
  },
  {
   "cell_type": "code",
   "execution_count": null,
   "id": "4348b14b-80b1-4e79-932e-52d7b33b30d2",
   "metadata": {},
   "outputs": [],
   "source": [
    "# Stacked bar chart to assess population proportions\n",
    "\n",
    "# set seaborn style \n",
    "sns.set(style=\"white\")\n",
    "\n",
    "# Create df\n",
    "df_stacked_bar = pd.DataFrame({'Leiden Cluster': adata.obs['leiden_scVI_1.1'].values,\n",
    "                               'Grade_hi_low': adata.obs['Grade_hi_low'].values})\n",
    "\n",
    "# Cross-tab \n",
    "cross_tab = pd.crosstab(df_stacked_bar['Leiden Cluster'], df_stacked_bar['Grade_hi_low'], normalize='index')\n",
    "\n",
    "# Plot \n",
    "plt.figure(figsize=(2, 6))\n",
    "sns.barplot(data=cross_tab.reset_index(), x='Leiden Cluster', y='High', color='tab:red', label='High')\n",
    "sns.barplot(data=cross_tab.reset_index(), x='Leiden Cluster', y='Low', color='tab:green', bottom=cross_tab['High'], label='Low')\n",
    "\n",
    "# Labels\n",
    "plt.title('Proportion of Cells in Leiden Clusters by Grade')\n",
    "plt.xlabel('Leiden Cluster')\n",
    "plt.ylabel('Proportion')\n",
    "plt.legend(title='Grade_hi_low', loc='upper right')\n",
    "\n",
    "# Set y-axis limit to end at 1\n",
    "plt.ylim(0, 1)\n",
    "\n",
    "# Move legend outside of plot\n",
    "plt.legend(title='Grade_hi_low', bbox_to_anchor=(1.05, 1), loc='upper left')\n",
    "\n",
    "# Show the plot\n",
    "plt.show()"
   ]
  },
  {
   "cell_type": "code",
   "execution_count": null,
   "id": "14df5cd0-f30a-49dd-866c-dda8060d61e3",
   "metadata": {},
   "outputs": [],
   "source": [
    "# generate enriched gene lists per leiden cluster\n",
    "sc.tl.rank_genes_groups(adata, 'leiden_scVI_1.1', method='wilcoxon', layer='corrected_quantile_norm', use_raw=False)\n",
    "pd.DataFrame(adata.uns['rank_genes_groups']['names']).head(100)\n",
    "top_genes_list = top_genes.values.flatten().tolist()"
   ]
  },
  {
   "cell_type": "code",
   "execution_count": null,
   "id": "4996487a-1516-4af7-b0fd-50b5bc37b277",
   "metadata": {},
   "outputs": [],
   "source": [
    "# plot heatmap \n",
    "\n",
    "# genes (using top genes per cluster)\n",
    "genes = top_genes_list\n",
    "\n",
    "# extract df\n",
    "df_heatmap = pd.DataFrame(adata[:, genes].layers['log_corrected_quantile_norm'], columns=genes, index=adata.obs_names)\n",
    "\n",
    "# reorder rows based on leiden clusters\n",
    "leiden_order = np.argsort(adata.obs['leiden_scVI_1.1'])\n",
    "df_heatmap_ordered = df_heatmap.iloc[leiden_order]\n",
    "\n",
    "# get cluster labels for each ROI\n",
    "leiden_labels = adata.obs['leiden_scVI_1.1'].values[leiden_order]\n",
    "\n",
    "# Convert to integers\n",
    "leiden_labels_int = leiden_labels.astype(int)\n",
    "\n",
    "# palette\n",
    "palette = sns.color_palette('tab10', n_colors=len(np.unique(leiden_labels_int)))\n",
    "\n",
    "# plot\n",
    "sns.set(font_scale=0.8)  # Adjust font size for legend\n",
    "clustermap = sns.clustermap(df_heatmap_ordered, cmap='viridis', method='ward', col_cluster=True, row_cluster=False,\n",
    "                            row_colors=[palette[i] for i in leiden_labels_int], figsize=(10, 8))\n",
    "\n",
    "# legend for leiden clusters\n",
    "legend_labels = [f'Cluster {i}' for i in np.unique(leiden_labels_int)]\n",
    "legend_handles = [plt.Line2D([0], [0], marker='o', color=palette[i], label=label, markersize=10) for i, label in enumerate(legend_labels)]\n",
    "legend = plt.legend(handles=legend_handles, title='Leiden Clusters', loc='upper right', bbox_to_anchor=(11, 1))\n",
    "\n",
    "# color bar\n",
    "cbar = clustermap.ax_heatmap.collections[0].colorbar\n",
    "cbar.set_label('Expression Level', rotation=270, labelpad=15)\n",
    "\n",
    "# Adjust positioning\n",
    "cbar.ax.set_position([1.05, 0.4, 0.02, 0.2])  # Adjust the values as needed\n",
    "\n",
    "# show\n",
    "plt.show()"
   ]
  },
  {
   "cell_type": "code",
   "execution_count": null,
   "id": "69a67d34-e3e9-44d1-a11e-8a537d30faa4",
   "metadata": {},
   "outputs": [],
   "source": [
    "# to make violin plots for specific genes\n",
    "\n",
    "# make sure .X is set to normalized layer\n",
    "adata.X=adata.layers['corrected_quantile_norm']\n",
    "\n",
    "# first specify genes to query\n",
    "genes=['KRT8', 'KRT18', 'RUNX1', 'RUNX1T1', 'EZH2', 'KIT', 'POU2F3', 'FOXI1',\n",
    "      'TUBB3', 'MKI67', 'ASCL1', 'CXCR4', 'NEUROD1', 'EBF1', 'SOX11', 'GAP43',\n",
    "      'LHX2', 'OLIG2', 'GNG8', 'SOX2', 'ERMN', 'KITLG', 'LUM', 'DCN', 'RUNX2',\n",
    "      'KRT1', 'KRT2', 'KRT4', 'KRT5', 'KRT7', 'KRT9', 'KRT10',\n",
    "      'KRT12', 'KRT13', 'KRT14', 'KRT15', 'KRT16', 'KRT17', 'KRT19',\n",
    "      'MUC1', 'MUC5AC', 'UCHL1', 'ENO2', 'CRMP1', 'DLL3', 'SSTR2', 'SEZ6', 'HES1',\n",
    "      'MYC', 'YAP1', 'CFTR', 'GPX6', 'MYCN', 'INSM1', 'TOP2A', 'NEURL1', 'PLCH2',\n",
    "      'SYT7', 'DLK1', 'MEX3A', 'KDM2B', 'MYCL', 'BCL2', 'GRHL1', 'CHGA', 'CHGB',\n",
    "      'GRP', 'SYP']\n",
    "\n",
    "# create df\n",
    "df_gene1 = sc.get.obs_df(adata, genes).join(adata.obs)"
   ]
  },
  {
   "cell_type": "code",
   "execution_count": null,
   "id": "ab716a43-2661-4c39-950c-5fe08776df3b",
   "metadata": {},
   "outputs": [],
   "source": [
    "# choose gene from list above\n",
    "gene='UCHL1'\n",
    "\n",
    "\n",
    "# set style\n",
    "sns.set(style=\"white\")\n",
    "\n",
    "# plot figure\n",
    "fig, ax = plt.subplots(figsize=(2,4))\n",
    "ax=sns.violinplot(data=df_gene1, x='leiden_scVI_1.1', y=gene, ax=ax, ci=95, capsize=0.1,\n",
    "             inner=None, order=['1', '2'], palette='tab10')\n",
    "sns.despine()\n",
    "plt.xticks(rotation=0)\n",
    "ax.set_xlabel('ROI Segment')\n",
    "\n",
    "sns.stripplot(data=df_gene1,\n",
    "    x=\"leiden_scVI_1.1\", \n",
    "    y=gene, \n",
    "     dodge=True, alpha=1, ax=ax, palette=['black', 'black', 'black'], size=4, order=['1', '2']\n",
    ")\n",
    "sns.despine()\n",
    "plt.xticks(rotation=0)\n",
    "ax.set_xlabel('ROI Segment')\n",
    "\n",
    "# stats\n",
    "ax, test_results=add_stat_annotation(ax, data=df_gene1, x='leiden_scVI_1.1', y=gene, box_pairs=[('1', '2')], \n",
    "                                     test='Mann-Whitney', text_format='star', loc='outside', verbose=2, order=['1', '2'])"
   ]
  },
  {
   "cell_type": "markdown",
   "id": "af12ad59-0faa-48e0-8a81-bf5a7a2d79cf",
   "metadata": {},
   "source": [
    "To calculate gene set scores derived from mouse RPM and RPMA ONB models:"
   ]
  },
  {
   "cell_type": "code",
   "execution_count": null,
   "id": "14d50a9e-cfa0-4d2a-a209-2fc637de5310",
   "metadata": {},
   "outputs": [],
   "source": [
    "# Read in humanized gene lists derived from edgeR enriched genes for RPM and RPMA tumors\n",
    "\n",
    "#RPM\n",
    "RPM_up_list = pd.read_csv('/hpc/group/goldsteinlab/R/Working_directory/mouse_edgeR_RPM_up_human_versions.csv')['x']\n",
    "RPM_up_targets = RPM_up_list.squeeze().str.strip().to_list()\n",
    "\n",
    "#RPMA\n",
    "RPMA_up_list = pd.read_csv('/hpc/group/goldsteinlab/R/Working_directory/mouse_edgeR_RPMA_up_human_versions.csv')['x']\n",
    "RPMA_up_targets = RPMA_up_list.squeeze().str.strip().to_list()"
   ]
  },
  {
   "cell_type": "code",
   "execution_count": null,
   "id": "885f2055-4260-4a0f-a5de-4aa9a1ad628c",
   "metadata": {},
   "outputs": [],
   "source": [
    "# use top 100 genes\n",
    "RPM_up_targets_f=RPM_up_targets[0:100]\n",
    "RPMA_up_targets_f=RPMA_up_targets[0:100]"
   ]
  },
  {
   "cell_type": "code",
   "execution_count": null,
   "id": "6fdf8e65-fa07-47da-ba98-f819f2840751",
   "metadata": {},
   "outputs": [],
   "source": [
    "# Add targets to anndata object\n",
    "# make sure .X is set to the normalized layer prior to running this\n",
    "sc.tl.score_genes(adata, RPM_up_targets_f, score_name='RPM_ONB_f', use_raw=False)\n",
    "sc.tl.score_genes(adata, RPMA_up_targets_f, score_name='RPMA_ONB_f', use_raw=False)"
   ]
  },
  {
   "cell_type": "code",
   "execution_count": null,
   "id": "8ec3bba3-7d5e-44f4-833e-a1099ab1b871",
   "metadata": {},
   "outputs": [],
   "source": [
    "# df\n",
    "df_score = sc.get.obs_df(adata, keys=['RPM_ONB_f', 'RPMA_ONB_f', 'leiden_scVI_1.1'])"
   ]
  },
  {
   "cell_type": "code",
   "execution_count": null,
   "id": "77f8f12e-795b-4b2b-93d3-26b8a2f37656",
   "metadata": {},
   "outputs": [],
   "source": [
    "gene='RPMA_ONB_f'\n",
    "\n",
    "\n",
    "# Set Seaborn style to plain\n",
    "sns.set(style=\"white\")\n",
    "\n",
    "# plot violinplot\n",
    "fig, ax = plt.subplots(figsize=(3,4))\n",
    "ax=sns.violinplot(data=df_score, x='leiden_scVI_1.1', y=gene, ax=ax, ci=95, capsize=0.1,\n",
    "             inner=None, order=['1', '2'], palette='tab10')\n",
    "sns.despine()\n",
    "plt.xticks(rotation=0)\n",
    "ax.set_xlabel('ROI Segment')\n",
    "\n",
    "sns.stripplot(data=df_score,\n",
    "    x=\"leiden_scVI_1.1\", \n",
    "    y=gene, \n",
    "     dodge=True, alpha=1, ax=ax, palette=['black', 'black', 'black'], size=4, order=['1', '2']\n",
    ")\n",
    "sns.despine()\n",
    "plt.xticks(rotation=0)\n",
    "ax.set_xlabel('ROI Segment')\n",
    "\n",
    "# stats\n",
    "ax, test_results=add_stat_annotation(ax, data=df_score, x='leiden_scVI_1.1', y=gene, box_pairs=[('1', '2')], \n",
    "                                     test='Mann-Whitney', text_format='star', loc='outside', verbose=2, order=['1', '2'])"
   ]
  },
  {
   "cell_type": "code",
   "execution_count": null,
   "id": "9c05d86e-8461-4285-b5d9-462b876625ad",
   "metadata": {},
   "outputs": [],
   "source": []
  },
  {
   "cell_type": "code",
   "execution_count": null,
   "id": "9133eeb0-6ba0-4498-bedf-5ee0f1b23cb3",
   "metadata": {},
   "outputs": [],
   "source": []
  },
  {
   "cell_type": "code",
   "execution_count": null,
   "id": "95256747-ce20-4bd6-852a-8f068162c95c",
   "metadata": {},
   "outputs": [],
   "source": []
  }
 ],
 "metadata": {
  "kernelspec": {
   "display_name": "Python3.9_torch_env",
   "language": "python",
   "name": "pytorch"
  },
  "language_info": {
   "codemirror_mode": {
    "name": "ipython",
    "version": 3
   },
   "file_extension": ".py",
   "mimetype": "text/x-python",
   "name": "python",
   "nbconvert_exporter": "python",
   "pygments_lexer": "ipython3",
   "version": "3.9.18"
  }
 },
 "nbformat": 4,
 "nbformat_minor": 5
}
