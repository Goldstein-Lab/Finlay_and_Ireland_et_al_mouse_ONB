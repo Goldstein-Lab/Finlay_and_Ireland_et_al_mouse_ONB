{
 "cells": [
  {
   "cell_type": "markdown",
   "id": "e2b372d3-6c64-422e-a8eb-c6d74731003f",
   "metadata": {},
   "source": [
    "# Prep environment"
   ]
  },
  {
   "cell_type": "code",
   "execution_count": null,
   "id": "bbb5fff4-520e-4fc2-a97b-e04c46f73200",
   "metadata": {},
   "outputs": [],
   "source": [
    "#Import relevant packages\n",
    "import numpy as np\n",
    "import pandas as pd\n",
    "from matplotlib import rcParams\n",
    "import os\n",
    "import scanpy as sc\n",
    "\n",
    "import matplotlib as mpl\n",
    "import matplotlib.pyplot as plt\n",
    "\n",
    "#For nice color schemes\n",
    "import cmocean\n",
    "\n",
    "#For barplots\n",
    "import seaborn as sns"
   ]
  },
  {
   "cell_type": "code",
   "execution_count": null,
   "id": "45d7aacb-f624-4add-8119-dca33cdf1766",
   "metadata": {},
   "outputs": [],
   "source": [
    "#Import scVI\n",
    "import scvi\n",
    "from scvi.model.utils import mde\n",
    "\n",
    "scvi.settings.verbosity = 40"
   ]
  },
  {
   "cell_type": "code",
   "execution_count": null,
   "id": "72eb6b83-6074-47d4-aa25-373b00f6a7aa",
   "metadata": {},
   "outputs": [],
   "source": [
    "#Set wd \n",
    "os.chdir('/hpc/group/goldsteinlab/Python')"
   ]
  },
  {
   "cell_type": "code",
   "execution_count": null,
   "id": "bb557da8-575e-475f-ac6a-b656f7764bd5",
   "metadata": {},
   "outputs": [],
   "source": [
    "#Show specific size of pandas dataframe when produced\n",
    "pd.set_option('display.max_columns', 100)\n",
    "pd.set_option('display.max_rows', 100)"
   ]
  },
  {
   "cell_type": "code",
   "execution_count": null,
   "id": "dcba1cef-1006-45e7-b514-92d1effa1338",
   "metadata": {},
   "outputs": [],
   "source": [
    "#Set fontsize\n",
    "plt.rcParams.update({'font.size': 20})"
   ]
  },
  {
   "cell_type": "code",
   "execution_count": null,
   "id": "ef6d6f5e-94f2-4c2c-8a00-238ff589dc0d",
   "metadata": {},
   "outputs": [],
   "source": [
    "%matplotlib inline"
   ]
  },
  {
   "cell_type": "markdown",
   "id": "7b5b6b13-76d8-4946-bfbd-1489c9bd4b9f",
   "metadata": {},
   "source": [
    "# Load in data"
   ]
  },
  {
   "cell_type": "code",
   "execution_count": null,
   "id": "56294804-48f8-4e2c-b623-6f5a3b0cfce0",
   "metadata": {},
   "outputs": [],
   "source": [
    "# Read in previously created atlas\n",
    "# This was created with normal mouse OE from Ko et al 2023 and Horgue et al 2022 (GSE185168 and GSE224894)\n",
    "adata_m=sc.read_h5ad('/hpc/group/goldsteinlab/tbk13_Python/EEDKOHET_WT_anndata_scVI1.6.1.h5ad')"
   ]
  },
  {
   "cell_type": "code",
   "execution_count": null,
   "id": "2f969335-7452-46df-9fde-bdfe54eba17c",
   "metadata": {},
   "outputs": [],
   "source": [
    "adata_m.obs.groupby(['genotype']).apply(len)"
   ]
  },
  {
   "cell_type": "code",
   "execution_count": null,
   "id": "f9572bac-c450-40df-bd01-99e67547577d",
   "metadata": {},
   "outputs": [],
   "source": [
    "adata_m.obs.groupby(['mouse_ident']).apply(len)"
   ]
  },
  {
   "cell_type": "code",
   "execution_count": null,
   "id": "6e902c48-8f95-4551-9cc6-7dea12254858",
   "metadata": {},
   "outputs": [],
   "source": [
    "#Remove knockout (mutant) mice from dataset\n",
    "to_keep=(~adata_m.obs['genotype'].isin(['ko']))\n",
    "\n",
    "#Copy over to new anndata object\n",
    "adata_m = adata_m[to_keep].copy()"
   ]
  },
  {
   "cell_type": "code",
   "execution_count": null,
   "id": "4963fbac-64de-4239-afc8-e11a0acc3bd0",
   "metadata": {},
   "outputs": [],
   "source": [
    "#Read in 10x Cell Ranger output counts matrix for H2022_10\n",
    "adata_RPM = sc.read_10x_mtx('RPM_Cas9/', var_names='gene_symbols', cache=True)   "
   ]
  },
  {
   "cell_type": "code",
   "execution_count": null,
   "id": "23be0ecf-50d2-407d-b3ef-edb15c4a2f13",
   "metadata": {},
   "outputs": [],
   "source": [
    "#Add metadata to adata_RPM\n",
    "adata_RPM.obs['genotype'] = 'ONB'\n",
    "adata_RPM.obs['mouse_ident'] = 'RPM_Cas9'\n",
    "adata_RPM.obs['tumor_type'] = 'RPM'"
   ]
  },
  {
   "cell_type": "code",
   "execution_count": null,
   "id": "c1de4cca-430d-4814-9734-be3a747d01a3",
   "metadata": {},
   "outputs": [],
   "source": [
    "#QC filtering\n",
    "adata_RPM.var['mito'] = adata_RPM.var_names.str.startswith('mt-')  # annotate the group of mitochondrial genes as 'mt'\n",
    "sc.pp.calculate_qc_metrics(adata_RPM, qc_vars=['mito'], percent_top=None, log1p=False, inplace=True)"
   ]
  },
  {
   "cell_type": "code",
   "execution_count": null,
   "id": "ada56829-7af6-409d-a693-28504bf97c3a",
   "metadata": {},
   "outputs": [],
   "source": [
    "sc.pl.violin(adata_RPM, ['n_genes_by_counts', 'total_counts', 'pct_counts_mito'],\n",
    "             jitter=0.4, multi_panel=True)\n",
    "sc.pl.scatter(adata_RPM, x='total_counts', y='pct_counts_mito')\n",
    "sc.pl.scatter(adata_RPM, x='total_counts', y='n_genes_by_counts')"
   ]
  },
  {
   "cell_type": "code",
   "execution_count": null,
   "id": "754df665-6378-4be0-817f-e8417c8d7fc0",
   "metadata": {},
   "outputs": [],
   "source": [
    "#Read in 10x Cell Ranger output counts matrix \n",
    "adata_RPMA_1 = sc.read_10x_h5('RPMA_1/filtered_feature_bc_matrix.h5')"
   ]
  },
  {
   "cell_type": "code",
   "execution_count": null,
   "id": "18cee3e2-d0d8-4e30-b481-80ad51145356",
   "metadata": {},
   "outputs": [],
   "source": [
    "#Add metadata to adata_RPM\n",
    "adata_RPMA_1.obs['genotype'] = 'ONB'\n",
    "adata_RPMA_1.obs['mouse_ident'] = 'RPMA_1'\n",
    "adata_RPMA_1.obs['tumor_type'] = 'RPMA'"
   ]
  },
  {
   "cell_type": "code",
   "execution_count": null,
   "id": "56996e63-adee-4a2f-a09e-350008e0a8ff",
   "metadata": {},
   "outputs": [],
   "source": [
    "#QC filtering\n",
    "adata_RPMA_1.var['mito'] = adata_RPMA_1.var_names.str.startswith('mt-')  # annotate the group of mitochondrial genes as 'mt'\n",
    "sc.pp.calculate_qc_metrics(adata_RPMA_1, qc_vars=['mito'], percent_top=None, log1p=False, inplace=True)"
   ]
  },
  {
   "cell_type": "code",
   "execution_count": null,
   "id": "d665e092-748e-4a6c-903e-97870cbe1114",
   "metadata": {},
   "outputs": [],
   "source": [
    "sc.pl.violin(adata_RPMA_1, ['n_genes_by_counts', 'total_counts', 'pct_counts_mito'],\n",
    "             jitter=0.4, multi_panel=True)\n",
    "sc.pl.scatter(adata_RPMA_1, x='total_counts', y='pct_counts_mito')\n",
    "sc.pl.scatter(adata_RPMA_1, x='total_counts', y='n_genes_by_counts')"
   ]
  },
  {
   "cell_type": "code",
   "execution_count": null,
   "id": "3fd7c56d-e095-4beb-8717-55bc5cafcc58",
   "metadata": {},
   "outputs": [],
   "source": [
    "#Read in 10x Cell Ranger output counts matrix \n",
    "adata_RPMA_2 = sc.read_10x_mtx('RPMA_2/', var_names='gene_symbols', cache=True) "
   ]
  },
  {
   "cell_type": "code",
   "execution_count": null,
   "id": "d7ad3bd5-3afd-4816-9042-620cede692bc",
   "metadata": {},
   "outputs": [],
   "source": [
    "#Add metadata to adata_RPM\n",
    "adata_RPMA_2.obs['genotype'] = 'ONB'\n",
    "adata_RPMA_2.obs['mouse_ident'] = 'RPMA_2'\n",
    "adata_RPMA_2.obs['tumor_type'] = 'RPMA'"
   ]
  },
  {
   "cell_type": "code",
   "execution_count": null,
   "id": "214bd2bf-e970-47bf-a20e-6e908f23e0a9",
   "metadata": {},
   "outputs": [],
   "source": [
    "#QC filtering\n",
    "adata_RPMA_2.var['mito'] = adata_RPMA_2.var_names.str.startswith('mt-')  # annotate the group of mitochondrial genes as 'mt'\n",
    "sc.pp.calculate_qc_metrics(adata_RPMA_2, qc_vars=['mito'], percent_top=None, log1p=False, inplace=True)"
   ]
  },
  {
   "cell_type": "code",
   "execution_count": null,
   "id": "0b3c27f9-cbbd-491e-adcc-81a57ac41cab",
   "metadata": {},
   "outputs": [],
   "source": [
    "sc.pl.violin(adata_RPMA_2, ['n_genes_by_counts', 'total_counts', 'pct_counts_mito'],\n",
    "             jitter=0.4, multi_panel=True)\n",
    "sc.pl.scatter(adata_RPMA_2, x='total_counts', y='pct_counts_mito')\n",
    "sc.pl.scatter(adata_RPMA_2, x='total_counts', y='n_genes_by_counts')"
   ]
  },
  {
   "cell_type": "code",
   "execution_count": null,
   "id": "f2557914-61c9-4b4d-af92-07a472c46f17",
   "metadata": {},
   "outputs": [],
   "source": [
    "#Read in 10x Cell Ranger output counts matrix \n",
    "adata_RPMA_3 = sc.read_10x_mtx('RPMA_3/', var_names='gene_symbols', cache=True) "
   ]
  },
  {
   "cell_type": "code",
   "execution_count": null,
   "id": "70ef3c5d-90bc-4579-8c48-7e5dd8e019a7",
   "metadata": {},
   "outputs": [],
   "source": [
    "#Add metadata to adata_RPM\n",
    "adata_RPMA_3.obs['genotype'] = 'ONB'\n",
    "adata_RPMA_3.obs['mouse_ident'] = 'RPMA_3'\n",
    "adata_RPMA_3.obs['tumor_type'] = 'RPMA'"
   ]
  },
  {
   "cell_type": "code",
   "execution_count": null,
   "id": "6f0d3334-1768-4133-85e2-33a4d065c8ad",
   "metadata": {},
   "outputs": [],
   "source": [
    "#QC filtering\n",
    "adata_RPMA_3.var['mito'] = adata_RPMA_3.var_names.str.startswith('mt-')  # annotate the group of mitochondrial genes as 'mt'\n",
    "sc.pp.calculate_qc_metrics(adata_RPMA_3, qc_vars=['mito'], percent_top=None, log1p=False, inplace=True)"
   ]
  },
  {
   "cell_type": "code",
   "execution_count": null,
   "id": "5a4e40fa-46d2-4877-8b93-13973a2e12be",
   "metadata": {},
   "outputs": [],
   "source": [
    "sc.pl.violin(adata_RPMA_3, ['n_genes_by_counts', 'total_counts', 'pct_counts_mito'],\n",
    "             jitter=0.4, multi_panel=True)\n",
    "sc.pl.scatter(adata_RPMA_3, x='total_counts', y='pct_counts_mito')\n",
    "sc.pl.scatter(adata_RPMA_3, x='total_counts', y='n_genes_by_counts')"
   ]
  },
  {
   "cell_type": "markdown",
   "id": "56c618ff-1520-4749-b1c1-79a17f15ae9e",
   "metadata": {},
   "source": [
    "# Concatenate"
   ]
  },
  {
   "cell_type": "code",
   "execution_count": null,
   "id": "64c453b5-0a5b-45aa-b2a4-b8d20d64fdb4",
   "metadata": {},
   "outputs": [],
   "source": [
    "#Concatenate datasets\n",
    "adata = adata_m.concatenate([adata_RPMA_2, adata_RPMA_3, adata_RPMA_1, adata_RPM], index_unique=None, join=\"outer\")"
   ]
  },
  {
   "cell_type": "code",
   "execution_count": null,
   "id": "10972af6-dd9b-43d9-823d-46e132f66eb1",
   "metadata": {},
   "outputs": [],
   "source": [
    "#Fix var metadata categories\n",
    "\n",
    "#gene_ids\n",
    "x = adata.var.loc[:, adata.var.columns[adata.var.columns.str.match(\"gene_ids-\\d+\")]]\n",
    "cols = x.T.notna().idxmax()\n",
    "x = x.reset_index().melt(\"index\")\n",
    "adata.var.insert(\n",
    "    0,\n",
    "    \"gene_ids\",\n",
    "    x.set_index([\"index\", \"variable\"]).loc[zip(cols.index, cols.values), :].droplevel(\"variable\")\n",
    ")\n",
    "adata.var.drop(adata.var.columns[adata.var.columns.str.match(\"gene_ids-\\d+\")], inplace=True, axis=1)\n",
    "\n",
    "\n",
    "#feature_types\n",
    "x = adata.var.loc[:, adata.var.columns[adata.var.columns.str.match(\"feature_types-\\d+\")]]\n",
    "cols = x.T.notna().idxmax()\n",
    "x = x.reset_index().melt(\"index\")\n",
    "adata.var.insert(\n",
    "    0,\n",
    "    \"feature_types\",\n",
    "    x.set_index([\"index\", \"variable\"]).loc[zip(cols.index, cols.values), :].droplevel(\"variable\")\n",
    ")\n",
    "adata.var.drop(adata.var.columns[adata.var.columns.str.match(\"feature_types-\\d+\")], inplace=True, axis=1)\n"
   ]
  },
  {
   "cell_type": "code",
   "execution_count": null,
   "id": "4d3d7259-d894-4905-8141-eaeeeb1989e5",
   "metadata": {},
   "outputs": [],
   "source": [
    "#Calculate QC statistics\n",
    "adata.var['mito'] = adata.var_names.str.startswith('mt-')  # annotate the group of mitochondrial genes as 'mt'\n",
    "sc.pp.calculate_qc_metrics(adata, qc_vars=['mito'], percent_top=None, log1p=False, inplace=True)"
   ]
  },
  {
   "cell_type": "code",
   "execution_count": null,
   "id": "40282280-10d5-4c13-89db-8cbf7ee6a7b7",
   "metadata": {},
   "outputs": [],
   "source": [
    "#Plot\n",
    "sc.pl.violin(adata, ['n_genes_by_counts', 'total_counts', 'pct_counts_mito'],\n",
    "             jitter=0.4, multi_panel=True)\n",
    "sc.pl.scatter(adata, x='total_counts', y='pct_counts_mito')\n",
    "sc.pl.scatter(adata, x='total_counts', y='n_genes_by_counts')"
   ]
  },
  {
   "cell_type": "code",
   "execution_count": null,
   "id": "2d3fd746-8ab4-484f-b157-7c20d58b1b18",
   "metadata": {},
   "outputs": [],
   "source": [
    "#apply filtering here\n",
    "\n",
    "#Filter data by slicing anndata object\n",
    "adata = adata[adata.obs.n_genes_by_counts < 8000, :]\n",
    "adata = adata[adata.obs.total_counts < 80000, :]\n",
    "adata = adata[adata.obs.total_counts > 2500, :]\n",
    "adata = adata[adata.obs.pct_counts_mito < 30, :]"
   ]
  },
  {
   "cell_type": "code",
   "execution_count": null,
   "id": "676216e6-4cbc-4cac-8b04-58331ca7c928",
   "metadata": {},
   "outputs": [],
   "source": [
    "#Prep for HVG and scvi\n",
    "# create normalized layer and log1p in .obs\n",
    "\n",
    "#log1p the data\n",
    "adata.obs[\"log1p_total_counts\"] = np.log1p(adata.obs[\"total_counts\"])\n",
    "\n",
    "#Create normalized layers\n",
    "adata.layers[\"counts\"] = adata.X.copy()\n",
    "adata.layers['norm'] = adata.X.copy(); sc.pp.normalize_total(adata, target_sum=1e4, layer=\"norm\")"
   ]
  },
  {
   "cell_type": "code",
   "execution_count": null,
   "id": "6da9a728-8f3f-47e7-9306-f567692294a6",
   "metadata": {},
   "outputs": [],
   "source": [
    "adata"
   ]
  },
  {
   "cell_type": "markdown",
   "id": "5eea3095-cd86-423e-9b5c-6685b8e463b1",
   "metadata": {},
   "source": [
    "# set up and train scvi model"
   ]
  },
  {
   "cell_type": "code",
   "execution_count": null,
   "id": "0181598d-7b2c-4188-8784-3533b341e052",
   "metadata": {},
   "outputs": [],
   "source": [
    "#HVG via Scanpy\n",
    "sc.pp.highly_variable_genes(\n",
    "    adata,\n",
    "    n_top_genes=5000,\n",
    "    subset=False,\n",
    "    layer=\"counts\",\n",
    "    flavor=\"seurat_v3\",\n",
    "    batch_key=\"mouse_ident\"\n",
    ")"
   ]
  },
  {
   "cell_type": "code",
   "execution_count": null,
   "id": "c76f097d-dfad-4a37-970c-ddb43ea60e88",
   "metadata": {},
   "outputs": [],
   "source": [
    "adata.var['mean_'] = np.array(adata.X.mean(0))[0]\n",
    "adata.var['frac_zero'] = 1 - np.array((adata.X > 0).sum(0))[0] / adata.shape[0]\n",
    "\n",
    "fig, ax = plt.subplots(figsize=(9,6))\n",
    "ax.scatter(adata.var.mean_, adata.var.frac_zero, s=1)\n",
    "ax.set_xscale(\"log\")"
   ]
  },
  {
   "cell_type": "code",
   "execution_count": null,
   "id": "e99b4247-a455-495c-8ca5-f163d5e742db",
   "metadata": {},
   "outputs": [],
   "source": [
    "#Calculate Poisson gene selection\n",
    "df_poisson = scvi.data.poisson_gene_selection(\n",
    "    adata, n_top_genes=5000, batch_key=\"mouse_ident\", inplace=False\n",
    ")\n",
    "\n",
    "df_poisson[df_poisson.highly_variable].sort_values('prob_zero_enrichment_rank')\n",
    "\n",
    "pd.crosstab(df_poisson.highly_variable, adata.var.highly_variable)\n",
    "\n",
    "is_hvg = df_poisson.highly_variable\n",
    "\n",
    "adata.varm['df_poisson']= df_poisson\n",
    "\n",
    "adata_query = adata[:, is_hvg].copy()\n",
    "print(adata_query)"
   ]
  },
  {
   "cell_type": "code",
   "execution_count": null,
   "id": "c0e9170b-2b26-4ce6-b494-70426a7b19ae",
   "metadata": {},
   "outputs": [],
   "source": [
    "#Set up scvi model\n",
    "\n",
    "#Can insert batch_key here if desired\n",
    "scvi.model.SCVI.setup_anndata(\n",
    "    adata_query,\n",
    "    layer=\"counts\",\n",
    "    categorical_covariate_keys=['genotype'],\n",
    "    continuous_covariate_keys=[\"pct_counts_mito\"],\n",
    "    batch_key='mouse_ident'\n",
    ")\n",
    "\n",
    "model = scvi.model.SCVI(adata_query, gene_likelihood=\"nb\")\n",
    "\n",
    "model.view_anndata_setup()"
   ]
  },
  {
   "cell_type": "code",
   "execution_count": null,
   "id": "a8022339-7a9b-4c14-942d-3d6aa40d7280",
   "metadata": {},
   "outputs": [],
   "source": [
    "#Train and run scvi\n",
    "\n",
    "#Training parameters\n",
    "train_kwargs = dict(\n",
    "    early_stopping=True,\n",
    "    early_stopping_patience=20,\n",
    "    enable_model_summary=True,\n",
    "    enable_progress_bar=True,\n",
    "    enable_checkpointing=True,\n",
    "    max_epochs=500\n",
    ")\n",
    "\n",
    "#Train and run model\n",
    "#Be sure GPU is enabled to run this\n",
    "model.train(**train_kwargs)"
   ]
  },
  {
   "cell_type": "code",
   "execution_count": null,
   "id": "b36a6e90-3464-47f2-a878-bd95ec1ce9c9",
   "metadata": {},
   "outputs": [],
   "source": [
    "#Plot model results\n",
    "train_elbo = model.history['elbo_train'][1:]\n",
    "test_elbo = model.history['elbo_validation']\n",
    "\n",
    "ax = train_elbo.plot()\n",
    "test_elbo.plot(ax = ax)"
   ]
  },
  {
   "cell_type": "code",
   "execution_count": null,
   "id": "f5e5150e-2e02-4a65-ab35-86f0b5cd1564",
   "metadata": {},
   "outputs": [],
   "source": [
    "#Fit model to data\n",
    "\n",
    "#Get latent representation of model to apply to UMAP\n",
    "latent = model.get_latent_representation()\n",
    "\n",
    "adata.obsm[\"X_scVI_1.1\"] = latent\n",
    "\n",
    "#Calculate neighbors using scVI model input\n",
    "sc.pp.neighbors(adata, use_rep=\"X_scVI_1.1\")\n",
    "sc.tl.umap(adata, min_dist=0.5)\n",
    "\n",
    "#Run leiden clustering based on neighbors\n",
    "sc.tl.leiden(adata, key_added=\"leiden_scVI_1.1\", resolution=2.0)"
   ]
  },
  {
   "cell_type": "code",
   "execution_count": null,
   "id": "ab9e26d6-9560-4b44-8db9-c71993c693e0",
   "metadata": {},
   "outputs": [],
   "source": [
    "#QC UMAPs\n",
    "sc.pl.umap(\n",
    "    adata,\n",
    "    color=[\"n_genes_by_counts\", \"total_counts\", \"pct_counts_mito\", \"log1p_total_counts\"],\n",
    "    cmap=\"cubehelix_r\",\n",
    "    s=3,\n",
    "    ncols=2,\n",
    ")"
   ]
  },
  {
   "cell_type": "code",
   "execution_count": null,
   "id": "abdda9f2-8d17-4425-8464-b315ae10d670",
   "metadata": {},
   "outputs": [],
   "source": [
    "# assess batch effects\n",
    "fig, ax = plt.subplots(figsize=(8, 8))\n",
    "sc.pl.umap(adata, color=\"genotype\", cmap=\"cmo.matter\", s=4, ax=ax, vmax=\"p99.99\", frameon=False, save=False)\n",
    "fig, ax = plt.subplots(figsize=(8, 8))\n",
    "sc.pl.umap(adata, color=\"leiden_scVI_1.1\", legend_loc=\"on data\", ax=ax, s=4, frameon=False, save=False)\n",
    "fig, ax = plt.subplots(figsize=(8, 8))\n",
    "sc.pl.umap(adata, color=\"mouse_ident\", legend_loc=\"right margin\", ax=ax, s=4, frameon=False, save=False)"
   ]
  },
  {
   "cell_type": "code",
   "execution_count": null,
   "id": "0cee8fac-d0d5-48d2-a134-4e6c76b0a403",
   "metadata": {},
   "outputs": [],
   "source": [
    "#Additional QC bar graphs\n",
    "adata_query.obs['cluster'] = adata.obs[\"leiden_scVI_1.1\"].copy()\n",
    "\n",
    "#Plot Log1p total counts\n",
    "fig, ax = plt.subplots(figsize=(20,6))\n",
    "sns.boxenplot(data=adata_query.obs, x=\"cluster\", y=\"log1p_total_counts\", ax=ax)\n",
    "\n",
    "#Plot Pct counts mito\n",
    "fig, ax = plt.subplots(figsize=(20,6))\n",
    "sns.boxenplot(data=adata_query.obs, x=\"cluster\", y=\"pct_counts_mito\", ax=ax)"
   ]
  },
  {
   "cell_type": "code",
   "execution_count": null,
   "id": "58c22084-f327-4544-a227-fc8ba69204ab",
   "metadata": {},
   "outputs": [],
   "source": [
    "# generate featureplots to assess expression of known marker genes\n",
    "\n",
    "\n",
    "genes = ['leiden_scVI_1.1', 'Sox9', 'Ermn',\n",
    "        'Gpx6', 'Plp1', 'Trpm5', \n",
    "         'Cftr','Ptprc', 'Cd68',\n",
    "        'Ascl3', 'Sox2', 'Dcn',\n",
    "        'Pou2f3']\n",
    "\n",
    "sc.pl.umap(\n",
    "    adata,\n",
    "    color=genes,\n",
    "    use_raw=False,\n",
    "    legend_loc= \"on data\",\n",
    "    color_map=\"cmo.matter\",\n",
    "    ncols=3,\n",
    "    frameon=False,\n",
    "    vmax=\"p99.5\",\n",
    "    layer=\"norm\",\n",
    "    save=False\n",
    ")"
   ]
  },
  {
   "cell_type": "code",
   "execution_count": null,
   "id": "86c48041-7267-4b01-b8ff-c51f1a6f8124",
   "metadata": {},
   "outputs": [],
   "source": [
    "# Find cluster markers for each leiden cluster\n",
    "# Confirming presence of high quality cells in each cluster\n",
    "sc.tl.rank_genes_groups(adata, 'leiden_scVI_1.1', method='wilcoxon', layer='norm', use_raw=False)\n",
    "pd.DataFrame(adata.uns['rank_genes_groups']['names']).head(50)"
   ]
  },
  {
   "cell_type": "code",
   "execution_count": null,
   "id": "0005f349-765f-4b61-ae8c-9b75ed94b92d",
   "metadata": {},
   "outputs": [],
   "source": [
    "#Identify and subset out low quality clusters (ie doublets based on high gene counts, clusters with low average gene counts not consistent with known marker genes, etc)\n",
    "\n",
    "bad_clust=['9', '23']\n",
    "\n",
    "#Filter out bad clusters\n",
    "to_keep=(~adata.obs['leiden_scVI_1.1'].isin(bad_clust))\n",
    "\n",
    "#Copy over to new anndata object\n",
    "adata = adata[to_keep].copy()"
   ]
  },
  {
   "cell_type": "markdown",
   "id": "d1a6eb91-9a65-43d6-87c9-9fc896d8ff69",
   "metadata": {},
   "source": [
    "From here, continue iterating through runs of scvi model until no clear low quality cell clusters are observed"
   ]
  },
  {
   "cell_type": "markdown",
   "id": "746ee6e6-5d6c-41fb-94a4-0137ccc2b079",
   "metadata": {},
   "source": [
    "start back up at \"set up and train scvi model\" and run through subsetting out bad clusters"
   ]
  },
  {
   "cell_type": "markdown",
   "id": "a63029f1-b548-46f2-99fb-2f4cae25aca9",
   "metadata": {},
   "source": [
    "Each time clusters are removed, model was run again"
   ]
  },
  {
   "cell_type": "code",
   "execution_count": null,
   "id": "d4c39498-7750-40a0-b45e-e89d8f7ca4ed",
   "metadata": {},
   "outputs": [],
   "source": [
    "# once finished, annotate cell types in adata.obs['cluster_names']\n",
    "# and save\n",
    "adata.write('OE_atlas_with_ONB_tumors_all_cells.h5ad')"
   ]
  },
  {
   "cell_type": "markdown",
   "id": "f1d4b2d7-6ef0-4a48-a8de-43cc4bf47092",
   "metadata": {},
   "source": [
    "# tumor cells only scvi"
   ]
  },
  {
   "cell_type": "code",
   "execution_count": null,
   "id": "7a8c0c0d-c878-438d-b1ff-92d2125a5dd9",
   "metadata": {},
   "outputs": [],
   "source": [
    "#Filter out only cells from tumor mice\n",
    "\n",
    "#No bad clusters to remove for this one\n",
    "keep=['RPMA_1', 'RPMA_2', 'RPMA_3', 'RPM_Cas9']\n",
    "\n",
    "#Filter out bad clusters\n",
    "to_keep=(adata_m.obs['mouse_ident'].isin(keep))\n",
    "\n",
    "#Copy over to new anndata object\n",
    "adata_m_filter = adata_m[to_keep].copy()"
   ]
  },
  {
   "cell_type": "code",
   "execution_count": null,
   "id": "2f293bbd-decc-4339-a749-f060be1a2cc7",
   "metadata": {},
   "outputs": [],
   "source": [
    "adata=adata_m_filter"
   ]
  },
  {
   "cell_type": "code",
   "execution_count": null,
   "id": "cc1b232f-303b-433a-b6f6-a71987f96c84",
   "metadata": {},
   "outputs": [],
   "source": [
    "#HVG via Scanpy\n",
    "#Note here that if you run with a batch_key with few cells, will get b'reciprocal condition number error\n",
    "sc.pp.highly_variable_genes(\n",
    "    adata,\n",
    "    n_top_genes=10000,\n",
    "    subset=False,\n",
    "    layer=\"counts\",\n",
    "    flavor=\"seurat_v3\"\n",
    ")"
   ]
  },
  {
   "cell_type": "code",
   "execution_count": null,
   "id": "41eae996-25d5-4ce0-90e4-8ee47968b079",
   "metadata": {},
   "outputs": [],
   "source": [
    "adata.var['mean_'] = np.array(adata.X.mean(0))[0]\n",
    "adata.var['frac_zero'] = 1 - np.array((adata.X > 0).sum(0))[0] / adata.shape[0]\n",
    "\n",
    "fig, ax = plt.subplots(figsize=(9,6))\n",
    "ax.scatter(adata.var.mean_, adata.var.frac_zero, s=1)\n",
    "ax.set_xscale(\"log\")"
   ]
  },
  {
   "cell_type": "code",
   "execution_count": null,
   "id": "5cb62bed-8fb5-4b52-9f1c-9bda76fbed81",
   "metadata": {},
   "outputs": [],
   "source": [
    "#Calculate Poisson gene selection\n",
    "df_poisson = scvi.data.poisson_gene_selection(\n",
    "    adata, n_top_genes=10000, batch_key=\"mouse_ident\", inplace=False\n",
    ")\n",
    "\n",
    "df_poisson[df_poisson.highly_variable].sort_values('prob_zero_enrichment_rank')\n",
    "\n",
    "pd.crosstab(df_poisson.highly_variable, adata.var.highly_variable)\n",
    "\n",
    "is_hvg = df_poisson.highly_variable\n",
    "\n",
    "adata.varm['df_poisson']= df_poisson\n",
    "\n",
    "adata_query = adata[:, is_hvg].copy()\n",
    "print(adata_query)"
   ]
  },
  {
   "cell_type": "code",
   "execution_count": null,
   "id": "47f2f1df-8cbb-4c21-a5b3-9783cef23554",
   "metadata": {},
   "outputs": [],
   "source": [
    "#Set up scvi model\n",
    "\n",
    "#Can insert batch_key here if desired\n",
    "scvi.model.SCVI.setup_anndata(\n",
    "    adata_query,\n",
    "    layer=\"counts\",\n",
    "    #categorical_covariate_keys=[''],\n",
    "    continuous_covariate_keys=[\"pct_counts_mito\"],\n",
    "    batch_key='mouse_ident'\n",
    ")\n",
    "\n",
    "model = scvi.model.SCVI(adata_query, gene_likelihood=\"nb\")\n",
    "\n",
    "model.view_anndata_setup()"
   ]
  },
  {
   "cell_type": "code",
   "execution_count": null,
   "id": "0dc11c07-d7cb-4600-a1bd-24d6fcd68128",
   "metadata": {},
   "outputs": [],
   "source": [
    "#Train and run scvi\n",
    "\n",
    "#Training parameters\n",
    "train_kwargs = dict(\n",
    "    early_stopping=True,\n",
    "    early_stopping_patience=20,\n",
    "    enable_model_summary=True,\n",
    "    enable_progress_bar=True,\n",
    "    enable_checkpointing=True,\n",
    "    max_epochs=500\n",
    ")\n",
    "\n",
    "#Train and run model\n",
    "#Be sure GPU is enabled to run this\n",
    "model.train(**train_kwargs)"
   ]
  },
  {
   "cell_type": "code",
   "execution_count": null,
   "id": "eaeb6c99-3405-4ca4-83d2-df06dab1a036",
   "metadata": {},
   "outputs": [],
   "source": [
    "#Plot model results\n",
    "train_elbo = model.history['elbo_train'][1:]\n",
    "test_elbo = model.history['elbo_validation']\n",
    "\n",
    "ax = train_elbo.plot()\n",
    "test_elbo.plot(ax = ax)"
   ]
  },
  {
   "cell_type": "code",
   "execution_count": null,
   "id": "3d8521e0-d3ee-459f-9b2f-19e1d906a687",
   "metadata": {},
   "outputs": [],
   "source": [
    "#Fit model to data\n",
    "\n",
    "#Get latent representation of model to apply to UMAP\n",
    "latent = model.get_latent_representation()\n",
    "\n",
    "adata.obsm[\"X_scVI_tumor_1.1\"] = latent\n",
    "\n",
    "#Calculate neighbors using scVI model input\n",
    "sc.pp.neighbors(adata, use_rep=\"X_scVI_tumor_1.1\")\n",
    "sc.tl.umap(adata, min_dist=0.5)\n",
    "\n",
    "#Run leiden clustering based on neighbors\n",
    "sc.tl.leiden(adata, key_added=\"leiden_scVI_tumor_1.1\", resolution=4.0)"
   ]
  },
  {
   "cell_type": "code",
   "execution_count": null,
   "id": "344bf96c-d928-4ddc-842e-446860b3ad50",
   "metadata": {},
   "outputs": [],
   "source": [
    "#QC UMAPs\n",
    "sc.pl.umap(\n",
    "    adata,\n",
    "    color=[\"n_genes_by_counts\", \"total_counts\", \"pct_counts_mito\", \"log1p_total_counts\"],\n",
    "    cmap=\"cubehelix_r\",\n",
    "    ncols=2,\n",
    ")"
   ]
  },
  {
   "cell_type": "code",
   "execution_count": null,
   "id": "1f19afef-059f-46c0-9543-752cf1f36ec6",
   "metadata": {},
   "outputs": [],
   "source": [
    "fig, ax = plt.subplots(figsize=(8, 8))\n",
    "sc.pl.umap(adata, color=\"genotype\", cmap=\"cmo.matter\", ax=ax, vmax=\"p99.99\", frameon=False, save=False, \n",
    "          palette=['#1f77b4', '#ff7f0e', '#2ca02c'])\n",
    "fig, ax = plt.subplots(figsize=(8, 8))\n",
    "sc.pl.umap(adata, color=\"leiden_scVI_tumor_1.1\", legend_loc=\"on data\", ax=ax, frameon=False, save=False)\n",
    "fig, ax = plt.subplots(figsize=(8, 8))\n",
    "sc.pl.umap(adata, color=\"mouse_ident\", legend_loc=\"right margin\", ax=ax, frameon=False, save=False)"
   ]
  },
  {
   "cell_type": "code",
   "execution_count": null,
   "id": "20c35d45-a2be-4a27-ba1a-c754504f2367",
   "metadata": {},
   "outputs": [],
   "source": [
    "#Additional QC bar graphs\n",
    "adata_query.obs['cluster'] = adata.obs[\"leiden_scVI_tumor_1.1\"].copy()\n",
    "\n",
    "#Plot Log1p total counts\n",
    "fig, ax = plt.subplots(figsize=(40,6))\n",
    "sns.boxenplot(data=adata_query.obs, x=\"cluster\", y=\"log1p_total_counts\", ax=ax)\n",
    "\n",
    "#Plot Pct counts mito\n",
    "fig, ax = plt.subplots(figsize=(40,6))\n",
    "sns.boxenplot(data=adata_query.obs, x=\"cluster\", y=\"pct_counts_mito\", ax=ax)"
   ]
  },
  {
   "cell_type": "code",
   "execution_count": null,
   "id": "435653fb-0499-4850-b909-d7614a1a50ce",
   "metadata": {},
   "outputs": [],
   "source": [
    "# feature plots\n",
    "# generate to assesss which cells are stromal and immune vs. tumor\n",
    "\n",
    "genes = ['leiden_scVI_tumor_1.1', 'Sox9', 'Ermn',\n",
    "        'Gpx6', 'Plp1', 'Trpm5', \n",
    "         'Cftr','Ptprc', 'Cd68',\n",
    "        'Ascl3', 'Sox2', 'Dcn',\n",
    "        'Pou2f3', 'Sox10', 'Pax6', 'Foxj1',\n",
    "        'Cyp2a5', 'Bcl11b']\n",
    "\n",
    "sc.pl.umap(\n",
    "    adata,\n",
    "    color=genes,\n",
    "    use_raw=False,\n",
    "    legend_loc= \"on data\",\n",
    "    color_map=\"cmo.matter\",\n",
    "    ncols=3,\n",
    "    frameon=False,\n",
    "    vmax=\"p99.5\",\n",
    "    layer=\"norm\",\n",
    "    save=False\n",
    ")"
   ]
  },
  {
   "cell_type": "code",
   "execution_count": null,
   "id": "5e9e1109-863d-4367-8fdb-071046ea93e7",
   "metadata": {},
   "outputs": [],
   "source": [
    "#feature plots\n",
    "genes = ['leiden_scVI_tumor_1.1']\n",
    "\n",
    "sc.pl.umap(\n",
    "    adata,\n",
    "    color=genes,\n",
    "    use_raw=False,\n",
    "    legend_loc= \"on data\",\n",
    "    color_map=\"cmo.matter\",\n",
    "    ncols=3,\n",
    "    frameon=False,\n",
    "    vmax=\"p99.5\",\n",
    "    layer=\"norm\",\n",
    "    save=False,\n",
    "    s=1\n",
    ")"
   ]
  },
  {
   "cell_type": "code",
   "execution_count": null,
   "id": "281bf6cd-c1d2-46ab-9ad9-d754be79300c",
   "metadata": {},
   "outputs": [],
   "source": [
    "#Remove everything that is not tumor (i.e. stromal/immune)\n",
    "\n",
    "# for example\n",
    "bad_clust=['53', '48', '52', '12', '32', '15', '54', '55', '57',\n",
    "          '39', '37', '9', '2', '56', '38', '16', '6', '42',\n",
    "          '36', '22', '25']\n",
    "\n",
    "#Filter out bad clusters\n",
    "to_keep=(~adata.obs['leiden_scVI_tumor_1.1'].isin(bad_clust))\n",
    "\n",
    "#Copy over to new anndata object\n",
    "adata_f = adata[to_keep].copy()"
   ]
  },
  {
   "cell_type": "code",
   "execution_count": null,
   "id": "886b1ad7-bda1-4ea5-b079-f93d9f24455d",
   "metadata": {},
   "outputs": [],
   "source": [
    "# can now plot feature plots\n",
    "\n",
    "genes = ['tumor_type', 'Chga', 'Chgb', 'Dll3', 'Sez6', 'Sstr2', 'Bcl2'] \n",
    "\n",
    "sc.pl.umap(\n",
    "    adata_f,\n",
    "    color=genes,\n",
    "    use_raw=False,\n",
    "    legend_loc= \"on data\",\n",
    "    color_map=\"cmo.matter\",\n",
    "    ncols=3,\n",
    "    frameon=False,\n",
    "    vmin=0,\n",
    "    vmax='p99.5',\n",
    "    layer=\"norm\",\n",
    "    save=False\n",
    ")"
   ]
  },
  {
   "cell_type": "code",
   "execution_count": null,
   "id": "208c6541-4c79-4400-8784-846d7be85001",
   "metadata": {},
   "outputs": [],
   "source": [
    "adata_f.write('Primary_ONB_tumors_only_scvi.h5ad')"
   ]
  },
  {
   "cell_type": "code",
   "execution_count": null,
   "id": "9f5db9d2-dc42-4d50-978a-ece67b5d355d",
   "metadata": {},
   "outputs": [],
   "source": []
  },
  {
   "cell_type": "code",
   "execution_count": null,
   "id": "c0311eab-8a4f-40a6-b749-762ce97a52d6",
   "metadata": {},
   "outputs": [],
   "source": []
  }
 ],
 "metadata": {
  "kernelspec": {
   "display_name": "Python3.9_torch_env",
   "language": "python",
   "name": "pytorch"
  },
  "language_info": {
   "codemirror_mode": {
    "name": "ipython",
    "version": 3
   },
   "file_extension": ".py",
   "mimetype": "text/x-python",
   "name": "python",
   "nbconvert_exporter": "python",
   "pygments_lexer": "ipython3",
   "version": "3.9.18"
  }
 },
 "nbformat": 4,
 "nbformat_minor": 5
}
