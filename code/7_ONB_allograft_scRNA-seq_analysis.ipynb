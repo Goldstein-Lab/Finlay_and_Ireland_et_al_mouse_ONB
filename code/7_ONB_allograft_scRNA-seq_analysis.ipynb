{
 "cells": [
  {
   "cell_type": "markdown",
   "id": "f6dc8503-1a2a-4df4-b4b9-b65165adac04",
   "metadata": {},
   "source": [
    "# prep workspace"
   ]
  },
  {
   "cell_type": "code",
   "execution_count": null,
   "id": "934628d7-bfbd-4538-a23e-eff6dba0a5ca",
   "metadata": {},
   "outputs": [],
   "source": [
    "#Import relevant packages\n",
    "import numpy as np\n",
    "import pandas as pd\n",
    "from matplotlib import rcParams\n",
    "import os\n",
    "import scanpy as sc\n",
    "\n",
    "import matplotlib as mpl\n",
    "import matplotlib.pyplot as plt\n",
    "\n",
    "#For nice color schemes\n",
    "import cmocean\n",
    "\n",
    "#For barplots\n",
    "import seaborn as sns\n",
    "\n",
    "import matplotlib as mpl\n",
    "import matplotlib.pyplot as plt"
   ]
  },
  {
   "cell_type": "code",
   "execution_count": null,
   "id": "0d0a0023-41de-4d36-a5c1-1b812fad4cea",
   "metadata": {},
   "outputs": [],
   "source": [
    "#Import scVI\n",
    "import scvi\n",
    "from scvi.model.utils import mde\n",
    "\n",
    "scvi.settings.verbosity = 40"
   ]
  },
  {
   "cell_type": "code",
   "execution_count": null,
   "id": "ade0913d-4124-410b-b3b2-931c852752da",
   "metadata": {},
   "outputs": [],
   "source": [
    "#Set fontsize\n",
    "plt.rcParams.update({'font.size': 20})"
   ]
  },
  {
   "cell_type": "code",
   "execution_count": null,
   "id": "19639af7-71ee-4cda-a929-a87c68d80e77",
   "metadata": {},
   "outputs": [],
   "source": [
    "#Set wd \n",
    "os.chdir('/hpc/group/goldsteinlab/Python/ONB')"
   ]
  },
  {
   "cell_type": "code",
   "execution_count": null,
   "id": "61bbba23-bc3f-47e5-b85e-2d2d901ea0b2",
   "metadata": {},
   "outputs": [],
   "source": [
    "#Show specific size of pandas dataframe when produced\n",
    "pd.set_option('display.max_columns', 100)\n",
    "pd.set_option('display.max_rows', 100)"
   ]
  },
  {
   "cell_type": "code",
   "execution_count": null,
   "id": "e149a7c4-d09a-49f4-95d5-281d23b682c1",
   "metadata": {},
   "outputs": [],
   "source": [
    "%matplotlib inline"
   ]
  },
  {
   "cell_type": "markdown",
   "id": "5069086f-74c9-4608-ac62-0c235890596d",
   "metadata": {},
   "source": [
    "# read data"
   ]
  },
  {
   "cell_type": "code",
   "execution_count": null,
   "id": "0ee451af-06ef-41d6-b233-e896a67c2b7e",
   "metadata": {},
   "outputs": [],
   "source": [
    "# Read in RPM celltag .h5 dataset\n",
    "adata_RPM_allo=sc.read_10x_h5('RPM_allograft_filtered_feature_bc_matrix.h5')"
   ]
  },
  {
   "cell_type": "code",
   "execution_count": null,
   "id": "79f7b523-05d7-4223-875c-efc1ea15f3a2",
   "metadata": {},
   "outputs": [],
   "source": [
    "# add metadata\n",
    "adata_RPM_allo.obs['genotype']='ONB'\n",
    "adata_RPM_allo.obs['mouse_ident']='RPM_allograft'\n",
    "adata_RPM_allo.obs['tumor_type']= 'RPM'"
   ]
  },
  {
   "cell_type": "code",
   "execution_count": null,
   "id": "3434afad-dab8-43f8-9bf3-12a769f413bf",
   "metadata": {},
   "outputs": [],
   "source": [
    "#QC plots on RPM allograft\n",
    "adata_RPM_allo.var['mito'] = adata_RPM_allo.var_names.str.startswith('mt-')  # annotate the group of mitochondrial genes as 'mt'\n",
    "sc.pp.calculate_qc_metrics(adata_RPM_allo, qc_vars=['mito'], percent_top=None, log1p=False, inplace=True)"
   ]
  },
  {
   "cell_type": "code",
   "execution_count": null,
   "id": "25d85ad2-752d-4b43-a298-8d121ae6fa1b",
   "metadata": {},
   "outputs": [],
   "source": [
    "sc.pl.violin(adata_RPM_allo, ['n_genes_by_counts', 'total_counts', 'pct_counts_mito'],\n",
    "             jitter=0.4, multi_panel=True)\n",
    "sc.pl.scatter(adata_RPM_allo, x='total_counts', y='pct_counts_mito')\n",
    "sc.pl.scatter(adata_RPM_allo, x='total_counts', y='n_genes_by_counts')"
   ]
  },
  {
   "cell_type": "code",
   "execution_count": null,
   "id": "69fc730e-9e82-47fa-8e34-fe906ebbc6c3",
   "metadata": {},
   "outputs": [],
   "source": [
    "# Read in RPMA celltag .h5 dataset\n",
    "adata_RPMA_allo=sc.read_10x_h5('RPMA_allograft_filtered_feature_bc_matrix.h5')"
   ]
  },
  {
   "cell_type": "code",
   "execution_count": null,
   "id": "d4cb5714-0193-41cb-950d-dfc96c74f812",
   "metadata": {},
   "outputs": [],
   "source": [
    "# add metadata\n",
    "adata_RPMA_allo.obs['genotype']='ONB'\n",
    "adata_RPMA_allo.obs['mouse_ident']='RPMA_allograft'\n",
    "adata_RPMA_allo.obs['tumor_type']= 'RPMA'"
   ]
  },
  {
   "cell_type": "code",
   "execution_count": null,
   "id": "824f3b3a-9101-4e4d-9450-bc1323e94aa4",
   "metadata": {},
   "outputs": [],
   "source": [
    "#QC plots on RPMA allograft\n",
    "adata_RPMA_allo.var['mito'] = adata_RPMA_allo.var_names.str.startswith('mt-')  # annotate the group of mitochondrial genes as 'mt'\n",
    "sc.pp.calculate_qc_metrics(adata_RPMA_allo, qc_vars=['mito'], percent_top=None, log1p=False, inplace=True)"
   ]
  },
  {
   "cell_type": "code",
   "execution_count": null,
   "id": "afb24f6b-5902-4d53-9b63-62186d466636",
   "metadata": {},
   "outputs": [],
   "source": [
    "sc.pl.violin(adata_RPMA_allo, ['n_genes_by_counts', 'total_counts', 'pct_counts_mito'],\n",
    "             jitter=0.4, multi_panel=True)\n",
    "sc.pl.scatter(adata_RPMA_allo, x='total_counts', y='pct_counts_mito')\n",
    "sc.pl.scatter(adata_RPMA_allo, x='total_counts', y='n_genes_by_counts')"
   ]
  },
  {
   "cell_type": "code",
   "execution_count": null,
   "id": "5a24df37-4125-49d3-a502-cd8169ca3064",
   "metadata": {},
   "outputs": [],
   "source": [
    "# read in full mouse OE atlas with primary RPM and RPMA tumors\n",
    "adata=sc.read_h5ad('OE_atlas_with_ONB_tumors_all_cells.h5ad')"
   ]
  },
  {
   "cell_type": "markdown",
   "id": "70bd8bcf-0b97-4617-9f58-e829762bf53c",
   "metadata": {},
   "source": [
    "# concatenate and prep"
   ]
  },
  {
   "cell_type": "code",
   "execution_count": null,
   "id": "a42c6d6f-2f35-49bb-8658-7c8b30c277cb",
   "metadata": {},
   "outputs": [],
   "source": [
    "# now re-concatenating the two different tumor objects\n",
    "adata = adata.concatenate([adata_RPM_allo, adata_RPMA_allo],  index_unique=None, join=\"outer\")"
   ]
  },
  {
   "cell_type": "code",
   "execution_count": null,
   "id": "4a06f7a3-fed0-4570-a1bd-f9e58551be56",
   "metadata": {},
   "outputs": [],
   "source": [
    "#QC filtering \n",
    "adata.var['mito'] = adata.var_names.str.startswith('mt-')  # annotate the group of mitochondrial genes as 'mt'\n",
    "sc.pp.calculate_qc_metrics(adata, qc_vars=['mito'], percent_top=None, log1p=False, inplace=True)\n",
    "\n",
    "sc.pl.violin(adata, ['n_genes_by_counts', 'total_counts', 'pct_counts_mito'],\n",
    "             jitter=0.4, multi_panel=True)\n",
    "sc.pl.scatter(adata, x='total_counts', y='pct_counts_mito')\n",
    "sc.pl.scatter(adata, x='total_counts', y='n_genes_by_counts')"
   ]
  },
  {
   "cell_type": "code",
   "execution_count": null,
   "id": "e674f279-9cb0-4ab0-840d-54b830b542c9",
   "metadata": {},
   "outputs": [],
   "source": [
    "# Perform rough filtering\n",
    "# Filter data by slicing anndata object\n",
    "adata = adata[adata.obs.n_genes_by_counts < 8000, :]\n",
    "adata = adata[adata.obs.n_genes_by_counts > 1500, :]\n",
    "adata = adata[adata.obs.total_counts > 2500, :]\n",
    "adata = adata[adata.obs.total_counts < 100000, :]\n",
    "adata = adata[adata.obs.pct_counts_mito < 30, :]"
   ]
  },
  {
   "cell_type": "code",
   "execution_count": null,
   "id": "966f4661-7678-4c47-84f7-e4040f5ee955",
   "metadata": {},
   "outputs": [],
   "source": [
    "#Prep for HVG and scvi\n",
    "\n",
    "#log1p the data\n",
    "adata.obs[\"log1p_total_counts\"] = np.log1p(adata.obs[\"total_counts\"])\n",
    "\n",
    "#Create layers\n",
    "adata.layers[\"counts\"] = adata.X.copy()\n",
    "adata.layers[\"norm\"] = adata.X.copy()\n",
    "sc.pp.normalize_total(adata, target_sum=1e4, layer=\"norm\")"
   ]
  },
  {
   "cell_type": "markdown",
   "id": "10cf9c26-0dae-4ac2-ad7e-37fbda8a8dca",
   "metadata": {},
   "source": [
    "# scvi all cells"
   ]
  },
  {
   "cell_type": "code",
   "execution_count": null,
   "id": "92287a39-e8f3-49c8-ab59-1f7f55e82799",
   "metadata": {},
   "outputs": [],
   "source": [
    "#HVG via Scanpy\n",
    "sc.pp.highly_variable_genes(\n",
    "    adata,\n",
    "    n_top_genes=3000,\n",
    "    subset=False,\n",
    "    layer=\"counts\",\n",
    "    flavor=\"seurat_v3\",\n",
    "    batch_key=\"mouse_ident\"\n",
    ")"
   ]
  },
  {
   "cell_type": "code",
   "execution_count": null,
   "id": "9315e10f-5481-48c1-b4b7-9386c0951872",
   "metadata": {},
   "outputs": [],
   "source": [
    "adata.var['mean_'] = np.array(adata.X.mean(0))[0]\n",
    "adata.var['frac_zero'] = 1 - np.array((adata.X > 0).sum(0))[0] / adata.shape[0]\n",
    "\n",
    "fig, ax = plt.subplots(figsize=(9,6))\n",
    "ax.scatter(adata.var.mean_, adata.var.frac_zero, s=1)\n",
    "ax.set_xscale(\"log\")"
   ]
  },
  {
   "cell_type": "code",
   "execution_count": null,
   "id": "f3a7afaf-9fac-4d30-9bfd-a8e2f819c9de",
   "metadata": {},
   "outputs": [],
   "source": [
    "#Calculate Poisson gene selection\n",
    "df_poisson = scvi.data.poisson_gene_selection(\n",
    "    adata, n_top_genes=3000, batch_key=\"mouse_ident\", inplace=False\n",
    ")\n",
    "\n",
    "df_poisson[df_poisson.highly_variable].sort_values('prob_zero_enrichment_rank')\n",
    "\n",
    "pd.crosstab(df_poisson.highly_variable, adata.var.highly_variable)\n",
    "\n",
    "is_hvg = df_poisson.highly_variable\n",
    "\n",
    "adata.varm['df_poisson']= df_poisson\n",
    "\n",
    "adata_query = adata[:, is_hvg].copy()\n",
    "print(adata_query)"
   ]
  },
  {
   "cell_type": "code",
   "execution_count": null,
   "id": "5c05a69a-da5c-4f06-9cb6-71405b240f89",
   "metadata": {},
   "outputs": [],
   "source": [
    "#Set up scvi model\n",
    "\n",
    "#Can insert batch_key here if desired\n",
    "scvi.model.SCVI.setup_anndata(\n",
    "    adata_query,\n",
    "    layer=\"counts\",\n",
    "    continuous_covariate_keys=[\"pct_counts_mito\"],\n",
    "    batch_key='mouse_ident'\n",
    ")\n",
    "\n",
    "model = scvi.model.SCVI(adata_query, gene_likelihood=\"nb\")\n",
    "\n",
    "model.view_anndata_setup()"
   ]
  },
  {
   "cell_type": "code",
   "execution_count": null,
   "id": "97b0f410-0f41-4ec1-adbb-6121d4e3b282",
   "metadata": {},
   "outputs": [],
   "source": [
    "#Train and run scvi\n",
    "\n",
    "#Training parameters\n",
    "train_kwargs = dict(\n",
    "    early_stopping=True,\n",
    "    early_stopping_patience=20,\n",
    "    enable_model_summary=True,\n",
    "    enable_progress_bar=True,\n",
    "    enable_checkpointing=True,\n",
    "    max_epochs=500,\n",
    "    use_gpu=True\n",
    ")\n",
    "\n",
    "#Train and run model\n",
    "#Be sure GPU is enabled to run this\n",
    "model.train(**train_kwargs)"
   ]
  },
  {
   "cell_type": "code",
   "execution_count": null,
   "id": "3776c63b-b728-4de0-8dbf-e08e90440c96",
   "metadata": {},
   "outputs": [],
   "source": [
    "#Plot model results\n",
    "train_elbo = model.history['elbo_train'][1:]\n",
    "test_elbo = model.history['elbo_validation']\n",
    "\n",
    "ax = train_elbo.plot()\n",
    "test_elbo.plot(ax = ax)"
   ]
  },
  {
   "cell_type": "code",
   "execution_count": null,
   "id": "8364ea46-ab7d-4dc4-88d9-948fa2daad92",
   "metadata": {},
   "outputs": [],
   "source": [
    "#Fit model to data\n",
    "\n",
    "#Get latent representation of model to apply to UMAP\n",
    "latent = model.get_latent_representation()\n",
    "\n",
    "adata.obsm[\"X_scVI_all_allograft_1.1\"] = latent\n",
    "\n",
    "#Calculate neighbors using scVI model input\n",
    "sc.pp.neighbors(adata, use_rep=\"X_scVI_all_allograft_1.1\")\n",
    "sc.tl.umap(adata, min_dist=0.5)\n",
    "\n",
    "#Run leiden clustering based on neighbors\n",
    "sc.tl.leiden(adata, key_added=\"leiden_scVI_all_allograft_1.1\", resolution=2.0)"
   ]
  },
  {
   "cell_type": "code",
   "execution_count": null,
   "id": "1753f938-6462-41ee-ad20-696cfcb1b412",
   "metadata": {},
   "outputs": [],
   "source": [
    "#QC UMAPs\n",
    "sc.pl.umap(\n",
    "    adata,\n",
    "    color=[\"n_genes_by_counts\", \"total_counts\", \"pct_counts_mito\", \"log1p_total_counts\"],\n",
    "    cmap=\"cubehelix_r\",\n",
    "    s=3,\n",
    "    ncols=2,\n",
    ")"
   ]
  },
  {
   "cell_type": "code",
   "execution_count": null,
   "id": "3df371a2-20e6-466f-a2e9-a384c6c76a88",
   "metadata": {},
   "outputs": [],
   "source": [
    "# assess for batch effects\n",
    "fig, ax = plt.subplots(figsize=(8, 8))\n",
    "sc.pl.umap(adata, color=\"genotype\", cmap=\"cmo.matter\", s=4, ax=ax, vmax=\"p99.99\", frameon=False, save=False)\n",
    "fig, ax = plt.subplots(figsize=(8, 8))\n",
    "sc.pl.umap(adata, color=\"leiden_scVI_all_allograft_1.1\", legend_loc=\"on data\", ax=ax, s=4, frameon=False, save=False)\n",
    "fig, ax = plt.subplots(figsize=(8, 8))\n",
    "sc.pl.umap(adata, color=\"tumor_type\", legend_loc=\"right margin\", ax=ax, s=4, frameon=False, save=False, palette='tab10')\n",
    "fig, ax = plt.subplots(figsize=(8, 8))\n",
    "sc.pl.umap(adata, color=\"cluster_names\", legend_loc=\"right margin\", ax=ax, s=4, frameon=False, save=False, palette='tab20')"
   ]
  },
  {
   "cell_type": "code",
   "execution_count": null,
   "id": "a22f35e2-662c-49c6-8c95-2e1b7d395d02",
   "metadata": {},
   "outputs": [],
   "source": [
    "#Additional QC bar graphs\n",
    "adata_query.obs['cluster'] = adata.obs[\"leiden_scVI_all_allograft_1.1\"].copy()\n",
    "\n",
    "#Plot Log1p total counts\n",
    "fig, ax = plt.subplots(figsize=(25,6))\n",
    "sns.boxenplot(data=adata_query.obs, x=\"cluster\", y=\"log1p_total_counts\", ax=ax)"
   ]
  },
  {
   "cell_type": "code",
   "execution_count": null,
   "id": "4392a859-ff92-4544-896b-287de34f94d5",
   "metadata": {},
   "outputs": [],
   "source": [
    "#Plot Pct counts mito\n",
    "fig, ax = plt.subplots(figsize=(25,6))\n",
    "sns.boxenplot(data=adata_query.obs, x=\"cluster\", y=\"pct_counts_mito\", ax=ax)"
   ]
  },
  {
   "cell_type": "code",
   "execution_count": null,
   "id": "cf9623f1-19b0-4c15-8166-f25d48d05e72",
   "metadata": {},
   "outputs": [],
   "source": [
    "#feature plots to assess validity of gene expression across clusters\n",
    "genes = ['Ptprc', 'Sox9', 'Dcn',\n",
    "        'Lum', 'Vwf', 'Tagln',\n",
    "        'Krt8', 'Krt18', 'Ascl1',\n",
    "        'Lhx2', 'Neurod1', 'Kit',\n",
    "        'Hes6', 'Hes1', 'Ezh2',\n",
    "        'Sox11', 'Insm1', 'Chga',\n",
    "        'Mki67', 'Top2a']\n",
    "\n",
    "sc.pl.umap(\n",
    "    adata,\n",
    "    color=genes,\n",
    "    use_raw=False,\n",
    "    legend_loc= \"on data\",\n",
    "    color_map=\"cmo.matter\",\n",
    "    ncols=3,\n",
    "    frameon=False,\n",
    "    vmax=\"p99.5\",\n",
    "    layer=\"norm\",\n",
    "    save=False\n",
    ")"
   ]
  },
  {
   "cell_type": "markdown",
   "id": "e5a68c42-1520-496b-aae0-de5bcbb2c0fa",
   "metadata": {},
   "source": [
    "As before for integration of other atlases, removed low quality cell clusters based on gene expression patterns, average counts, and average mitochondrial DNA. Each time a cluster was removed, the model was re-trained, starting from highly variable gene selection. In the case of the RPM and RPMA allografts, it only took two iterations to remove low quality clusters."
   ]
  },
  {
   "cell_type": "markdown",
   "id": "e83dac97-7833-4467-a030-8fb41ee78751",
   "metadata": {},
   "source": [
    "# full atlas plots"
   ]
  },
  {
   "cell_type": "code",
   "execution_count": null,
   "id": "a8d6d2fd-ffa5-45d7-8d94-0664ece44b16",
   "metadata": {},
   "outputs": [],
   "source": [
    "# to plot UMAP coloring only primary and allograft tumor clusters\n",
    "\n",
    "palette=[ 'lightgray', #(BG)\n",
    "        'lightgray', #(Fibroblast)\n",
    "       'lightgray', #(GBC)\n",
    "         'lightgray', #(HBC)\n",
    "        'lightgray', #(INP)\n",
    "         'lightgray', #(Lymphoid)\n",
    "       'lightgray', #(MV ionocyte)\n",
    "         'lightgray', #(MV tuft)\n",
    "        'lightgray', #(Myeloid)\n",
    "         'lightgray', #(OEC)\n",
    "        'lightgray', #(Pericyte)\n",
    "         '#984ea3', #(RPM tumor)\n",
    "         '#ff7f0e', #RPMA tumor\n",
    "         'turquoise', #RPMA allograft\n",
    "         'tab:blue', #RPM allograft\n",
    "       'lightgray', #sus\n",
    "      'lightgray', #iOSN\n",
    "     'lightgray' #mOSN\n",
    "        ]\n",
    "\n",
    "fig, ax = plt.subplots(figsize=(8, 8))\n",
    "sc.pl.umap(adata, color=\"cluster_names\", legend_loc=\"right margin\", ax=ax, s=4, frameon=False, save=False, palette=palette)"
   ]
  },
  {
   "cell_type": "markdown",
   "id": "f964bed8-c5d1-4ebf-aeba-f47a1add5760",
   "metadata": {},
   "source": [
    "For optimal transport, same code was followed as that presented earlier in notebook 5, sub-section \"Optimal transport\""
   ]
  },
  {
   "cell_type": "markdown",
   "id": "01cc0755-185c-4fe0-b46a-ab453c4f1288",
   "metadata": {},
   "source": [
    "# scvi tumors only"
   ]
  },
  {
   "cell_type": "code",
   "execution_count": null,
   "id": "0e810861-d24e-4745-82a5-2e9dff78f6da",
   "metadata": {},
   "outputs": [],
   "source": [
    "# first subset out tumor cells from the global adata object created above\n",
    "\n",
    "keep=['RPM', 'RPMA', 'RPM_GBC_Allograft', 'RPMA_GBC_Allograft']\n",
    "\n",
    "#Filter out bad clusters\n",
    "to_keep=(adata.obs['cluster_names'].isin(keep))\n",
    "\n",
    "#Copy over to new anndata object\n",
    "adata = adata[to_keep].copy()"
   ]
  },
  {
   "cell_type": "code",
   "execution_count": null,
   "id": "1a035f32-3821-4971-81b5-1765c7d5d5a4",
   "metadata": {},
   "outputs": [],
   "source": [
    "# first need to re-train scvi model to get embedding for cells\n",
    "\n",
    "#HVG via Scanpy\n",
    "sc.pp.highly_variable_genes(\n",
    "    adata,\n",
    "    n_top_genes=10000,\n",
    "    subset=False,\n",
    "    layer=\"counts\",\n",
    "    flavor=\"seurat_v3\",\n",
    "    batch_key=\"mouse_ident\"\n",
    ")"
   ]
  },
  {
   "cell_type": "code",
   "execution_count": null,
   "id": "a49f1265-b3dc-4d79-8b67-9e2346c583d1",
   "metadata": {},
   "outputs": [],
   "source": [
    "# Calculate Poisson gene selection\n",
    "df_poisson = scvi.data.poisson_gene_selection(\n",
    "    adata, n_top_genes=10000, batch_key=\"mouse_ident\", inplace=False\n",
    ")\n",
    "\n",
    "df_poisson[df_poisson.highly_variable].sort_values('prob_zero_enrichment_rank')\n",
    "\n",
    "pd.crosstab(df_poisson.highly_variable, adata.var.highly_variable)\n",
    "\n",
    "is_hvg = df_poisson.highly_variable\n",
    "\n",
    "adata.varm['df_poisson']= df_poisson\n",
    "\n",
    "adata_query = adata[:, is_hvg].copy()\n",
    "print(adata_query)"
   ]
  },
  {
   "cell_type": "code",
   "execution_count": null,
   "id": "211d16b0-6e5a-47a0-8d17-9ac0121f9cf4",
   "metadata": {},
   "outputs": [],
   "source": [
    "#Set up scvi model\n",
    "\n",
    "#Can insert batch_key here if desired\n",
    "scvi.model.SCVI.setup_anndata(\n",
    "    adata_query,\n",
    "    layer=\"counts\",\n",
    "    continuous_covariate_keys=[\"pct_counts_mito\"],\n",
    "    batch_key='mouse_ident'\n",
    ")\n",
    "\n",
    "model = scvi.model.SCVI(adata_query, gene_likelihood=\"nb\")\n",
    "\n",
    "model.view_anndata_setup()"
   ]
  },
  {
   "cell_type": "code",
   "execution_count": null,
   "id": "f25a2270-1d10-4184-9c69-12f26223cd5c",
   "metadata": {},
   "outputs": [],
   "source": [
    "#Train and run scvi\n",
    "\n",
    "#Training parameters\n",
    "train_kwargs = dict(\n",
    "    early_stopping=True,\n",
    "    early_stopping_patience=20,\n",
    "    enable_model_summary=True,\n",
    "    enable_progress_bar=True,\n",
    "    enable_checkpointing=True,\n",
    "    max_epochs=500,\n",
    "    use_gpu=False\n",
    ")\n",
    "\n",
    "#Train and run model\n",
    "#Be sure GPU is enabled to run this\n",
    "model.train(**train_kwargs)"
   ]
  },
  {
   "cell_type": "code",
   "execution_count": null,
   "id": "d484eec2-4f5f-44f0-922f-6be45ed74715",
   "metadata": {},
   "outputs": [],
   "source": [
    "#Plot model results\n",
    "train_elbo = model.history['elbo_train'][1:]\n",
    "test_elbo = model.history['elbo_validation']\n",
    "\n",
    "ax = train_elbo.plot()\n",
    "test_elbo.plot(ax = ax)"
   ]
  },
  {
   "cell_type": "code",
   "execution_count": null,
   "id": "62a5ef5a-a26a-47b8-b87d-18a9f8ae6611",
   "metadata": {},
   "outputs": [],
   "source": [
    "#Fit model to data\n",
    "\n",
    "#Get latent representation of model to apply to UMAP\n",
    "latent = model.get_latent_representation()\n",
    "\n",
    "adata.obsm[\"X_scVI_all_allograft_1.1\"] = latent\n",
    "\n",
    "#Calculate neighbors using scVI model input\n",
    "sc.pp.neighbors(adata, use_rep=\"X_scVI_all_allograft_1.1\")\n",
    "sc.tl.umap(adata, min_dist=0.8)\n",
    "\n",
    "#Run leiden clustering based on neighbors\n",
    "sc.tl.leiden(adata, key_added=\"leiden_scVI_all_allograft_1.1\", resolution=1.2)"
   ]
  },
  {
   "cell_type": "code",
   "execution_count": null,
   "id": "50748d68-1a21-4ea9-920d-9f836a28a17f",
   "metadata": {},
   "outputs": [],
   "source": [
    "#QC UMAPs\n",
    "sc.pl.umap(\n",
    "    adata,\n",
    "    color=[\"n_genes_by_counts\", \"total_counts\", \"pct_counts_mito\", \"log1p_total_counts\"],\n",
    "    cmap=\"cubehelix_r\",\n",
    "    s=3,\n",
    "    ncols=2,\n",
    ")"
   ]
  },
  {
   "cell_type": "code",
   "execution_count": null,
   "id": "5fddefef-cdaa-49a3-986f-d85949e13751",
   "metadata": {},
   "outputs": [],
   "source": [
    "# verify high quality cells\n",
    "\n",
    "#Additional QC bar graphs\n",
    "adata_query.obs['cluster'] = adata.obs[\"leiden_scVI_all_allograft_1.1\"].copy()\n",
    "\n",
    "#Plot Log1p total counts\n",
    "fig, ax = plt.subplots(figsize=(25,6))\n",
    "sns.boxenplot(data=adata_query.obs, x=\"cluster\", y=\"log1p_total_counts\", ax=ax)\n",
    "\n",
    "#Plot Pct counts mito\n",
    "fig, ax = plt.subplots(figsize=(25,6))\n",
    "sns.boxenplot(data=adata_query.obs, x=\"cluster\", y=\"pct_counts_mito\", ax=ax)"
   ]
  },
  {
   "cell_type": "code",
   "execution_count": null,
   "id": "b5653496-bc0d-4655-b28f-b60378df2a95",
   "metadata": {},
   "outputs": [],
   "source": [
    "# save adata object\n",
    "adata.write('ONB_primary_allografts_only_scvi.h5ad')"
   ]
  },
  {
   "cell_type": "markdown",
   "id": "2b1e114d-1c99-4e34-88bd-8e16f4e4f353",
   "metadata": {},
   "source": [
    "# PAGA and diffusion pseudotime"
   ]
  },
  {
   "cell_type": "code",
   "execution_count": null,
   "id": "61456496-a86e-4baf-abf0-9bf208e0ee4e",
   "metadata": {},
   "outputs": [],
   "source": [
    "# Start with tumor adata object generated from above section (with new scvi tumor specific embeddings)\n",
    "sc.pp.neighbors(adata, n_neighbors=35, use_rep='X_scVI_all_allograft_1.1')\n",
    "sc.tl.umap(adata)\n",
    "sc.tl.draw_graph(adata)"
   ]
  },
  {
   "cell_type": "code",
   "execution_count": null,
   "id": "59c0e3bc-4692-46ff-9696-1371ebee3d14",
   "metadata": {},
   "outputs": [],
   "source": [
    "sc.pl.draw_graph(adata, color='leiden_scVI_all_allograft_1.1', legend_loc='right margin')"
   ]
  },
  {
   "cell_type": "code",
   "execution_count": null,
   "id": "7886ae43-6837-4e6a-a524-a0ffaceb742a",
   "metadata": {},
   "outputs": [],
   "source": [
    "# run paga\n",
    "sc.tl.leiden(adata, resolution=1.2)\n",
    "sc.tl.paga(adata, groups='leiden')\n",
    "sc.pl.paga(adata, threshold=0.03, show=False)\n",
    "sc.tl.draw_graph(adata, init_pos='paga')\n",
    "sc.pl.draw_graph(adata, color=['leiden', 'mouse_ident',\n",
    "                              'leiden_scVI_all_allograft_1.1'], legend_loc='right margin')"
   ]
  },
  {
   "cell_type": "code",
   "execution_count": null,
   "id": "af0b172b-cd90-464b-bbf0-3b97bda84c98",
   "metadata": {},
   "outputs": [],
   "source": [
    "# check gene expression across plot \n",
    "# this also generates feature plots for the FA plots used in the paper figures\n",
    "genes = ['Tubb3', 'Neurod1',\n",
    "         'Lhx2', 'Sox11',\n",
    "         'Foxi1', 'Cftr',\n",
    "         'Vim', 'Pou2f3', 'Trpm5', \n",
    "         'Chat', 'Avil', 'Pou2f3',\n",
    "         'Sox2', 'Cyp2j6', 'Cxcl17',\n",
    "         'Sox9', 'Sox10', 'Runx1',\n",
    "         'Runx1t1', 'Krt8',  'Krt18',\n",
    "         'Krt5', 'Trp63',\n",
    "         'Ezh2', 'Kit', 'Myc',\n",
    "        'Hes6', 'Mki67', 'Top2a',\n",
    "        'Epcam', 'Ncam1', 'Ascl1',\n",
    "        'Krt5', 'Foxj1',\n",
    "        'Cfap126', 'fLuc', 'CellTag.UTR',\n",
    "         'GFP.CDS']\n",
    "\n",
    "\n",
    "sc.pl.draw_graph(adata, color=genes, legend_loc='right margin', vmax='p99.5',\n",
    "                 color_map='cmo.dense', ncols=3, frameon=False, layer='norm'\n",
    "                    )"
   ]
  },
  {
   "cell_type": "code",
   "execution_count": null,
   "id": "b92dfd32-3dd4-4097-be6c-305b2d88ed86",
   "metadata": {},
   "outputs": [],
   "source": [
    "# set root for pseudotime\n",
    "adata.uns['iroot'] = np.flatnonzero(adata.obs['leiden']  == '7')[0]"
   ]
  },
  {
   "cell_type": "code",
   "execution_count": null,
   "id": "50995c54-34fe-4660-b5d5-6bbba4a79006",
   "metadata": {},
   "outputs": [],
   "source": [
    "# compute\n",
    "sc.tl.diffmap(adata, n_comps=30)\n",
    "sc.tl.dpt(adata, n_branchings=5)"
   ]
  },
  {
   "cell_type": "code",
   "execution_count": null,
   "id": "5fa4f4de-76fb-4a20-a631-80e99c68d66d",
   "metadata": {},
   "outputs": [],
   "source": [
    "# plot pseudotime\n",
    "with plt.rc_context({'figure.figsize': (6, 5)}):\n",
    "    sc.pl.draw_graph(adata, color=['dpt_pseudotime'], legend_loc='right margin', s=10, frameon=False, save=False,\n",
    "                    vmax=0.5\n",
    "                    )"
   ]
  },
  {
   "cell_type": "code",
   "execution_count": null,
   "id": "5a468089-e6a1-49ad-bb6b-1253bbc6a5cf",
   "metadata": {},
   "outputs": [],
   "source": [
    "# Find cluster markers for each leiden cluster\n",
    "sc.tl.rank_genes_groups(adata, 'leiden_scVI_all_allograft_1.1', method='wilcoxon', layer='norm', use_raw=False)\n",
    "pd.DataFrame(adata.uns['rank_genes_groups']['names']).head(30)"
   ]
  },
  {
   "cell_type": "markdown",
   "id": "0ed0f8e5-6ec0-4562-a25e-7cc61bfe4026",
   "metadata": {},
   "source": [
    "Next, generate pseudotime heatmap plot"
   ]
  },
  {
   "cell_type": "code",
   "execution_count": null,
   "id": "f6b53eea-b54e-427b-ac5d-f09763dbaab7",
   "metadata": {},
   "outputs": [],
   "source": [
    "# specify paths for each branch\n",
    "paths = [('Neuronal', [7, 10, 3, 12]),\n",
    "         ('MV2-like', [7, 8]),\n",
    "        ('MV1/glandular-like', [7, 11, 13, 1, 9]),\n",
    "        ('Mesenchymal', [7, 11, 13, 2]),\n",
    "        ('Stem-like', [7, 11, 0, 5, 6])]"
   ]
  },
  {
   "cell_type": "code",
   "execution_count": null,
   "id": "a7ea4ddf-366f-4830-a380-076cdc9d021a",
   "metadata": {},
   "outputs": [],
   "source": [
    "adata.obs['distance'] = adata.obs['dpt_pseudotime']"
   ]
  },
  {
   "cell_type": "code",
   "execution_count": null,
   "id": "d3b79a8b-413d-4931-9d47-4a9ea3614d25",
   "metadata": {},
   "outputs": [],
   "source": [
    "# set .X to the normalized layer (for plotting purposes below)\n",
    "adata.X = adata.layers['norm']\n",
    "\n",
    "# and log the data for plotting purposes \n",
    "sc.pp.log1p(adata)\n",
    "\n",
    "# finally scale between 0 and 1 \n",
    "adata.X = csr_matrix(np.clip(adata.X.toarray(), 0, 1))"
   ]
  },
  {
   "cell_type": "code",
   "execution_count": null,
   "id": "eec868ad-9935-44bb-9cb3-e69d9071cf71",
   "metadata": {},
   "outputs": [],
   "source": [
    "# import\n",
    "from scipy.sparse import csr_matrix"
   ]
  },
  {
   "cell_type": "code",
   "execution_count": null,
   "id": "b3843ace-b7d5-4a1c-a43f-be5987cc7b4b",
   "metadata": {},
   "outputs": [],
   "source": [
    "# specify gene names for the heatmap\n",
    "gene_names =['Ascl1', 'Kit',\n",
    "             'Neurod1', 'Lhx2', 'Tubb3','Runx1t1', \n",
    "             'Foxi1', 'Runx1', 'Cftr', \n",
    "             'Krt8', 'Krt18', \n",
    "            'Sox9', 'Sox10',\n",
    "             'Vim', 'Cd44', \n",
    "            'Sox2', 'Mecom']"
   ]
  },
  {
   "cell_type": "code",
   "execution_count": null,
   "id": "cb9c415f-9df7-44a5-a745-601e61ef8a72",
   "metadata": {},
   "outputs": [],
   "source": [
    "#Plot\n",
    "_, axs = plt.subplots(ncols=5, figsize=(24, 9), gridspec_kw={'wspace': 0.05, 'left': 0.12})\n",
    "plt.subplots_adjust(left=0.05, right=0.98, top=0.82, bottom=0.2)\n",
    "for ipath, (descr, path) in enumerate(paths):\n",
    "    _, data = sc.pl.paga_path(\n",
    "        adata, path, gene_names,\n",
    "        show_node_names=False,\n",
    "        ax=axs[ipath],\n",
    "        ytick_fontsize=12,\n",
    "        left_margin=0.15,\n",
    "        n_avg=200,\n",
    "        annotations=['distance'],\n",
    "        show_yticks=True if ipath==0 else False,\n",
    "        show_colorbar=True,\n",
    "        color_map='Purples',\n",
    "        groups_key='leiden_scVI_all_allograft_1.1',\n",
    "        color_maps_annotations={'distance': 'cmo.haline'},\n",
    "        title='{} path'.format(descr),\n",
    "        return_data=True,\n",
    "        normalize_to_zero_one=False,\n",
    "        show=False, xlim=[0,0.8])\n",
    "    \n",
    "\n",
    "plt.savefig('Pseudotime_celltag_paths_RPM_and_RPMA_allografts.pdf')  \n",
    "plt.show()"
   ]
  },
  {
   "cell_type": "markdown",
   "id": "98f00729-3b29-49ef-ada3-894c1e945ac8",
   "metadata": {},
   "source": [
    "# Celltag plots"
   ]
  },
  {
   "cell_type": "markdown",
   "id": "cd062b17-8b52-4617-a6d4-89a89516f5da",
   "metadata": {},
   "source": [
    "Prior to running this section, please run the celltag clone calling described in the R script (8_celltag_clone_calling_analysis). "
   ]
  },
  {
   "cell_type": "code",
   "execution_count": null,
   "id": "4f5ac03c-3c23-4538-b777-1e37675e4694",
   "metadata": {},
   "outputs": [],
   "source": [
    "# start with same adata object (primary and allograft tumors only) generated above\n",
    "adata = sc.read_h5ad('ONB_primary_allografts_only_scvi.h5ad')"
   ]
  },
  {
   "cell_type": "code",
   "execution_count": null,
   "id": "03b12eca-24dc-41e0-b5cb-7374e360285e",
   "metadata": {},
   "outputs": [],
   "source": [
    "# read in celltag clone info df\n",
    "df_ct = pd.read_csv('RPM_RPMA_celltag_clones.csv')"
   ]
  },
  {
   "cell_type": "code",
   "execution_count": null,
   "id": "9597becb-5a28-47a2-bd34-dbf825bf6797",
   "metadata": {},
   "outputs": [],
   "source": [
    "# Set index to barcode so it matches adata.obs\n",
    "df_ct.index=df_ct['Cell barcodes']"
   ]
  },
  {
   "cell_type": "code",
   "execution_count": null,
   "id": "daf8d1c7-2693-46a8-aa99-1a96259517fc",
   "metadata": {},
   "outputs": [],
   "source": [
    "adata.obs = pd.merge(adata.obs, df_ct[['CellTag_Clone', 'Cell barcodes']], left_index=True, right_index=True, how='left')"
   ]
  },
  {
   "cell_type": "code",
   "execution_count": null,
   "id": "796abdae-f37f-4072-a535-0f554d9b744b",
   "metadata": {},
   "outputs": [],
   "source": [
    "# check clone counts\n",
    "adata.obs.CellTag_Clone.value_counts()"
   ]
  },
  {
   "cell_type": "code",
   "execution_count": null,
   "id": "009b7caa-59f0-45bd-b7f2-bc0526de9e8c",
   "metadata": {},
   "outputs": [],
   "source": [
    "# create FA plot with clone cells plotted on top\n",
    "\n",
    "# import\n",
    "from matplotlib import gridspec\n",
    "\n",
    "\n",
    "# select clone\n",
    "clone='RPMA_clone_42'\n",
    "\n",
    "\n",
    "fig = plt.figure(figsize=(10, 5))\n",
    "gs = gridspec.GridSpec(1, 2, width_ratios=[1, 1])\n",
    " \n",
    "# Plot the UMAP on the left\n",
    "ax0 = plt.subplot(gs[0])\n",
    "condition_h2023_6 = adata.obs['CellTag_Clone'] == clone\n",
    " \n",
    "# Scatter plot for 'Other' cells\n",
    "scatter2 = ax0.scatter(\n",
    "    adata.obsm['X_draw_graph_fa'][~condition_h2023_6, 0],\n",
    "    adata.obsm['X_draw_graph_fa'][~condition_h2023_6, 1],\n",
    "    s=2,\n",
    "    c='lightgray',\n",
    "    label='Other'\n",
    ")\n",
    " \n",
    "# Scatter plot for clone cells\n",
    "scatter1 = ax0.scatter(\n",
    "    adata.obsm['X_draw_graph_fa'][condition_h2023_6, 0],\n",
    "    adata.obsm['X_draw_graph_fa'][condition_h2023_6, 1],\n",
    "    s=10,\n",
    "    c='tab:blue',\n",
    "    label=clone\n",
    ")\n",
    "\n",
    "ax0.set_title(clone)\n",
    "ax0.axis('off')\n",
    "\n",
    "# Adjust the layout\n",
    "plt.tight_layout()\n",
    "plt.show()"
   ]
  },
  {
   "cell_type": "code",
   "execution_count": null,
   "id": "29b689c2-7ba9-4c9b-a075-dcffbcc5d840",
   "metadata": {},
   "outputs": [],
   "source": [
    "# next plot background cells (FA plot)\n",
    "with plt.rc_context({'figure.figsize': (4, 4)}):\n",
    "    sc.pl.draw_graph(adata, color=['mouse_ident'], frameon=False,\n",
    "                     legend_loc='right margin', s=50, save=True, palette=['lavender', #RPMA allograft\n",
    "                                                                                               'lavender', #RPM allograft\n",
    "                                                                                               'lavender', #RPM tumor\n",
    "                                                                                               'lavender', # RPMA 1\n",
    "                                                                                           'lavender',  # RPMA 2\n",
    "                                                                                           'lavender']) #RPMA 3"
   ]
  },
  {
   "cell_type": "code",
   "execution_count": null,
   "id": "e455c0dd-7098-44d7-8a1f-4339980dfb2f",
   "metadata": {},
   "outputs": [],
   "source": [
    "# Now going through process of selecting cells only from given clone, to generate connectivity FA plot\n",
    "\n",
    "# Select rows where 'CellTag_Clone' is 'specified clone' and get the corresponding indices\n",
    "indices_clone = df_ct[df_ct['CellTag_Clone'] == 'RPMA_clone_42'].index.tolist()\n",
    "\n",
    "# filter adata to just selected clone\n",
    "adata_clone = adata[indices_clone, :]\n",
    "\n",
    "del adata_clone.uns['iroot']\n",
    "sc.pp.neighbors(adata_clone, n_neighbors=35, use_rep='X_scVI_all_allograft_1.1')\n",
    "sc.tl.paga(adata_clone, groups='broad_cluster_names')"
   ]
  },
  {
   "cell_type": "code",
   "execution_count": null,
   "id": "5deab202-272e-413d-8456-2a41d1c1c7fc",
   "metadata": {},
   "outputs": [],
   "source": [
    "# plot connectivities graph\n",
    "with plt.rc_context({'figure.figsize': (9, 6)}):\n",
    "    sc.pl.paga_compare(\n",
    "    adata_clone, threshold=0.5, title='', right_margin=0.2, edge_width_scale=0.5,\n",
    "    legend_fontsize=12, fontsize=12, frameon=False, edges=True, save=True, legend_loc='',\n",
    "    color='broad_cluster_names', size=1500\n",
    "    )"
   ]
  }
 ],
 "metadata": {
  "kernelspec": {
   "display_name": "Python3.9_torch_env",
   "language": "python",
   "name": "pytorch"
  },
  "language_info": {
   "codemirror_mode": {
    "name": "ipython",
    "version": 3
   },
   "file_extension": ".py",
   "mimetype": "text/x-python",
   "name": "python",
   "nbconvert_exporter": "python",
   "pygments_lexer": "ipython3",
   "version": "3.9.18"
  }
 },
 "nbformat": 4,
 "nbformat_minor": 5
}
