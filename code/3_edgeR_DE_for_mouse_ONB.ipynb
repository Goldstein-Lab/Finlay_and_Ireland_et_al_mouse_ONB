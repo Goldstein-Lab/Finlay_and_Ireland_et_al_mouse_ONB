{
 "cells": [
  {
   "cell_type": "markdown",
   "id": "2cf50bd0-617b-4f24-8783-b1ea15aabaa5",
   "metadata": {},
   "source": [
    "# Prep environment"
   ]
  },
  {
   "cell_type": "markdown",
   "id": "38b1dc28-20ef-4473-92d1-a6785549111e",
   "metadata": {},
   "source": [
    "Portions of code adapted from Theis Lab Single Cell best practices, see for more details: https://www.sc-best-practices.org/conditions/differential_gene_expression.html"
   ]
  },
  {
   "cell_type": "markdown",
   "id": "56158ef7-31b8-4a96-ad70-ade4b6d86e09",
   "metadata": {},
   "source": [
    "Ensure that conda environment running has both Python and R installed"
   ]
  },
  {
   "cell_type": "code",
   "execution_count": null,
   "id": "a59e2452-5d54-4475-bcd7-f3d8cfc149c5",
   "metadata": {},
   "outputs": [],
   "source": [
    "import warnings\n",
    "\n",
    "warnings.filterwarnings(\"ignore\")\n",
    "\n",
    "import matplotlib.pyplot as plt\n",
    "import seaborn as sns\n",
    "import scanpy as sc\n",
    "import pandas as pd\n",
    "import numpy as np\n",
    "import random\n",
    "import sc_toolbox\n",
    "import anndata\n",
    "from statannot import add_stat_annotation\n",
    "\n",
    "import os\n",
    "os.environ['R_HOME']='/hpc/group/goldsteinlab/envs/Python_R_4_env/lib/R'\n",
    "\n",
    "import rpy2.rinterface_lib.callbacks\n",
    "import anndata2ri\n",
    "import logging\n",
    "\n",
    "from rpy2.robjects import pandas2ri\n",
    "from rpy2.robjects import r\n",
    "\n",
    "sc.settings.verbosity = 0\n",
    "rpy2.rinterface_lib.callbacks.logger.setLevel(logging.ERROR)\n",
    "\n",
    "pandas2ri.activate()\n",
    "anndata2ri.activate()\n",
    "\n",
    "%load_ext rpy2.ipython"
   ]
  },
  {
   "cell_type": "code",
   "execution_count": null,
   "id": "bb149c75-fab1-4719-90c3-a8b33701c8e8",
   "metadata": {},
   "outputs": [],
   "source": [
    "#Show specific size of pandas dataframe when produced\n",
    "pd.set_option('display.max_columns', 100)\n",
    "pd.set_option('display.max_rows', 100)"
   ]
  },
  {
   "cell_type": "code",
   "execution_count": null,
   "id": "45385ce9-eb9a-495f-9d90-aa378c99f03a",
   "metadata": {},
   "outputs": [],
   "source": [
    "%%R\n",
    ".libPaths( c( \"/hpc/group/goldsteinlab/envs/Python_R_4_env/lib/R\" , .libPaths() ) )"
   ]
  },
  {
   "cell_type": "code",
   "execution_count": null,
   "id": "ef74a4bd-46e9-4c66-9841-7a5f181c4945",
   "metadata": {},
   "outputs": [],
   "source": [
    "%%R\n",
    "setwd('/hpc/group/goldsteinlab/envs/Python_R_4_env/lib/R/library')"
   ]
  },
  {
   "cell_type": "code",
   "execution_count": null,
   "id": "0df99ee4-17fb-4ad1-971d-dc7de6d03a2e",
   "metadata": {},
   "outputs": [],
   "source": [
    "%%R\n",
    "library(\"Rcpp\")\n",
    "library(\"ggplot2\")\n",
    "library(\"ggrepel\")\n",
    "library(\"repr\")\n",
    "library('edgeR')\n",
    "library('SingleCellExperiment')\n",
    "library('scater')\n",
    "library('Seurat')"
   ]
  },
  {
   "cell_type": "markdown",
   "id": "427a0ad7-061e-477b-9435-fb7b16cf1dec",
   "metadata": {},
   "source": [
    "# Read in and prep dataset"
   ]
  },
  {
   "cell_type": "code",
   "execution_count": null,
   "id": "9053a706-667c-487c-b42e-db210ed34872",
   "metadata": {},
   "outputs": [],
   "source": [
    "os.chdir('/hpc/group/goldsteinlab/Python/ONB')\n",
    "adata_tumor=sc.read_h5ad('Primary_ONB_tumors_only_scvi.h5ad')"
   ]
  },
  {
   "cell_type": "code",
   "execution_count": null,
   "id": "6b9f2926-2746-4bf6-a8b8-381713162865",
   "metadata": {},
   "outputs": [],
   "source": [
    "# plot adata_tumor.obs['tumor_clusters']\n",
    "# this is what we will use for the DE, should nicely show RPM and RPMA\n",
    "fig, ax = plt.subplots(figsize=(6, 6))\n",
    "sc.pl.umap(adata_tumor, color=['tumor_clusters'],\n",
    "          legend_loc='on data', save=False, frameon=False, ax=ax)"
   ]
  },
  {
   "cell_type": "markdown",
   "id": "6ba4d1b6-b025-4d35-b759-9271ddb288eb",
   "metadata": {},
   "source": [
    "# Create pseudobulks"
   ]
  },
  {
   "cell_type": "code",
   "execution_count": null,
   "id": "c729cdab-76fe-4464-9a85-e152029ba612",
   "metadata": {},
   "outputs": [],
   "source": [
    "adata_tumor.obs.groupby(['mouse_ident', 'tumor_clusters']).apply(len)"
   ]
  },
  {
   "cell_type": "code",
   "execution_count": null,
   "id": "bcccef69-2f00-420c-b936-3c7e01d56d22",
   "metadata": {},
   "outputs": [],
   "source": [
    "adata=adata_tumor"
   ]
  },
  {
   "cell_type": "code",
   "execution_count": null,
   "id": "e2fbf950-0a21-445e-a2ce-798a6b52ef87",
   "metadata": {},
   "outputs": [],
   "source": [
    "#We need tumor_type (condition label), mouse_ident (replicate), and tumor_clusters (cell_type)\n",
    "\n",
    "#First create mouse-condition combination in metadata\n",
    "adata.obs[\"sample\"] = [\n",
    "    f\"{rep}_{l}\" for rep, l in zip(adata.obs[\"mouse_ident\"], adata.obs[\"tumor_type\"])\n",
    "]"
   ]
  },
  {
   "cell_type": "code",
   "execution_count": null,
   "id": "6931a115-6ced-4e23-b9d0-75aecb2e374e",
   "metadata": {},
   "outputs": [],
   "source": [
    "#Set categorical metadata\n",
    "adata.obs[\"replicate\"] = adata.obs[\"mouse_ident\"].astype(\"category\")\n",
    "adata.obs[\"label\"] = adata.obs[\"tumor_type\"].astype(\"category\")\n",
    "adata.obs[\"sample\"] = adata.obs[\"sample\"].astype(\"category\")\n",
    "adata.obs[\"cell_type\"] = adata.obs[\"tumor_clusters\"].astype(\"category\")"
   ]
  },
  {
   "cell_type": "code",
   "execution_count": null,
   "id": "d51818d9-9a45-4ea1-b18f-b8f8e2c7c89a",
   "metadata": {},
   "outputs": [],
   "source": [
    "\n",
    "NUM_OF_CELL_PER_DONOR = 20\n",
    "\n",
    "\n",
    "def aggregate_and_filter(\n",
    "    adata,\n",
    "    cell_identity,\n",
    "    donor_key=\"sample\",\n",
    "    condition_key=\"label\",\n",
    "    cell_identity_key=\"cell_type\",\n",
    "    obs_to_keep=[],  # which additional metadata to keep, e.g. gender, age, etc.\n",
    "    replicates_per_patient=3,\n",
    "):\n",
    "    # subset adata to the given cell identity\n",
    "    adata_cell_pop = adata[adata.obs[cell_identity_key] == cell_identity].copy()\n",
    "    # check which donors to keep according to the number of cells specified with NUM_OF_CELL_PER_DONOR\n",
    "    size_by_donor = adata_cell_pop.obs.groupby([donor_key]).size()\n",
    "    donors_to_drop = [\n",
    "        donor\n",
    "        for donor in size_by_donor.index\n",
    "        if size_by_donor[donor] <= NUM_OF_CELL_PER_DONOR\n",
    "    ]\n",
    "    if len(donors_to_drop) > 0:\n",
    "        print(\"Dropping the following samples:\")\n",
    "        print(donors_to_drop)\n",
    "    df = pd.DataFrame(columns=[*adata_cell_pop.var_names, *obs_to_keep])\n",
    "\n",
    "    adata_cell_pop.obs[donor_key] = adata_cell_pop.obs[donor_key].astype(\"category\")\n",
    "    for i, donor in enumerate(donors := adata_cell_pop.obs[donor_key].cat.categories):\n",
    "        print(f\"\\tProcessing donor {i+1} out of {len(donors)}...\", end=\"\\r\")\n",
    "        if donor not in donors_to_drop:\n",
    "            adata_donor = adata_cell_pop[adata_cell_pop.obs[donor_key] == donor]\n",
    "            # create replicates for each donor\n",
    "            indices = list(adata_donor.obs_names)\n",
    "            random.shuffle(indices)\n",
    "            indices = np.array_split(np.array(indices), replicates_per_patient)\n",
    "            for i, rep_idx in enumerate(indices):\n",
    "                adata_replicate = adata_donor[rep_idx]\n",
    "                # specify how to aggregate: sum gene expression for each gene for each donor and also keep the condition information\n",
    "                agg_dict = {gene: \"sum\" for gene in adata_replicate.var_names}\n",
    "                for obs in obs_to_keep:\n",
    "                    agg_dict[obs] = \"first\"\n",
    "                # create a df with all genes, donor and condition info\n",
    "                df_donor = pd.DataFrame(adata_replicate.X.A)\n",
    "                df_donor.index = adata_replicate.obs_names\n",
    "                df_donor.columns = adata_replicate.var_names\n",
    "                df_donor = df_donor.join(adata_replicate.obs[obs_to_keep])\n",
    "                # aggregate\n",
    "                df_donor = df_donor.groupby(donor_key).agg(agg_dict)\n",
    "                df_donor[donor_key] = donor\n",
    "                df.loc[f\"donor_{donor}_{i}\"] = df_donor.loc[donor]\n",
    "    print(\"\\n\")\n",
    "    # create AnnData object from the df\n",
    "    adata_cell_pop = sc.AnnData(\n",
    "        df[adata_cell_pop.var_names], obs=df.drop(columns=adata_cell_pop.var_names)\n",
    "    )\n",
    "    return adata_cell_pop"
   ]
  },
  {
   "cell_type": "code",
   "execution_count": null,
   "id": "7dfb113b-d429-4e82-bb11-65604f1d2aa5",
   "metadata": {},
   "outputs": [],
   "source": [
    "obs_to_keep = [\"label\", \"cell_type\", \"replicate\", \"sample\"]"
   ]
  },
  {
   "cell_type": "code",
   "execution_count": null,
   "id": "858ea6fc-1f0c-4cf4-b561-859e8eae6fff",
   "metadata": {},
   "outputs": [],
   "source": [
    "#Use raw counts matrix for edgeR anndata object\n",
    "adata.X = adata.layers[\"counts\"].copy()"
   ]
  },
  {
   "cell_type": "code",
   "execution_count": null,
   "id": "2f41fab0-7000-4bd6-9cf0-21f5dd36dab1",
   "metadata": {},
   "outputs": [],
   "source": [
    "#Create anndata object with pseudobulks\n",
    "cell_type = adata.obs[\"cell_type\"].cat.categories[0]\n",
    "print(\n",
    "    f'Processing {cell_type} (1 out of {len(adata.obs[\"cell_type\"].cat.categories)})...'\n",
    ")\n",
    "adata_pb = aggregate_and_filter(adata, cell_type, obs_to_keep=obs_to_keep)\n",
    "for i, cell_type in enumerate(adata.obs[\"cell_type\"].cat.categories[1:]):\n",
    "    print(\n",
    "        f'Processing {cell_type} ({i+2} out of {len(adata.obs[\"cell_type\"].cat.categories)})...'\n",
    "    )\n",
    "    adata_cell_type = aggregate_and_filter(adata, cell_type, obs_to_keep=obs_to_keep)"
   ]
  },
  {
   "cell_type": "code",
   "execution_count": null,
   "id": "d0729f21-394e-424d-8046-b1e1cf179b6c",
   "metadata": {},
   "outputs": [],
   "source": [
    "adata_cell_type.obs.groupby('sample').apply(len)"
   ]
  },
  {
   "cell_type": "code",
   "execution_count": null,
   "id": "b2ee9b6c-a222-411f-98eb-dce89a980162",
   "metadata": {},
   "outputs": [],
   "source": [
    "adata_pb.obs.groupby('sample').apply(len)"
   ]
  },
  {
   "cell_type": "code",
   "execution_count": null,
   "id": "520c609e-438e-492d-9083-0fb1ea54f5e7",
   "metadata": {},
   "outputs": [],
   "source": [
    "# code above does not appropriately concatenate the two sample categories\n",
    "# so can easily fix this with:\n",
    "\n",
    "#Convert anndata obs back to str prior to concatenation\n",
    "adata_pb.obs[\"replicate\"] = adata_pb.obs[\"replicate\"].astype(\"category\")\n",
    "adata_pb.obs[\"label\"] = adata_pb.obs[\"label\"].astype(\"category\")\n",
    "adata_pb.obs[\"sample\"] = adata_pb.obs[\"sample\"].astype(\"category\")\n",
    "adata_pb.obs[\"cell_type\"] = adata_pb.obs[\"cell_type\"].astype(\"category\")\n",
    "\n",
    "adata_cell_type.obs[\"replicate\"] = adata_cell_type.obs[\"replicate\"].astype(\"category\")\n",
    "adata_cell_type.obs[\"label\"] = adata_cell_type.obs[\"label\"].astype(\"category\")\n",
    "adata_cell_type.obs[\"sample\"] = adata_cell_type.obs[\"sample\"].astype(\"category\")\n",
    "adata_cell_type.obs[\"cell_type\"] = adata_cell_type.obs[\"cell_type\"].astype(\"category\")"
   ]
  },
  {
   "cell_type": "code",
   "execution_count": null,
   "id": "c606699d-d883-4fa9-8f3c-67e2f7577bc3",
   "metadata": {},
   "outputs": [],
   "source": [
    "#Concatenate datasets\n",
    "adata_pb1 = anndata.concat([adata_cell_type, adata_pb])"
   ]
  },
  {
   "cell_type": "code",
   "execution_count": null,
   "id": "b13036bf-5ba5-439e-b8f5-99bb304e3eac",
   "metadata": {},
   "outputs": [],
   "source": [
    "# generate df for export to R\n",
    "df=pd.DataFrame(data=adata_pb1.X, index=adata_pb1.obs_names, columns=adata_pb1.var_names)\n",
    "# transpose \n",
    "df=df.T"
   ]
  },
  {
   "cell_type": "code",
   "execution_count": null,
   "id": "d745d66c-1022-4fa4-9602-eddc7168466e",
   "metadata": {},
   "outputs": [],
   "source": [
    "# write df to csv\n",
    "df.to_csv('/hpc/group/goldsteinlab/R/Working_directory/RPM_vs_RPMA_gene_counts_psuedobulked.csv')"
   ]
  },
  {
   "cell_type": "markdown",
   "id": "01eae8b9-f882-4236-8812-6ef069c5211f",
   "metadata": {},
   "source": [
    "# edgeR processing"
   ]
  },
  {
   "cell_type": "code",
   "execution_count": null,
   "id": "69ef9f37-c83e-4619-9fc4-b549dcaf0355",
   "metadata": {},
   "outputs": [],
   "source": [
    "%%R\n",
    "setwd('/hpc/group/goldsteinlab/R/Working_directory/')"
   ]
  },
  {
   "cell_type": "code",
   "execution_count": null,
   "id": "b0b6bbe9-84ed-49fa-8ad0-350466fbc91f",
   "metadata": {},
   "outputs": [],
   "source": [
    "%%R\n",
    "# Read in data with R\n",
    "data <- read.csv('/hpc/group/goldsteinlab/R/Working_directory/RPM_vs_RPMA_gene_counts_psuedobulked.csv', row.names=1)"
   ]
  },
  {
   "cell_type": "code",
   "execution_count": null,
   "id": "33a8537c-b9ec-4976-8a7d-0cf60bb0d184",
   "metadata": {},
   "outputs": [],
   "source": [
    "%%R\n",
    "head(data)"
   ]
  },
  {
   "cell_type": "code",
   "execution_count": null,
   "id": "dd2d2563-7551-4c07-9fa5-9605b18dfafb",
   "metadata": {},
   "outputs": [],
   "source": [
    "%%R\n",
    "datagroups <- c(\"RPMA\", \"RPMA\", \"RPMA\", \"RPMA\", \"RPMA\", \"RPMA\",\n",
    "               \"RPM\", \"RPM\", \"RPM\")"
   ]
  },
  {
   "cell_type": "code",
   "execution_count": null,
   "id": "7e2b0de1-838c-41bc-8605-62ebd548836a",
   "metadata": {},
   "outputs": [],
   "source": [
    "%%R\n",
    "#Now filter genes with less than 2 cpm (standard here ~100)\n",
    "keep <- rowSums(cpm(d)>100) >= 2\n",
    "d <- d[keep,]\n",
    "dim(d)"
   ]
  },
  {
   "cell_type": "code",
   "execution_count": null,
   "id": "0d336fe1-772a-420c-a512-4d1cdf5688d9",
   "metadata": {},
   "outputs": [],
   "source": [
    "%%R\n",
    "#Normalize data (sc best practice textbook does this)\n",
    "d <- calcNormFactors(d)"
   ]
  },
  {
   "cell_type": "code",
   "execution_count": null,
   "id": "84bc39ff-2a3b-4679-affa-6849a828e5d6",
   "metadata": {},
   "outputs": [],
   "source": [
    "%%R\n",
    "#Plot data\n",
    "plotMDS(d, method=\"bcv\", col=as.numeric(d$samples$group))\n",
    "legend(\"bottomleft\", as.character(unique(d$samples$group)), col=1:3, pch=20)"
   ]
  },
  {
   "cell_type": "code",
   "execution_count": null,
   "id": "f7f2ea31-a799-4e49-9441-eb450ad19202",
   "metadata": {},
   "outputs": [],
   "source": [
    "%%R\n",
    "# estimate GLM dispersion\n",
    "design.mat <- model.matrix(~0 + d$samples$group)\n",
    "colnames(design.mat) <- levels(d$samples$group)\n",
    "d2 <- estimateGLMCommonDisp(d,design.mat)\n",
    "d2 <- estimateGLMTrendedDisp(d2,design.mat, method=\"power\")"
   ]
  },
  {
   "cell_type": "code",
   "execution_count": null,
   "id": "c22df4a4-5d7c-4c95-80d7-ed5d6c0c4f66",
   "metadata": {},
   "outputs": [],
   "source": [
    "%%R\n",
    "# now run DE using GLM\n",
    "fit <- glmQLFit(d2, design.mat)\n",
    "qlf <- glmQLFTest(fit, contrast=c(1, -1))\n",
    "tt <- topTags(qlf, n=Inf) #Note FDR is p-value adj, this is default BH correction\n",
    "tt <-tt$table"
   ]
  },
  {
   "cell_type": "code",
   "execution_count": null,
   "id": "626bf942-a0dd-4fe3-8f3d-ff7fd91ee879",
   "metadata": {},
   "outputs": [],
   "source": [
    "%%R\n",
    "#table\n",
    "tr <- glmTreat(fit, contrast=c(1, -1), lfc=1.5)\n",
    "print(head(topTags(tr), 30))"
   ]
  },
  {
   "cell_type": "markdown",
   "id": "51254dfd-4565-4787-8c28-6e7c4b0472d6",
   "metadata": {},
   "source": [
    "# generate associated plots"
   ]
  },
  {
   "cell_type": "code",
   "execution_count": null,
   "id": "b7078f5a-1149-4a3f-90f8-498af9c9bb14",
   "metadata": {},
   "outputs": [],
   "source": [
    "%%R\n",
    "# generate volcano plot\n",
    "\n",
    "# Create categories to color\n",
    "tt$Change <- \"NO\"\n",
    "tt $Change[tt$logFC > 0.6 & tt$FDR < 0.05] <- \"UP\"\n",
    "tt $Change[tt$logFC < -0.6 & tt$FDR < 0.05] <- \"DOWN\"\n",
    "mycolors <- c(\"#ff7f0e\",\"gray\", \"#984ea3\")\n",
    "names(mycolors) <- c(\"DOWN\", \"NO\", \"UP\")\n",
    "\n",
    "#Now add gene names (stored in rownames) as a columc called label, only labeling genes in Up or Down categories above\n",
    "tt$label <- NA\n",
    "labels <- rownames(tt)\n",
    "tt$label <- labels\n",
    "specific_labels <- c('Nhlh2','Neurod6', 'Myt1l', 'Neurod1',\n",
    "                     'Lhx2', 'Ebf1', 'Sox11', 'Insm1',\n",
    "                     'Mycl', 'Gap43', 'Tubb3', 'Grp',\n",
    "                     'Uchl1', 'Runx1t1', 'Ncam1',\n",
    "                     'Sox4', 'Sox2', 'Ezh2', 'Hes6',\n",
    "                     'Atrx', 'Cdk4', 'Nfib', 'Myc', 'Fosb',\n",
    "                     'Nfe2l2', 'Vim', 'Junb', 'Fos',\n",
    "                     'Meis2', 'Atf3', 'Krt18', 'Epcam',\n",
    "                     'Cdk6', 'Egfr', 'Plcg2', 'Meis1',\n",
    "                     'Foxi1', 'Calcr')\n",
    "\n",
    "tt$label[(!tt$label %in% specific_labels)] <- NA\n",
    "tt$label[!(tt$FDR < 0.05)] <- NA\n",
    "\n",
    "options(ggrepel.max.overlaps = Inf)\n",
    "p <- ggplot(data=tt, aes(x=logFC, y=-log10(FDR), col=Change, label=label)) + geom_point(alpha = 1/1.3) + theme_classic() + geom_vline(xintercept=c(-0.6, 0.6), linetype='dashed') +\n",
    "  geom_hline(yintercept=-log10(0.05), linetype='dashed') + scale_colour_manual(values = mycolors) + geom_text_repel(color=\"black\", size=6, min.segment.length = 0.05,\n",
    "                                                                                                                    nudge_y = 0.5, nudge_x = 0.5) + labs(title = \"RPM vs. RPMA\") +\n",
    "  theme(plot.title = element_text(hjust = 0.5, size=20, face='bold'), text = element_text(size = 25, face=\"bold\"),\n",
    "        axis.text.x = element_text(color = \"black\"),\n",
    "        axis.text.y = element_text(color = \"black\"))\n",
    "\n",
    "p\n"
   ]
  },
  {
   "cell_type": "code",
   "execution_count": null,
   "id": "46c55ec9-c76e-4c39-a96a-76e5eda71e33",
   "metadata": {},
   "outputs": [],
   "source": [
    "%%R\n",
    "# write de genes to csv\n",
    "head(tt)\n",
    "write.csv(tt, \"RPM_v_RPMA_glmQLF_model_de.csv\")"
   ]
  }
 ],
 "metadata": {
  "kernelspec": {
   "display_name": "Python3.9_torch_env",
   "language": "python",
   "name": "pytorch"
  },
  "language_info": {
   "codemirror_mode": {
    "name": "ipython",
    "version": 3
   },
   "file_extension": ".py",
   "mimetype": "text/x-python",
   "name": "python",
   "nbconvert_exporter": "python",
   "pygments_lexer": "ipython3",
   "version": "3.9.18"
  }
 },
 "nbformat": 4,
 "nbformat_minor": 5
}
